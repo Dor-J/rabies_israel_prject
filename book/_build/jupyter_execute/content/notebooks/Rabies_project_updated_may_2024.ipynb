{
 "cells": [
  {
   "cell_type": "markdown",
   "id": "445a1ef8-0ee9-4c2e-b5f8-899209d1157e",
   "metadata": {},
   "source": [
    "# Rabies in Israel, a data story EDA"
   ]
  },
  {
   "cell_type": "markdown",
   "id": "16323646",
   "metadata": {},
   "source": [
    "Please use the side-bar for faster navigation and enjoy the data analysis experince"
   ]
  },
  {
   "cell_type": "markdown",
   "id": "317c0392-aab6-4164-8b5b-158d46dffdf3",
   "metadata": {},
   "source": [
    "## Objectives\n",
    "The primary objective of this project is to evaluate the prevalence and distribution of the Rabies virus in Israel by analyzing reported cases over time. The project aims to identify trends in the appearance of Rabies across different regions and species, and to understand seasonal patterns in the data. This analysis will provide insights that could inform public health strategies and preventive measures against Rabies in Israel."
   ]
  },
  {
   "cell_type": "markdown",
   "id": "13044973",
   "metadata": {},
   "source": [
    "## EDA\n",
    "Implemntation of EDA including importing libreries for analysis and visualization, fetching data from API, pre processing the data (cleaning and removing unused columns) and backing up the dataframe in csv"
   ]
  },
  {
   "cell_type": "markdown",
   "id": "b5bcbb38-016f-40a4-920c-798b30351b35",
   "metadata": {},
   "source": [
    "### Libreries"
   ]
  },
  {
   "cell_type": "code",
   "execution_count": 2,
   "id": "4ae8104b-0f0b-49c8-a464-27d30de40c2a",
   "metadata": {},
   "outputs": [],
   "source": [
    "# Data manipulation\n",
    "import numpy as np\n",
    "import pandas as pd\n",
    "\n",
    "# Data visualization\n",
    "import matplotlib.pyplot as plt\n",
    "%matplotlib inline\n",
    "import seaborn as sns\n",
    "import plotly as plty\n",
    "import plotly.express as px\n",
    "import plotly.graph_objects as go\n",
    "import plotly.io as pio\n",
    "\n",
    "# API imports\n",
    "import requests\n",
    "\n",
    "# IFRAME\n",
    "from IPython.display import IFrame\n",
    "\n",
    "# Minift HTML\n",
    "import htmlmin"
   ]
  },
  {
   "cell_type": "markdown",
   "id": "519b83fd-027a-47fd-96a4-3899598b86c2",
   "metadata": {},
   "source": [
    "#### Get Data from data.gov.il"
   ]
  },
  {
   "cell_type": "code",
   "execution_count": 8,
   "id": "521b85d7-1689-445c-8914-7a641c7c04a5",
   "metadata": {},
   "outputs": [],
   "source": [
    "data_url = 'https://data.gov.il/api/3/action/datastore_search?resource_id=85cd1c27-7824-45ff-9982-22da0285fafb'  \n",
    "all_records = []\n",
    "\n",
    "# Fetch the first page to get the total number of records\n",
    "response = requests.get(data_url)\n",
    "if response.status_code == 200:\n",
    "    data = response.json()\n",
    "    total_records = data['result']['total']\n",
    "    all_records.extend(data['result']['records'])\n",
    "else:\n",
    "    print(f\"Failed to fetch data. Status code: {response.status_code}\")\n",
    "    total_records = 0\n",
    "\n",
    "# Calculate the number of iterations needed based on the limit (100 records per request in this case)\n",
    "iterations = (total_records // 100) + 1\n",
    "\n",
    "for i in range(1, iterations):\n",
    "    offset = i * 100\n",
    "    response = requests.get(f\"{data_url}&offset={offset}\")\n",
    "    if response.status_code == 200:\n",
    "        data = response.json()\n",
    "        all_records.extend(data['result']['records'])\n",
    "    else:\n",
    "        print(f\"Failed to fetch data at offset {offset}. Status code: {response.status_code}\")\n",
    "\n",
    "# Convert all_records to a DataFrame\n",
    "df_rabies_raw = pd.DataFrame(all_records)"
   ]
  },
  {
   "cell_type": "code",
   "execution_count": 10,
   "id": "ee230b4d",
   "metadata": {},
   "outputs": [
    {
     "name": "stdout",
     "output_type": "stream",
     "text": [
      "DataFrame saved as CSV at: ../assets/data/df_rabies_raw.csv\n"
     ]
    }
   ],
   "source": [
    "# Save DataFrame df_rabies_raw to CSV\n",
    "csv_file_path = '../assets/data/df_rabies_raw.csv' \n",
    "df_rabies_raw.to_csv(csv_file_path, index=False)\n",
    "\n",
    "print(f\"DataFrame saved as CSV at: {csv_file_path}\")"
   ]
  },
  {
   "cell_type": "code",
   "execution_count": 4,
   "id": "47c3f097",
   "metadata": {},
   "outputs": [
    {
     "name": "stdout",
     "output_type": "stream",
     "text": [
      "--------------------HEAD--------------------\n",
      "   _id  OBJECTID Animal_Lab_ID  Event        Date  \\\n",
      "0    1       711     A00508487   30.0  2024-05-26   \n",
      "1    2       710     A00507442   29.0  2024-05-12   \n",
      "2    3       709     A00506588   28.0  2024-04-30   \n",
      "3    4       706     A00506410   25.0  2024-04-29   \n",
      "4    5       707     A00506411   26.0  2024-04-29   \n",
      "\n",
      "                                          LinkToTest  \\\n",
      "0  https://www.gov.il/BlobFolder/reports/kalevet-...   \n",
      "1  https://www.gov.il/BlobFolder/reports/kalevet-...   \n",
      "2  https://www.gov.il/BlobFolder/reports/dalton-2...   \n",
      "3  https://www.gov.il/BlobFolder/reports/menahami...   \n",
      "4  https://www.gov.il/BlobFolder/reports/menahami...   \n",
      "\n",
      "                                            OpenLink  \\\n",
      "0  <a href=\"https://www.gov.il/BlobFolder/reports...   \n",
      "1  <a href=\"https://www.gov.il/BlobFolder/reports...   \n",
      "2  <a href=\"https://www.gov.il/BlobFolder/reports...   \n",
      "3  <a href=\"https://www.gov.il/BlobFolder/reports...   \n",
      "4  <a href=\"https://www.gov.il/BlobFolder/reports...   \n",
      "\n",
      "                                           LinkToMre  \\\n",
      "0  https://www.gov.il/BlobFolder/reports/kalevet-...   \n",
      "1  https://www.gov.il/BlobFolder/reports/kalevet-...   \n",
      "2  https://www.gov.il/BlobFolder/reports/dalton-2...   \n",
      "3  https://www.gov.il/BlobFolder/reports/menahami...   \n",
      "4  https://www.gov.il/BlobFolder/reports/menahami...   \n",
      "\n",
      "                                        LinkMoreOpen  Year  ...    RegionEng  \\\n",
      "0  <a href=\"https://www.gov.il/BlobFolder/reports...  2024  ...  Galil Golan   \n",
      "1  <a href=\"https://www.gov.il/BlobFolder/reports...  2024  ...       Amakim   \n",
      "2  <a href=\"https://www.gov.il/BlobFolder/reports...  2024  ...  Galil Golan   \n",
      "3  <a href=\"https://www.gov.il/BlobFolder/reports...  2024  ...       Amakim   \n",
      "4  <a href=\"https://www.gov.il/BlobFolder/reports...  2024  ...       Amakim   \n",
      "\n",
      "   RegionHeb SpeciesNameHeb Species SettlementHeb    SettlementEng  \\\n",
      "0  גליל גולן            כלב     NaN  טובא-זנגרייה  Tuba-Zangariyye   \n",
      "1      עמקים            כלב     NaN         אכסאל              NaN   \n",
      "2  גליל גולן            בקר   VII B         דלתון           Dalton   \n",
      "3      עמקים            צאן   VII A        מנחמיה        Menahemya   \n",
      "4      עמקים            צאן   VII A        מנחמיה        Menahemya   \n",
      "\n",
      "  LocationNotSettlementEng LocationNotSettlementHeb          x          y  \n",
      "0                      NaN                      NaN  35.594972  32.968016  \n",
      "1                      NaN                      NaN  35.325270  32.684085  \n",
      "2                      NaN                      NaN  35.491002  33.018510  \n",
      "3                      NaN                      NaN  35.555517  32.666332  \n",
      "4                      NaN                      NaN  35.556223  32.667221  \n",
      "\n",
      "[5 rows x 21 columns]\n",
      "--------------------COLUMNS--------------------\n",
      "Index(['_id', 'OBJECTID', 'Animal_Lab_ID', 'Event', 'Date', 'LinkToTest',\n",
      "       'OpenLink', 'LinkToMre', 'LinkMoreOpen', 'Year', 'SpeciesNameEng',\n",
      "       'RegionEng', 'RegionHeb', 'SpeciesNameHeb', 'Species', 'SettlementHeb',\n",
      "       'SettlementEng', 'LocationNotSettlementEng', 'LocationNotSettlementHeb',\n",
      "       'x', 'y'],\n",
      "      dtype='object')\n",
      "--------------------INFO--------------------\n",
      "<class 'pandas.core.frame.DataFrame'>\n",
      "RangeIndex: 2541 entries, 0 to 2540\n",
      "Data columns (total 21 columns):\n",
      " #   Column                    Non-Null Count  Dtype  \n",
      "---  ------                    --------------  -----  \n",
      " 0   _id                       2541 non-null   int64  \n",
      " 1   OBJECTID                  2541 non-null   int64  \n",
      " 2   Animal_Lab_ID             2541 non-null   object \n",
      " 3   Event                     2541 non-null   float64\n",
      " 4   Date                      2541 non-null   object \n",
      " 5   LinkToTest                813 non-null    object \n",
      " 6   OpenLink                  2541 non-null   object \n",
      " 7   LinkToMre                 1088 non-null   object \n",
      " 8   LinkMoreOpen              2541 non-null   object \n",
      " 9   Year                      2541 non-null   int64  \n",
      " 10  SpeciesNameEng            2540 non-null   object \n",
      " 11  RegionEng                 2541 non-null   object \n",
      " 12  RegionHeb                 2538 non-null   object \n",
      " 13  SpeciesNameHeb            2541 non-null   object \n",
      " 14  Species                   2424 non-null   object \n",
      " 15  SettlementHeb             2476 non-null   object \n",
      " 16  SettlementEng             2456 non-null   object \n",
      " 17  LocationNotSettlementEng  65 non-null     object \n",
      " 18  LocationNotSettlementHeb  67 non-null     object \n",
      " 19  x                         2536 non-null   float64\n",
      " 20  y                         2536 non-null   float64\n",
      "dtypes: float64(3), int64(3), object(15)\n",
      "memory usage: 417.0+ KB\n",
      "None\n",
      "--------------------DESCRIBE--------------------\n",
      "               _id     OBJECTID        Event         Year            x  \\\n",
      "count  2541.000000  2541.000000  2541.000000  2541.000000  2536.000000   \n",
      "mean    426.903581   284.523022    26.731602  2013.158993    35.504522   \n",
      "std     167.200638   156.885943    24.194007     4.544520     0.205087   \n",
      "min       1.000000     1.000000     1.000000  2006.000000    34.728377   \n",
      "25%     309.000000   167.000000     9.000000  2009.000000    35.367842   \n",
      "50%     455.000000   277.000000    21.000000  2012.000000    35.531909   \n",
      "75%     568.000000   391.000000    38.000000  2017.000000    35.653766   \n",
      "max     663.000000   711.000000   134.000000  2024.000000    35.836893   \n",
      "\n",
      "                 y  \n",
      "count  2536.000000  \n",
      "mean     32.814870  \n",
      "std       0.457091  \n",
      "min      29.833717  \n",
      "25%      32.566286  \n",
      "50%      32.939809  \n",
      "75%      33.128167  \n",
      "max      33.282874  \n"
     ]
    }
   ],
   "source": [
    "# OPTIONAL: get data df_rabies_raw from the csv\n",
    "\n",
    "# Define the path to the CSV file\n",
    "csv_file_path = '../assets/data/df_rabies_raw.csv'\n",
    "\n",
    "# Load the DataFrame from the CSV file\n",
    "df_rabies_raw = pd.read_csv(csv_file_path)\n",
    "\n",
    "# Print the first few rows of the DataFrame to verify\n",
    "print('-'*20 + 'HEAD' + '-'*20)\n",
    "print(df_rabies_raw.head())\n",
    "print('-'*20 + 'COLUMNS' + '-'*20)\n",
    "print(df_rabies_raw.columns)\n",
    "print('-'*20 + 'INFO' + '-'*20)\n",
    "print(df_rabies_raw.info())\n",
    "print('-'*20 + 'DESCRIBE' + '-'*20)\n",
    "print(df_rabies_raw.describe())"
   ]
  },
  {
   "cell_type": "markdown",
   "id": "aa8e061d-7224-4fff-ace6-bee8217fb45f",
   "metadata": {},
   "source": [
    "#### Data Exploration"
   ]
  },
  {
   "cell_type": "code",
   "execution_count": 4,
   "id": "daca56c1-24fd-4c6f-a91d-92eed6b14760",
   "metadata": {},
   "outputs": [
    {
     "name": "stdout",
     "output_type": "stream",
     "text": [
      "--------------------HEAD--------------------\n",
      "   _id  OBJECTID Animal_Lab_ID  Event        Date  \\\n",
      "0    1       711     A00508487   30.0  2024-05-26   \n",
      "1    2       710     A00507442   29.0  2024-05-12   \n",
      "2    3       709     A00506588   28.0  2024-04-30   \n",
      "3    4       706     A00506410   25.0  2024-04-29   \n",
      "4    5       707     A00506411   26.0  2024-04-29   \n",
      "\n",
      "                                          LinkToTest  \\\n",
      "0  https://www.gov.il/BlobFolder/reports/kalevet-...   \n",
      "1  https://www.gov.il/BlobFolder/reports/kalevet-...   \n",
      "2  https://www.gov.il/BlobFolder/reports/dalton-2...   \n",
      "3  https://www.gov.il/BlobFolder/reports/menahami...   \n",
      "4  https://www.gov.il/BlobFolder/reports/menahami...   \n",
      "\n",
      "                                            OpenLink  \\\n",
      "0  <a href=\"https://www.gov.il/BlobFolder/reports...   \n",
      "1  <a href=\"https://www.gov.il/BlobFolder/reports...   \n",
      "2  <a href=\"https://www.gov.il/BlobFolder/reports...   \n",
      "3  <a href=\"https://www.gov.il/BlobFolder/reports...   \n",
      "4  <a href=\"https://www.gov.il/BlobFolder/reports...   \n",
      "\n",
      "                                           LinkToMre  \\\n",
      "0  https://www.gov.il/BlobFolder/reports/kalevet-...   \n",
      "1  https://www.gov.il/BlobFolder/reports/kalevet-...   \n",
      "2  https://www.gov.il/BlobFolder/reports/dalton-2...   \n",
      "3  https://www.gov.il/BlobFolder/reports/menahami...   \n",
      "4  https://www.gov.il/BlobFolder/reports/menahami...   \n",
      "\n",
      "                                        LinkMoreOpen  Year  ...    RegionEng  \\\n",
      "0  <a href=\"https://www.gov.il/BlobFolder/reports...  2024  ...  Galil Golan   \n",
      "1  <a href=\"https://www.gov.il/BlobFolder/reports...  2024  ...       Amakim   \n",
      "2  <a href=\"https://www.gov.il/BlobFolder/reports...  2024  ...  Galil Golan   \n",
      "3  <a href=\"https://www.gov.il/BlobFolder/reports...  2024  ...       Amakim   \n",
      "4  <a href=\"https://www.gov.il/BlobFolder/reports...  2024  ...       Amakim   \n",
      "\n",
      "   RegionHeb SpeciesNameHeb Species SettlementHeb    SettlementEng  \\\n",
      "0  גליל גולן            כלב     NaN  טובא-זנגרייה  Tuba-Zangariyye   \n",
      "1      עמקים            כלב     NaN         אכסאל              NaN   \n",
      "2  גליל גולן            בקר   VII B         דלתון           Dalton   \n",
      "3      עמקים            צאן   VII A        מנחמיה        Menahemya   \n",
      "4      עמקים            צאן   VII A        מנחמיה        Menahemya   \n",
      "\n",
      "  LocationNotSettlementEng LocationNotSettlementHeb          x          y  \n",
      "0                      NaN                      NaN  35.594972  32.968016  \n",
      "1                      NaN                      NaN  35.325270  32.684085  \n",
      "2                      NaN                      NaN  35.491002  33.018510  \n",
      "3                      NaN                      NaN  35.555517  32.666332  \n",
      "4                      NaN                      NaN  35.556223  32.667221  \n",
      "\n",
      "[5 rows x 21 columns]\n",
      "--------------------COLUMNS--------------------\n",
      "Index(['_id', 'OBJECTID', 'Animal_Lab_ID', 'Event', 'Date', 'LinkToTest',\n",
      "       'OpenLink', 'LinkToMre', 'LinkMoreOpen', 'Year', 'SpeciesNameEng',\n",
      "       'RegionEng', 'RegionHeb', 'SpeciesNameHeb', 'Species', 'SettlementHeb',\n",
      "       'SettlementEng', 'LocationNotSettlementEng', 'LocationNotSettlementHeb',\n",
      "       'x', 'y'],\n",
      "      dtype='object')\n",
      "--------------------INFO--------------------\n",
      "<class 'pandas.core.frame.DataFrame'>\n",
      "RangeIndex: 2541 entries, 0 to 2540\n",
      "Data columns (total 21 columns):\n",
      " #   Column                    Non-Null Count  Dtype  \n",
      "---  ------                    --------------  -----  \n",
      " 0   _id                       2541 non-null   int64  \n",
      " 1   OBJECTID                  2541 non-null   int64  \n",
      " 2   Animal_Lab_ID             2541 non-null   object \n",
      " 3   Event                     2541 non-null   float64\n",
      " 4   Date                      2541 non-null   object \n",
      " 5   LinkToTest                813 non-null    object \n",
      " 6   OpenLink                  2541 non-null   object \n",
      " 7   LinkToMre                 1088 non-null   object \n",
      " 8   LinkMoreOpen              2541 non-null   object \n",
      " 9   Year                      2541 non-null   int64  \n",
      " 10  SpeciesNameEng            2540 non-null   object \n",
      " 11  RegionEng                 2541 non-null   object \n",
      " 12  RegionHeb                 2538 non-null   object \n",
      " 13  SpeciesNameHeb            2541 non-null   object \n",
      " 14  Species                   2424 non-null   object \n",
      " 15  SettlementHeb             2476 non-null   object \n",
      " 16  SettlementEng             2456 non-null   object \n",
      " 17  LocationNotSettlementEng  65 non-null     object \n",
      " 18  LocationNotSettlementHeb  67 non-null     object \n",
      " 19  x                         2536 non-null   float64\n",
      " 20  y                         2536 non-null   float64\n",
      "dtypes: float64(3), int64(3), object(15)\n",
      "memory usage: 417.0+ KB\n",
      "None\n",
      "--------------------DESCRIBE--------------------\n",
      "               _id     OBJECTID        Event         Year            x  \\\n",
      "count  2541.000000  2541.000000  2541.000000  2541.000000  2536.000000   \n",
      "mean    426.903581   284.523022    26.731602  2013.158993    35.504522   \n",
      "std     167.200638   156.885943    24.194007     4.544520     0.205087   \n",
      "min       1.000000     1.000000     1.000000  2006.000000    34.728377   \n",
      "25%     309.000000   167.000000     9.000000  2009.000000    35.367842   \n",
      "50%     455.000000   277.000000    21.000000  2012.000000    35.531909   \n",
      "75%     568.000000   391.000000    38.000000  2017.000000    35.653766   \n",
      "max     663.000000   711.000000   134.000000  2024.000000    35.836893   \n",
      "\n",
      "                 y  \n",
      "count  2536.000000  \n",
      "mean     32.814870  \n",
      "std       0.457091  \n",
      "min      29.833717  \n",
      "25%      32.566286  \n",
      "50%      32.939809  \n",
      "75%      33.128167  \n",
      "max      33.282874  \n"
     ]
    }
   ],
   "source": [
    "print('-'*20 + 'HEAD'+'-'*20)\n",
    "print(df_rabies_raw.head())\n",
    "print('-'*20 + 'COLUMNS'+'-'*20)\n",
    "print(df_rabies_raw.columns)\n",
    "print('-'*20 + 'INFO'+'-'*20)\n",
    "print(df_rabies_raw.info())\n",
    "print('-'*20 + 'DESCRIBE'+'-'*20)\n",
    "print(df_rabies_raw.describe())"
   ]
  },
  {
   "cell_type": "markdown",
   "id": "bde76fbf-9ad8-4494-9aff-0998697a93c8",
   "metadata": {},
   "source": [
    "### Data preprocessing plan\n",
    "\n",
    "* OBJECTID - set as primery key\n",
    "* Animal_Lab_ID - as is\n",
    "* Event, Species - as is\n",
    "* Date - set as pandas date format\n",
    "* LinkToTest, OpenLink, LinkToMre, LinkMoreOpen - remove \n",
    "* Year - remove due to redundancy\n",
    "* RegionEng, SpeciesNameEng, SettlementEng, LocationNotSettlementEng - as is\n",
    "* RegionHeb, SpeciesNameHeb SettlementHeb,LocationNotSettlementHeb, x, y - remove"
   ]
  },
  {
   "cell_type": "code",
   "execution_count": 5,
   "id": "b1b711ef-62a9-4d5c-af0d-d63cf83a41b4",
   "metadata": {},
   "outputs": [
    {
     "name": "stdout",
     "output_type": "stream",
     "text": [
      "--------------------COLUMNS--------------------\n",
      "Index(['_id', 'OBJECTID', 'Animal_Lab_ID', 'Event', 'Date', 'LinkToTest',\n",
      "       'OpenLink', 'LinkToMre', 'LinkMoreOpen', 'Year', 'SpeciesNameEng',\n",
      "       'RegionEng', 'RegionHeb', 'SpeciesNameHeb', 'Species', 'SettlementHeb',\n",
      "       'SettlementEng', 'LocationNotSettlementEng', 'LocationNotSettlementHeb',\n",
      "       'x', 'y'],\n",
      "      dtype='object')\n",
      "          OBJECTID        Event                           Date         Year  \\\n",
      "count  2541.000000  2541.000000                           2541  2541.000000   \n",
      "mean    284.523022    26.731602  2013-09-14 21:08:17.284533760  2013.158993   \n",
      "min       1.000000     1.000000            2006-02-28 00:00:00  2006.000000   \n",
      "25%     167.000000     9.000000            2009-11-19 00:00:00  2009.000000   \n",
      "50%     277.000000    21.000000            2012-05-29 00:00:00  2012.000000   \n",
      "75%     391.000000    38.000000            2017-11-05 00:00:00  2017.000000   \n",
      "max     711.000000   134.000000            2024-05-26 00:00:00  2024.000000   \n",
      "std     156.885943    24.194007                            NaN     4.544520   \n",
      "\n",
      "             Month  \n",
      "count  2541.000000  \n",
      "mean      7.062180  \n",
      "min       1.000000  \n",
      "25%       4.000000  \n",
      "50%       8.000000  \n",
      "75%      11.000000  \n",
      "max      12.000000  \n",
      "std       3.752489  \n",
      "Cleaned DataFrame saved as CSV at: ../assets/data/df_rabies_cleaned.csv\n"
     ]
    }
   ],
   "source": [
    "# Verify columns\n",
    "print('-'*20 + 'COLUMNS' + '-'*20)\n",
    "print(df_rabies_raw.columns)\n",
    "\n",
    "# Add or refill _id as auto-incrementing integer starting from 1\n",
    "df_rabies_raw['_id'] = range(1, len(df_rabies_raw) + 1)\n",
    "\n",
    "# Check if _id exists in the DataFrame\n",
    "if '_id' not in df_rabies_raw.columns:\n",
    "    raise KeyError(\"_id column is missing from the DataFrame. Please check the data source.\")\n",
    "\n",
    "# Ensure OBJECTID is unique and has no missing values\n",
    "if df_rabies_raw['_id'].is_unique and not df_rabies_raw['_id'].isnull().any():\n",
    "    df_rabies_raw.set_index('_id', inplace=True)\n",
    "else:\n",
    "    raise ValueError(\"_id column cannot be used as a primary key due to duplicates or missing values.\")\n",
    "\n",
    "# Convert Date to pandas datetime format\n",
    "df_rabies_raw['Date'] = pd.to_datetime(df_rabies_raw['Date'])\n",
    "\n",
    "# Remove LinkToTest, OpenLink, LinkToMre, LinkMoreOpen, Year\n",
    "df_rabies_raw.drop(['LinkToTest', 'OpenLink', 'LinkToMre', 'LinkMoreOpen', 'Year'], axis=1, inplace=True)\n",
    "\n",
    "# Remove RegionHeb, SpeciesNameHeb, SettlementHeb, LocationNotSettlementHeb, x, y\n",
    "df_rabies_raw.drop(['RegionHeb', 'SpeciesNameHeb', 'SettlementHeb', 'LocationNotSettlementHeb', 'x', 'y'], axis=1, inplace=True)\n",
    "\n",
    "# Add Year column for visualizations\n",
    "df_rabies_raw['Year'] = df_rabies_raw['Date'].dt.year\n",
    "\n",
    "# Extract month from Date\n",
    "df_rabies_raw['Month'] = df_rabies_raw['Date'].dt.month\n",
    "\n",
    "print(df_rabies_raw.describe())\n",
    "\n",
    "# Save the cleaned DataFrame to CSV\n",
    "csv_file_path = '../assets/data/df_rabies_cleaned.csv'\n",
    "df_rabies_raw.to_csv(csv_file_path, index=True)\n",
    "\n",
    "print(f\"Cleaned DataFrame saved as CSV at: {csv_file_path}\")\n"
   ]
  },
  {
   "cell_type": "code",
   "execution_count": 6,
   "id": "eb831716",
   "metadata": {},
   "outputs": [],
   "source": [
    "# helper consts\n",
    "\n",
    "# Define month names for x-axis labels\n",
    "month_names = ['Jan', 'Feb', 'Mar', 'Apr', 'May', 'Jun', 'Jul', 'Aug', 'Sep', 'Oct', 'Nov', 'Dec']"
   ]
  },
  {
   "cell_type": "code",
   "execution_count": 14,
   "id": "267a1c16-66ac-485f-8f3a-02e097826c52",
   "metadata": {},
   "outputs": [
    {
     "name": "stdout",
     "output_type": "stream",
     "text": [
      "--------------------HEAD--------------------\n",
      "     OBJECTID Animal_Lab_ID  Event       Date SpeciesNameEng    RegionEng  \\\n",
      "_id                                                                         \n",
      "1         711     A00508487   30.0 2024-05-26            Dog  Galil Golan   \n",
      "2         710     A00507442   29.0 2024-05-12            Dog       Amakim   \n",
      "3         709     A00506588   28.0 2024-04-30         Cattle  Galil Golan   \n",
      "4         706     A00506410   25.0 2024-04-29          Sheep       Amakim   \n",
      "5         707     A00506411   26.0 2024-04-29          Sheep       Amakim   \n",
      "\n",
      "    Species    SettlementEng LocationNotSettlementEng  Year  \n",
      "_id                                                          \n",
      "1       NaN  Tuba-Zangariyye                      NaN  2024  \n",
      "2       NaN              NaN                      NaN  2024  \n",
      "3     VII B           Dalton                      NaN  2024  \n",
      "4     VII A        Menahemya                      NaN  2024  \n",
      "5     VII A        Menahemya                      NaN  2024  \n",
      "--------------------COLUMNS--------------------\n",
      "Index(['OBJECTID', 'Animal_Lab_ID', 'Event', 'Date', 'SpeciesNameEng',\n",
      "       'RegionEng', 'Species', 'SettlementEng', 'LocationNotSettlementEng',\n",
      "       'Year'],\n",
      "      dtype='object')\n",
      "--------------------INFO--------------------\n",
      "<class 'pandas.core.frame.DataFrame'>\n",
      "Index: 2541 entries, 1 to 2541\n",
      "Data columns (total 10 columns):\n",
      " #   Column                    Non-Null Count  Dtype         \n",
      "---  ------                    --------------  -----         \n",
      " 0   OBJECTID                  2541 non-null   int64         \n",
      " 1   Animal_Lab_ID             2541 non-null   object        \n",
      " 2   Event                     2541 non-null   float64       \n",
      " 3   Date                      2541 non-null   datetime64[ns]\n",
      " 4   SpeciesNameEng            2540 non-null   object        \n",
      " 5   RegionEng                 2541 non-null   object        \n",
      " 6   Species                   2424 non-null   object        \n",
      " 7   SettlementEng             2456 non-null   object        \n",
      " 8   LocationNotSettlementEng  65 non-null     object        \n",
      " 9   Year                      2541 non-null   int32         \n",
      "dtypes: datetime64[ns](1), float64(1), int32(1), int64(1), object(6)\n",
      "memory usage: 208.4+ KB\n",
      "None\n",
      "--------------------DESCRIBE--------------------\n",
      "          OBJECTID        Event                           Date         Year\n",
      "count  2541.000000  2541.000000                           2541  2541.000000\n",
      "mean    284.523022    26.731602  2013-09-14 21:08:17.284533760  2013.158993\n",
      "min       1.000000     1.000000            2006-02-28 00:00:00  2006.000000\n",
      "25%     167.000000     9.000000            2009-11-19 00:00:00  2009.000000\n",
      "50%     277.000000    21.000000            2012-05-29 00:00:00  2012.000000\n",
      "75%     391.000000    38.000000            2017-11-05 00:00:00  2017.000000\n",
      "max     711.000000   134.000000            2024-05-26 00:00:00  2024.000000\n",
      "std     156.885943    24.194007                            NaN     4.544520\n"
     ]
    }
   ],
   "source": [
    "print('-'*20 + 'HEAD'+'-'*20)\n",
    "print(df_rabies_raw.head())\n",
    "print('-'*20 + 'COLUMNS'+'-'*20)\n",
    "print(df_rabies_raw.columns)\n",
    "print('-'*20 + 'INFO'+'-'*20)\n",
    "print(df_rabies_raw.info())\n",
    "print('-'*20 + 'DESCRIBE'+'-'*20)\n",
    "print(df_rabies_raw.describe())"
   ]
  },
  {
   "cell_type": "markdown",
   "id": "ebb32ffa-c0cc-4ef3-a308-70307caf905b",
   "metadata": {},
   "source": [
    "## Data Visualizations"
   ]
  },
  {
   "cell_type": "markdown",
   "id": "0897f7c0",
   "metadata": {},
   "source": [
    "#### Count of Rabies events by Species - Seaborn"
   ]
  },
  {
   "cell_type": "code",
   "execution_count": 7,
   "id": "5c078a58-40e4-44ca-b96b-1899ecd0471b",
   "metadata": {},
   "outputs": [
    {
     "data": {
      "image/png": "[encoded data removed]",
      "text/plain": [
       "<Figure size 1400x700 with 1 Axes>"
      ]
     },
     "metadata": {},
     "output_type": "display_data"
    }
   ],
   "source": [
    "## Count of Rabies events by Species Count plot\n",
    "\n",
    "# Set the aesthetic style of the plots\n",
    "sns.set_style(\"whitegrid\")\n",
    "\n",
    "# Create the count plot for SpeciesNameEng\n",
    "plt.figure(figsize=(14, 7))\n",
    "ax = sns.countplot(data=df_rabies_raw, \n",
    "                   x='SpeciesNameEng', \n",
    "                   order=df_rabies_raw['SpeciesNameEng'].value_counts().index, \n",
    "                   hue='SpeciesNameEng', \n",
    "                   palette='viridis', \n",
    "                   dodge=False, \n",
    "                   legend=False)\n",
    "\n",
    "# Add count labels on top of the bars\n",
    "for p in ax.patches:\n",
    "    ax.annotate(f'{p.get_height()}', \n",
    "                (p.get_x() + p.get_width() / 2., p.get_height()), \n",
    "                ha='center', va='center', \n",
    "                xytext=(0, 10), \n",
    "                textcoords='offset points', \n",
    "                fontsize=12\n",
    "                 )\n",
    "\n",
    "plt.title('Count of Rabies events by Species', fontsize=16)\n",
    "plt.xlabel('Species', fontsize=14)\n",
    "plt.ylabel('Count', fontsize=14)\n",
    "plt.xticks(rotation=45, fontsize=12)  # Rotate x-labels and adjust font size\n",
    "plt.yticks(fontsize=12)\n",
    "\n",
    "# Adding a grid\n",
    "plt.grid(True, which='both', linestyle='--', linewidth=0.7, alpha=0.7)\n",
    "\n",
    "plt.show()"
   ]
  },
  {
   "cell_type": "markdown",
   "id": "8c959eeb",
   "metadata": {},
   "source": [
    "#### Interactive Count of Rabies events by Species - Plotly"
   ]
  },
  {
   "cell_type": "code",
   "execution_count": 8,
   "id": "ceae3544",
   "metadata": {},
   "outputs": [
    {
     "data": {
      "application/vnd.plotly.v1+json": {
       "config": {
        "plotlyServerURL": "https://plot.ly"
       },
       "data": [
        {
         "marker": {
          "color": [
           "#636EFA",
           "#EF553B",
           "#00CC96",
           "#AB63FA",
           "#FFA15A",
           "#19D3F3",
           "#FF6692",
           "#B6E880",
           "#FF97FF",
           "#FECB52",
           "#636EFA",
           "#EF553B",
           "#00CC96"
          ]
         },
         "type": "bar",
         "x": [
          "Dog",
          "Jackal",
          "Cattle",
          "Fox",
          "Sheep",
          "Wolf",
          "Cat",
          "Horse",
          "Badger",
          "Donkey",
          "Martes",
          "Mongoose",
          "Cow"
         ],
         "y": [
          1022,
          710,
          418,
          128,
          67,
          65,
          47,
          29,
          26,
          12,
          7,
          7,
          2
         ]
        }
       ],
       "layout": {
        "legend": {
         "title": {
          "text": "Species"
         }
        },
        "template": {
         "data": {
          "bar": [
           {
            "error_x": {
             "color": "#2a3f5f"
            },
            "error_y": {
             "color": "#2a3f5f"
            },
            "marker": {
             "line": {
              "color": "#E5ECF6",
              "width": 0.5
             },
             "pattern": {
              "fillmode": "overlay",
              "size": 10,
              "solidity": 0.2
             }
            },
            "type": "bar"
           }
          ],
          "barpolar": [
           {
            "marker": {
             "line": {
              "color": "#E5ECF6",
              "width": 0.5
             },
             "pattern": {
              "fillmode": "overlay",
              "size": 10,
              "solidity": 0.2
             }
            },
            "type": "barpolar"
           }
          ],
          "carpet": [
           {
            "aaxis": {
             "endlinecolor": "#2a3f5f",
             "gridcolor": "white",
             "linecolor": "white",
             "minorgridcolor": "white",
             "startlinecolor": "#2a3f5f"
            },
            "baxis": {
             "endlinecolor": "#2a3f5f",
             "gridcolor": "white",
             "linecolor": "white",
             "minorgridcolor": "white",
             "startlinecolor": "#2a3f5f"
            },
            "type": "carpet"
           }
          ],
          "choropleth": [
           {
            "colorbar": {
             "outlinewidth": 0,
             "ticks": ""
            },
            "type": "choropleth"
           }
          ],
          "contour": [
           {
            "colorbar": {
             "outlinewidth": 0,
             "ticks": ""
            },
            "colorscale": [
             [
              0,
              "#0d0887"
             ],
             [
              0.1111111111111111,
              "#46039f"
             ],
             [
              0.2222222222222222,
              "#7201a8"
             ],
             [
              0.3333333333333333,
              "#9c179e"
             ],
             [
              0.4444444444444444,
              "#bd3786"
             ],
             [
              0.5555555555555556,
              "#d8576b"
             ],
             [
              0.6666666666666666,
              "#ed7953"
             ],
             [
              0.7777777777777778,
              "#fb9f3a"
             ],
             [
              0.8888888888888888,
              "#fdca26"
             ],
             [
              1,
              "#f0f921"
             ]
            ],
            "type": "contour"
           }
          ],
          "contourcarpet": [
           {
            "colorbar": {
             "outlinewidth": 0,
             "ticks": ""
            },
            "type": "contourcarpet"
           }
          ],
          "heatmap": [
           {
            "colorbar": {
             "outlinewidth": 0,
             "ticks": ""
            },
            "colorscale": [
             [
              0,
              "#0d0887"
             ],
             [
              0.1111111111111111,
              "#46039f"
             ],
             [
              0.2222222222222222,
              "#7201a8"
             ],
             [
              0.3333333333333333,
              "#9c179e"
             ],
             [
              0.4444444444444444,
              "#bd3786"
             ],
             [
              0.5555555555555556,
              "#d8576b"
             ],
             [
              0.6666666666666666,
              "#ed7953"
             ],
             [
              0.7777777777777778,
              "#fb9f3a"
             ],
             [
              0.8888888888888888,
              "#fdca26"
             ],
             [
              1,
              "#f0f921"
             ]
            ],
            "type": "heatmap"
           }
          ],
          "heatmapgl": [
           {
            "colorbar": {
             "outlinewidth": 0,
             "ticks": ""
            },
            "colorscale": [
             [
              0,
              "#0d0887"
             ],
             [
              0.1111111111111111,
              "#46039f"
             ],
             [
              0.2222222222222222,
              "#7201a8"
             ],
             [
              0.3333333333333333,
              "#9c179e"
             ],
             [
              0.4444444444444444,
              "#bd3786"
             ],
             [
              0.5555555555555556,
              "#d8576b"
             ],
             [
              0.6666666666666666,
              "#ed7953"
             ],
             [
              0.7777777777777778,
              "#fb9f3a"
             ],
             [
              0.8888888888888888,
              "#fdca26"
             ],
             [
              1,
              "#f0f921"
             ]
            ],
            "type": "heatmapgl"
           }
          ],
          "histogram": [
           {
            "marker": {
             "pattern": {
              "fillmode": "overlay",
              "size": 10,
              "solidity": 0.2
             }
            },
            "type": "histogram"
           }
          ],
          "histogram2d": [
           {
            "colorbar": {
             "outlinewidth": 0,
             "ticks": ""
            },
            "colorscale": [
             [
              0,
              "#0d0887"
             ],
             [
              0.1111111111111111,
              "#46039f"
             ],
             [
              0.2222222222222222,
              "#7201a8"
             ],
             [
              0.3333333333333333,
              "#9c179e"
             ],
             [
              0.4444444444444444,
              "#bd3786"
             ],
             [
              0.5555555555555556,
              "#d8576b"
             ],
             [
              0.6666666666666666,
              "#ed7953"
             ],
             [
              0.7777777777777778,
              "#fb9f3a"
             ],
             [
              0.8888888888888888,
              "#fdca26"
             ],
             [
              1,
              "#f0f921"
             ]
            ],
            "type": "histogram2d"
           }
          ],
          "histogram2dcontour": [
           {
            "colorbar": {
             "outlinewidth": 0,
             "ticks": ""
            },
            "colorscale": [
             [
              0,
              "#0d0887"
             ],
             [
              0.1111111111111111,
              "#46039f"
             ],
             [
              0.2222222222222222,
              "#7201a8"
             ],
             [
              0.3333333333333333,
              "#9c179e"
             ],
             [
              0.4444444444444444,
              "#bd3786"
             ],
             [
              0.5555555555555556,
              "#d8576b"
             ],
             [
              0.6666666666666666,
              "#ed7953"
             ],
             [
              0.7777777777777778,
              "#fb9f3a"
             ],
             [
              0.8888888888888888,
              "#fdca26"
             ],
             [
              1,
              "#f0f921"
             ]
            ],
            "type": "histogram2dcontour"
           }
          ],
          "mesh3d": [
           {
            "colorbar": {
             "outlinewidth": 0,
             "ticks": ""
            },
            "type": "mesh3d"
           }
          ],
          "parcoords": [
           {
            "line": {
             "colorbar": {
              "outlinewidth": 0,
              "ticks": ""
             }
            },
            "type": "parcoords"
           }
          ],
          "pie": [
           {
            "automargin": true,
            "type": "pie"
           }
          ],
          "scatter": [
           {
            "fillpattern": {
             "fillmode": "overlay",
             "size": 10,
             "solidity": 0.2
            },
            "type": "scatter"
           }
          ],
          "scatter3d": [
           {
            "line": {
             "colorbar": {
              "outlinewidth": 0,
              "ticks": ""
             }
            },
            "marker": {
             "colorbar": {
              "outlinewidth": 0,
              "ticks": ""
             }
            },
            "type": "scatter3d"
           }
          ],
          "scattercarpet": [
           {
            "marker": {
             "colorbar": {
              "outlinewidth": 0,
              "ticks": ""
             }
            },
            "type": "scattercarpet"
           }
          ],
          "scattergeo": [
           {
            "marker": {
             "colorbar": {
              "outlinewidth": 0,
              "ticks": ""
             }
            },
            "type": "scattergeo"
           }
          ],
          "scattergl": [
           {
            "marker": {
             "colorbar": {
              "outlinewidth": 0,
              "ticks": ""
             }
            },
            "type": "scattergl"
           }
          ],
          "scattermapbox": [
           {
            "marker": {
             "colorbar": {
              "outlinewidth": 0,
              "ticks": ""
             }
            },
            "type": "scattermapbox"
           }
          ],
          "scatterpolar": [
           {
            "marker": {
             "colorbar": {
              "outlinewidth": 0,
              "ticks": ""
             }
            },
            "type": "scatterpolar"
           }
          ],
          "scatterpolargl": [
           {
            "marker": {
             "colorbar": {
              "outlinewidth": 0,
              "ticks": ""
             }
            },
            "type": "scatterpolargl"
           }
          ],
          "scatterternary": [
           {
            "marker": {
             "colorbar": {
              "outlinewidth": 0,
              "ticks": ""
             }
            },
            "type": "scatterternary"
           }
          ],
          "surface": [
           {
            "colorbar": {
             "outlinewidth": 0,
             "ticks": ""
            },
            "colorscale": [
             [
              0,
              "#0d0887"
             ],
             [
              0.1111111111111111,
              "#46039f"
             ],
             [
              0.2222222222222222,
              "#7201a8"
             ],
             [
              0.3333333333333333,
              "#9c179e"
             ],
             [
              0.4444444444444444,
              "#bd3786"
             ],
             [
              0.5555555555555556,
              "#d8576b"
             ],
             [
              0.6666666666666666,
              "#ed7953"
             ],
             [
              0.7777777777777778,
              "#fb9f3a"
             ],
             [
              0.8888888888888888,
              "#fdca26"
             ],
             [
              1,
              "#f0f921"
             ]
            ],
            "type": "surface"
           }
          ],
          "table": [
           {
            "cells": {
             "fill": {
              "color": "#EBF0F8"
             },
             "line": {
              "color": "white"
             }
            },
            "header": {
             "fill": {
              "color": "#C8D4E3"
             },
             "line": {
              "color": "white"
             }
            },
            "type": "table"
           }
          ]
         },
         "layout": {
          "annotationdefaults": {
           "arrowcolor": "#2a3f5f",
           "arrowhead": 0,
           "arrowwidth": 1
          },
          "autotypenumbers": "strict",
          "coloraxis": {
           "colorbar": {
            "outlinewidth": 0,
            "ticks": ""
           }
          },
          "colorscale": {
           "diverging": [
            [
             0,
             "#8e0152"
            ],
            [
             0.1,
             "#c51b7d"
            ],
            [
             0.2,
             "#de77ae"
            ],
            [
             0.3,
             "#f1b6da"
            ],
            [
             0.4,
             "#fde0ef"
            ],
            [
             0.5,
             "#f7f7f7"
            ],
            [
             0.6,
             "#e6f5d0"
            ],
            [
             0.7,
             "#b8e186"
            ],
            [
             0.8,
             "#7fbc41"
            ],
            [
             0.9,
             "#4d9221"
            ],
            [
             1,
             "#276419"
            ]
           ],
           "sequential": [
            [
             0,
             "#0d0887"
            ],
            [
             0.1111111111111111,
             "#46039f"
            ],
            [
             0.2222222222222222,
             "#7201a8"
            ],
            [
             0.3333333333333333,
             "#9c179e"
            ],
            [
             0.4444444444444444,
             "#bd3786"
            ],
            [
             0.5555555555555556,
             "#d8576b"
            ],
            [
             0.6666666666666666,
             "#ed7953"
            ],
            [
             0.7777777777777778,
             "#fb9f3a"
            ],
            [
             0.8888888888888888,
             "#fdca26"
            ],
            [
             1,
             "#f0f921"
            ]
           ],
           "sequentialminus": [
            [
             0,
             "#0d0887"
            ],
            [
             0.1111111111111111,
             "#46039f"
            ],
            [
             0.2222222222222222,
             "#7201a8"
            ],
            [
             0.3333333333333333,
             "#9c179e"
            ],
            [
             0.4444444444444444,
             "#bd3786"
            ],
            [
             0.5555555555555556,
             "#d8576b"
            ],
            [
             0.6666666666666666,
             "#ed7953"
            ],
            [
             0.7777777777777778,
             "#fb9f3a"
            ],
            [
             0.8888888888888888,
             "#fdca26"
            ],
            [
             1,
             "#f0f921"
            ]
           ]
          },
          "colorway": [
           "#636efa",
           "#EF553B",
           "#00cc96",
           "#ab63fa",
           "#FFA15A",
           "#19d3f3",
           "#FF6692",
           "#B6E880",
           "#FF97FF",
           "#FECB52"
          ],
          "font": {
           "color": "#2a3f5f"
          },
          "geo": {
           "bgcolor": "white",
           "lakecolor": "white",
           "landcolor": "#E5ECF6",
           "showlakes": true,
           "showland": true,
           "subunitcolor": "white"
          },
          "hoverlabel": {
           "align": "left"
          },
          "hovermode": "closest",
          "mapbox": {
           "style": "light"
          },
          "paper_bgcolor": "white",
          "plot_bgcolor": "#E5ECF6",
          "polar": {
           "angularaxis": {
            "gridcolor": "white",
            "linecolor": "white",
            "ticks": ""
           },
           "bgcolor": "#E5ECF6",
           "radialaxis": {
            "gridcolor": "white",
            "linecolor": "white",
            "ticks": ""
           }
          },
          "scene": {
           "xaxis": {
            "backgroundcolor": "#E5ECF6",
            "gridcolor": "white",
            "gridwidth": 2,
            "linecolor": "white",
            "showbackground": true,
            "ticks": "",
            "zerolinecolor": "white"
           },
           "yaxis": {
            "backgroundcolor": "#E5ECF6",
            "gridcolor": "white",
            "gridwidth": 2,
            "linecolor": "white",
            "showbackground": true,
            "ticks": "",
            "zerolinecolor": "white"
           },
           "zaxis": {
            "backgroundcolor": "#E5ECF6",
            "gridcolor": "white",
            "gridwidth": 2,
            "linecolor": "white",
            "showbackground": true,
            "ticks": "",
            "zerolinecolor": "white"
           }
          },
          "shapedefaults": {
           "line": {
            "color": "#2a3f5f"
           }
          },
          "ternary": {
           "aaxis": {
            "gridcolor": "white",
            "linecolor": "white",
            "ticks": ""
           },
           "baxis": {
            "gridcolor": "white",
            "linecolor": "white",
            "ticks": ""
           },
           "bgcolor": "#E5ECF6",
           "caxis": {
            "gridcolor": "white",
            "linecolor": "white",
            "ticks": ""
           }
          },
          "title": {
           "x": 0.05
          },
          "xaxis": {
           "automargin": true,
           "gridcolor": "white",
           "linecolor": "white",
           "ticks": "",
           "title": {
            "standoff": 15
           },
           "zerolinecolor": "white",
           "zerolinewidth": 2
          },
          "yaxis": {
           "automargin": true,
           "gridcolor": "white",
           "linecolor": "white",
           "ticks": "",
           "title": {
            "standoff": 15
           },
           "zerolinecolor": "white",
           "zerolinewidth": 2
          }
         }
        },
        "title": {
         "font": {
          "size": 22
         },
         "text": "Interactive Count of Rabies events by Species",
         "x": 0.4,
         "xanchor": "center",
         "y": 0.95,
         "yanchor": "top"
        },
        "updatemenus": [
         {
          "buttons": [
           {
            "args": [
             {
              "marker": {
               "color": [
                "#636EFA",
                "#EF553B",
                "#00CC96",
                "#AB63FA",
                "#FFA15A",
                "#19D3F3",
                "#FF6692",
                "#B6E880",
                "#FF97FF",
                "#FECB52",
                "#636EFA",
                "#EF553B",
                "#00CC96"
               ]
              },
              "x": [
               [
                "Dog",
                "Jackal",
                "Cattle",
                "Fox",
                "Sheep",
                "Wolf",
                "Cat",
                "Horse",
                "Badger",
                "Donkey",
                "Martes",
                "Mongoose",
                "Cow"
               ]
              ],
              "y": [
               [
                1022,
                710,
                418,
                128,
                67,
                65,
                47,
                29,
                26,
                12,
                7,
                7,
                2
               ]
              ]
             }
            ],
            "label": "All",
            "method": "update"
           },
           {
            "args": [
             {
              "marker": {
               "color": [
                "#EF553B",
                "#636EFA",
                "#00CC96",
                "#FFA15A",
                "#FF97FF",
                "#AB63FA"
               ]
              },
              "x": [
               [
                "Jackal",
                "Dog",
                "Cattle",
                "Sheep",
                "Badger",
                "Fox"
               ]
              ],
              "y": [
               [
                12,
                8,
                6,
                3,
                1,
                1
               ]
              ]
             }
            ],
            "label": "2024",
            "method": "update"
           },
           {
            "args": [
             {
              "marker": {
               "color": [
                "#EF553B",
                "#636EFA",
                "#00CC96",
                "#19D3F3",
                "#FF97FF"
               ]
              },
              "x": [
               [
                "Jackal",
                "Dog",
                "Cattle",
                "Wolf",
                "Badger"
               ]
              ],
              "y": [
               [
                29,
                7,
                5,
                2,
                1
               ]
              ]
             }
            ],
            "label": "2023",
            "method": "update"
           },
           {
            "args": [
             {
              "marker": {
               "color": [
                "#EF553B",
                "#636EFA",
                "#00CC96",
                "#FF6692"
               ]
              },
              "x": [
               [
                "Jackal",
                "Dog",
                "Cattle",
                "Cat"
               ]
              ],
              "y": [
               [
                22,
                8,
                3,
                1
               ]
              ]
             }
            ],
            "label": "2022",
            "method": "update"
           },
           {
            "args": [
             {
              "marker": {
               "color": [
                "#636EFA",
                "#EF553B",
                "#00CC96",
                "#FFA15A",
                "#00CC96",
                "#19D3F3",
                "#FF97FF"
               ]
              },
              "x": [
               [
                "Dog",
                "Jackal",
                "Cattle",
                "Sheep",
                "Cow",
                "Wolf",
                "Badger"
               ]
              ],
              "y": [
               [
                42,
                20,
                8,
                4,
                2,
                2,
                2
               ]
              ]
             }
            ],
            "label": "2021",
            "method": "update"
           },
           {
            "args": [
             {
              "marker": {
               "color": [
                "#EF553B",
                "#636EFA",
                "#00CC96",
                "#19D3F3"
               ]
              },
              "x": [
               [
                "Jackal",
                "Dog",
                "Cattle",
                "Wolf"
               ]
              ],
              "y": [
               [
                46,
                30,
                12,
                4
               ]
              ]
             }
            ],
            "label": "2020",
            "method": "update"
           },
           {
            "args": [
             {
              "marker": {
               "color": [
                "#636EFA",
                "#EF553B"
               ]
              },
              "x": [
               [
                "Dog",
                "Jackal"
               ]
              ],
              "y": [
               [
                26,
                16
               ]
              ]
             }
            ],
            "label": "2019",
            "method": "update"
           },
           {
            "args": [
             {
              "marker": {
               "color": [
                "#EF553B",
                "#00CC96",
                "#636EFA",
                "#B6E880",
                "#FFA15A",
                "#FF97FF"
               ]
              },
              "x": [
               [
                "Jackal",
                "Cattle",
                "Dog",
                "Horse",
                "Sheep",
                "Badger"
               ]
              ],
              "y": [
               [
                132,
                24,
                18,
                3,
                3,
                3
               ]
              ]
             }
            ],
            "label": "2018",
            "method": "update"
           },
           {
            "args": [
             {
              "marker": {
               "color": [
                "#EF553B",
                "#00CC96",
                "#636EFA",
                "#FF6692",
                "#FFA15A"
               ]
              },
              "x": [
               [
                "Jackal",
                "Cattle",
                "Dog",
                "Cat",
                "Sheep"
               ]
              ],
              "y": [
               [
                165,
                53,
                35,
                8,
                4
               ]
              ]
             }
            ],
            "label": "2017",
            "method": "update"
           },
           {
            "args": [
             {
              "marker": {
               "color": [
                "#636EFA",
                "#AB63FA",
                "#00CC96",
                "#EF553B",
                "#B6E880"
               ]
              },
              "x": [
               [
                "Dog",
                "Fox",
                "Cattle",
                "Jackal",
                "Horse"
               ]
              ],
              "y": [
               [
                48,
                28,
                20,
                16,
                4
               ]
              ]
             }
            ],
            "label": "2016",
            "method": "update"
           },
           {
            "args": [
             {
              "marker": {
               "color": [
                "#636EFA",
                "#00CC96",
                "#EF553B",
                "#19D3F3",
                "#FF97FF",
                "#AB63FA",
                "#FF6692"
               ]
              },
              "x": [
               [
                "Dog",
                "Cattle",
                "Jackal",
                "Wolf",
                "Badger",
                "Fox",
                "Cat"
               ]
              ],
              "y": [
               [
                44,
                28,
                12,
                8,
                4,
                4,
                4
               ]
              ]
             }
            ],
            "label": "2015",
            "method": "update"
           },
           {
            "args": [
             {
              "marker": {
               "color": [
                "#19D3F3",
                "#636EFA",
                "#EF553B",
                "#AB63FA",
                "#FF97FF",
                "#00CC96"
               ]
              },
              "x": [
               [
                "Wolf",
                "Dog",
                "Jackal",
                "Fox",
                "Badger",
                "Cattle"
               ]
              ],
              "y": [
               [
                20,
                14,
                10,
                9,
                5,
                5
               ]
              ]
             }
            ],
            "label": "2014",
            "method": "update"
           },
           {
            "args": [
             {
              "marker": {
               "color": [
                "#636EFA",
                "#00CC96",
                "#EF553B",
                "#19D3F3",
                "#B6E880"
               ]
              },
              "x": [
               [
                "Dog",
                "Cattle",
                "Jackal",
                "Wolf",
                "Horse"
               ]
              ],
              "y": [
               [
                85,
                40,
                5,
                5,
                5
               ]
              ]
             }
            ],
            "label": "2013",
            "method": "update"
           },
           {
            "args": [
             {
              "marker": {
               "color": [
                "#636EFA",
                "#00CC96",
                "#EF553B",
                "#AB63FA",
                "#FFA15A"
               ]
              },
              "x": [
               [
                "Dog",
                "Cattle",
                "Jackal",
                "Fox",
                "Sheep"
               ]
              ],
              "y": [
               [
                60,
                40,
                10,
                5,
                5
               ]
              ]
             }
            ],
            "label": "2012",
            "method": "update"
           },
           {
            "args": [
             {
              "marker": {
               "color": [
                "#636EFA",
                "#00CC96",
                "#EF553B",
                "#FFA15A",
                "#B6E880",
                "#FF97FF",
                "#19D3F3",
                "#FF6692"
               ]
              },
              "x": [
               [
                "Dog",
                "Cattle",
                "Jackal",
                "Sheep",
                "Horse",
                "Badger",
                "Wolf",
                "Cat"
               ]
              ],
              "y": [
               [
                50,
                45,
                20,
                10,
                10,
                10,
                5,
                5
               ]
              ]
             }
            ],
            "label": "2011",
            "method": "update"
           },
           {
            "args": [
             {
              "marker": {
               "color": [
                "#636EFA",
                "#EF553B",
                "#00CC96",
                "#FFA15A",
                "#FF6692",
                "#19D3F3",
                "#AB63FA"
               ]
              },
              "x": [
               [
                "Dog",
                "Jackal",
                "Cattle",
                "Sheep",
                "Cat",
                "Wolf",
                "Fox"
               ]
              ],
              "y": [
               [
                136,
                71,
                52,
                24,
                17,
                12,
                6
               ]
              ]
             }
            ],
            "label": "2010",
            "method": "update"
           },
           {
            "args": [
             {
              "marker": {
               "color": [
                "#636EFA",
                "#EF553B",
                "#00CC96",
                "#AB63FA",
                "#FFA15A",
                "#FF6692",
                "#FECB52",
                "#636EFA",
                "#19D3F3"
               ]
              },
              "x": [
               [
                "Dog",
                "Jackal",
                "Cattle",
                "Fox",
                "Sheep",
                "Cat",
                "Donkey",
                "Martes",
                "Wolf"
               ]
              ],
              "y": [
               [
                292,
                110,
                63,
                26,
                14,
                12,
                12,
                7,
                7
               ]
              ]
             }
            ],
            "label": "2009",
            "method": "update"
           },
           {
            "args": [
             {
              "marker": {
               "color": [
                "#636EFA",
                "#AB63FA",
                "#EF553B"
               ]
              },
              "x": [
               [
                "Dog",
                "Fox",
                "Jackal"
               ]
              ],
              "y": [
               [
                28,
                14,
                7
               ]
              ]
             }
            ],
            "label": "2008",
            "method": "update"
           },
           {
            "args": [
             {
              "marker": {
               "color": [
                "#636EFA",
                "#AB63FA",
                "#00CC96",
                "#EF553B",
                "#EF553B"
               ]
              },
              "x": [
               [
                "Dog",
                "Fox",
                "Cattle",
                "Mongoose",
                "Jackal"
               ]
              ],
              "y": [
               [
                56,
                28,
                7,
                7,
                7
               ]
              ]
             }
            ],
            "label": "2007",
            "method": "update"
           },
           {
            "args": [
             {
              "marker": {
               "color": [
                "#636EFA",
                "#AB63FA",
                "#00CC96",
                "#B6E880"
               ]
              },
              "x": [
               [
                "Dog",
                "Fox",
                "Cattle",
                "Horse"
               ]
              ],
              "y": [
               [
                35,
                7,
                7,
                7
               ]
              ]
             }
            ],
            "label": "2006",
            "method": "update"
           }
          ],
          "direction": "down",
          "name": "Year selector",
          "pad": {
           "r": 10,
           "t": 10
          },
          "showactive": true,
          "x": 0.1,
          "xanchor": "left",
          "y": 1.23,
          "yanchor": "top"
         }
        ],
        "xaxis": {
         "tickangle": -45,
         "title": {
          "text": "Species"
         }
        },
        "yaxis": {
         "title": {
          "text": "Count"
         }
        }
       }
      }
     },
     "metadata": {},
     "output_type": "display_data"
    },
    {
     "data": {
      "text/html": [
       "\n",
       "        <iframe\n",
       "            width=\"100%\"\n",
       "            height=\"600px\"\n",
       "            src=\"../assets/plots/interactive_rabies_events_by_species.html\"\n",
       "            frameborder=\"0\"\n",
       "            allowfullscreen\n",
       "            \n",
       "        ></iframe>\n",
       "        "
      ],
      "text/plain": [
       "<IPython.lib.display.IFrame at 0x1c422361b20>"
      ]
     },
     "metadata": {},
     "output_type": "display_data"
    }
   ],
   "source": [
    "## Interactive Count of Rabies events by Species\n",
    "\n",
    "# Calculate counts for each species\n",
    "species_counts = df_rabies_raw['SpeciesNameEng'].value_counts().reset_index()\n",
    "species_counts.columns = ['SpeciesNameEng', 'Count']\n",
    "\n",
    "# Define the species colors\n",
    "species_colors = px.colors.qualitative.Plotly\n",
    "color_map = {species: species_colors[i % len(species_colors)] for i, species in enumerate(species_counts['SpeciesNameEng'])}\n",
    "\n",
    "# Create a default view that shows all data\n",
    "default_view = species_counts.copy()\n",
    "\n",
    "# Create the initial bar chart with all data\n",
    "fig = go.Figure()\n",
    "\n",
    "def update_figure(year):\n",
    "    fig.data = []  # Clear existing traces\n",
    "    if year == 'All':\n",
    "        filtered_data = default_view\n",
    "    else:\n",
    "        filtered_data = df_rabies_raw[df_rabies_raw['Year'] == year]['SpeciesNameEng'].value_counts().reset_index()\n",
    "        filtered_data.columns = ['SpeciesNameEng', 'Count']\n",
    "\n",
    "    fig.add_trace(go.Bar(\n",
    "        x=filtered_data['SpeciesNameEng'],\n",
    "        y=filtered_data['Count'],\n",
    "        marker_color=[color_map[species] for species in filtered_data['SpeciesNameEng']]\n",
    "    ))\n",
    "\n",
    "    fig.update_layout(\n",
    "        title='Interactive Count of Rabies events by Species',\n",
    "        xaxis_title='Species',\n",
    "        yaxis_title='Count',\n",
    "        xaxis_tickangle=-45,\n",
    "        title_x=0.45,\n",
    "        title_font=dict(size=22),\n",
    "        legend_title_text='Species'\n",
    "    )\n",
    "\n",
    "update_figure('All')  # Initial plot with all data\n",
    "\n",
    "# Create a dropdown menu for the year selector\n",
    "year_options = [{'label': 'All', 'value': 'All'}] + [{'label': str(year), 'value': year} for year in sorted(df_rabies_raw['Year'].unique(), reverse=True)]\n",
    "\n",
    "def update_trace(year):\n",
    "    if year == 'All':\n",
    "        filtered_data = default_view\n",
    "    else:\n",
    "        filtered_data = df_rabies_raw[df_rabies_raw['Year'] == year]['SpeciesNameEng'].value_counts().reset_index()\n",
    "        filtered_data.columns = ['SpeciesNameEng', 'Count']\n",
    "    \n",
    "    return dict(x=[filtered_data['SpeciesNameEng']], y=[filtered_data['Count']], marker=dict(color=[color_map[species] for species in filtered_data['SpeciesNameEng']]))\n",
    "\n",
    "dropdown = go.layout.Updatemenu(\n",
    "    buttons=[dict(label=option['label'], method='update', args=[update_trace(option['value'])]) for option in year_options],\n",
    "    direction='down',\n",
    "    pad={'r': 10, 't': 10},\n",
    "    showactive=True,\n",
    "    x=0.1,  \n",
    "    xanchor='left',\n",
    "    y=1.23,  \n",
    "    yanchor='top',\n",
    "    name='Year selector'\n",
    ")\n",
    "\n",
    "# Update the layout to include the year selector on the same line as the title\n",
    "fig.update_layout(\n",
    "    updatemenus=[dropdown],\n",
    "    title={\n",
    "        'text': 'Interactive Count of Rabies events by Species',\n",
    "        'x': 0.4,\n",
    "        'xanchor': 'center',\n",
    "        'y': 0.95,\n",
    "        'yanchor': 'top',\n",
    "    },\n",
    ")\n",
    "\n",
    "# Save the interactive plot to an HTML file\n",
    "html_content = fig.to_html(include_plotlyjs='cdn', full_html=False)\n",
    "minified_html = htmlmin.minify(html_content, remove_comments=True, reduce_empty_attributes=True)\n",
    "\n",
    "with open(\"../assets/plots/interactive_rabies_events_by_species.html\", \"w\") as f:\n",
    "    f.write(minified_html)\n",
    "\n",
    "#print(\"Interactive plot saved as HTML file.\")\n",
    "\n",
    "# Show the interactive plot\n",
    "fig.show()\n",
    "\n",
    "# plty.offline.plot(fig, filename = \"../assets/plots/interactive_rabies_events_by_species.html\")\n",
    "# Display the figure in Jupyter Book\n",
    "display(IFrame(src='../assets/plots/interactive_rabies_events_by_species.html', width='100%', height='600px'))"
   ]
  },
  {
   "cell_type": "markdown",
   "id": "c0a5a4ac-cfcf-4a7f-90f0-adb1d6720497",
   "metadata": {},
   "source": [
    "The prevalence of rabies cases in dogs and jackals is higher than the rest of species, it can be attributed to several factors:\n",
    "\n",
    "Domestication and Proximity to Humans: Dogs are the most common domestic animal and have close contact with humans. This proximity increases the likelihood of rabies transmission to dogs from wildlife and subsequently to humans. Rabies in dogs is a significant public health concern because of their close relationship with humans.\n",
    "\n",
    "Behavioral Factors: Jackals, being wild canids, often come into contact with areas inhabited by humans, especially if they are searching for food. This can lead to interactions with domestic animals, including dogs, and potential transmission of the virus.\n",
    "\n",
    "Vaccination Rates: In many regions, especially where rabies is endemic, dogs may not be vaccinated against rabies as consistently as required. This lack of vaccination can lead to higher rates of rabies among dogs.\n",
    "\n",
    "Population Density and Control: Both dogs and jackals can have large populations, particularly in rural or suburban areas where control measures may be less stringent. High population densities can facilitate the spread of the virus.\n",
    "\n",
    "Natural Reservoirs: Jackals are natural reservoirs of rabies in the wild and can maintain the virus within their populations. They can transmit the virus to other animals, including dogs, through bites.\n",
    "\n",
    "Ecological Factors: The habitats of jackals may overlap with those of other rabies reservoir species, such as foxes and bats, increasing the likelihood of cross-species transmission.\n",
    "\n",
    "Survival and Shedding of the Virus: Both dogs and jackals may shed the rabies virus for extended periods before showing symptoms, which allows for greater transmission potential."
   ]
  },
  {
   "cell_type": "markdown",
   "id": "0b925396",
   "metadata": {},
   "source": [
    "#### Count of Rabies events by Region - Seaborn"
   ]
  },
  {
   "cell_type": "code",
   "execution_count": 39,
   "id": "9f33e281-c404-4c58-a619-1c30bd8a9cf4",
   "metadata": {},
   "outputs": [
    {
     "data": {
      "image/png": "[encoded data removed]",
      "text/plain": [
       "<Figure size 1400x700 with 1 Axes>"
      ]
     },
     "metadata": {},
     "output_type": "display_data"
    }
   ],
   "source": [
    "## Count of Rabies events by Region\n",
    "\n",
    "# Set the aesthetic style of the plots\n",
    "sns.set_style(\"whitegrid\")\n",
    "\n",
    "# Create the count plot for RegionEng\n",
    "plt.figure(figsize=(14, 7))\n",
    "ax = sns.countplot(data=df_rabies_raw, \n",
    "                   x='RegionEng', \n",
    "                   order=df_rabies_raw['RegionEng'].value_counts().index, \n",
    "                   hue='RegionEng', \n",
    "                   palette='viridis'\n",
    "                   )\n",
    "\n",
    "# Add title and labels\n",
    "plt.title('Count of Rabies events by Region', fontsize=16)\n",
    "plt.xlabel('Region', fontsize=14)\n",
    "plt.ylabel('Count', fontsize=14)\n",
    "plt.xticks(rotation=45, fontsize=12)  # Rotate x-labels and adjust font size\n",
    "plt.yticks(fontsize=12)\n",
    "\n",
    "# Add data labels on top of each bar\n",
    "for p in ax.patches:\n",
    "    ax.annotate(f'\\n{p.get_height()}', \n",
    "                (p.get_x() + p.get_width() / 2., p.get_height()), \n",
    "                ha='center', va='center', fontsize=11, color='black', \n",
    "                xytext=(0, 10), textcoords='offset points')\n",
    "\n",
    "# Adding a grid\n",
    "plt.grid(True, which='both', linestyle='--', linewidth=0.7, alpha=0.7)\n",
    "\n",
    "# Show the plot\n",
    "plt.show()\n"
   ]
  },
  {
   "cell_type": "markdown",
   "id": "cddab217",
   "metadata": {},
   "source": [
    "#### Count of Rabies events by Region - Plotly"
   ]
  },
  {
   "cell_type": "code",
   "execution_count": 27,
   "id": "5992180d",
   "metadata": {},
   "outputs": [
    {
     "data": {
      "application/vnd.plotly.v1+json": {
       "config": {
        "plotlyServerURL": "https://plot.ly"
       },
       "data": [
        {
         "marker": {
          "color": [
           "rgb(102, 197, 204)",
           "rgb(246, 207, 113)",
           "rgb(248, 156, 116)",
           "rgb(220, 176, 242)",
           "rgb(135, 197, 95)",
           "rgb(158, 185, 243)"
          ]
         },
         "type": "bar",
         "width": [
          0.5,
          0.5,
          0.5,
          0.5,
          0.5,
          0.5
         ],
         "x": [
          "Galil Golan",
          "Amakim",
          "Galil Maaravi",
          "Hasharon",
          "Negev",
          "Shfela Vahar"
         ],
         "y": [
          1422,
          804,
          172,
          54,
          48,
          41
         ]
        }
       ],
       "layout": {
        "legend": {
         "title": {
          "text": "Region"
         }
        },
        "margin": {
         "t": 100
        },
        "template": {
         "data": {
          "bar": [
           {
            "error_x": {
             "color": "#2a3f5f"
            },
            "error_y": {
             "color": "#2a3f5f"
            },
            "marker": {
             "line": {
              "color": "#E5ECF6",
              "width": 0.5
             },
             "pattern": {
              "fillmode": "overlay",
              "size": 10,
              "solidity": 0.2
             }
            },
            "type": "bar"
           }
          ],
          "barpolar": [
           {
            "marker": {
             "line": {
              "color": "#E5ECF6",
              "width": 0.5
             },
             "pattern": {
              "fillmode": "overlay",
              "size": 10,
              "solidity": 0.2
             }
            },
            "type": "barpolar"
           }
          ],
          "carpet": [
           {
            "aaxis": {
             "endlinecolor": "#2a3f5f",
             "gridcolor": "white",
             "linecolor": "white",
             "minorgridcolor": "white",
             "startlinecolor": "#2a3f5f"
            },
            "baxis": {
             "endlinecolor": "#2a3f5f",
             "gridcolor": "white",
             "linecolor": "white",
             "minorgridcolor": "white",
             "startlinecolor": "#2a3f5f"
            },
            "type": "carpet"
           }
          ],
          "choropleth": [
           {
            "colorbar": {
             "outlinewidth": 0,
             "ticks": ""
            },
            "type": "choropleth"
           }
          ],
          "contour": [
           {
            "colorbar": {
             "outlinewidth": 0,
             "ticks": ""
            },
            "colorscale": [
             [
              0,
              "#0d0887"
             ],
             [
              0.1111111111111111,
              "#46039f"
             ],
             [
              0.2222222222222222,
              "#7201a8"
             ],
             [
              0.3333333333333333,
              "#9c179e"
             ],
             [
              0.4444444444444444,
              "#bd3786"
             ],
             [
              0.5555555555555556,
              "#d8576b"
             ],
             [
              0.6666666666666666,
              "#ed7953"
             ],
             [
              0.7777777777777778,
              "#fb9f3a"
             ],
             [
              0.8888888888888888,
              "#fdca26"
             ],
             [
              1,
              "#f0f921"
             ]
            ],
            "type": "contour"
           }
          ],
          "contourcarpet": [
           {
            "colorbar": {
             "outlinewidth": 0,
             "ticks": ""
            },
            "type": "contourcarpet"
           }
          ],
          "heatmap": [
           {
            "colorbar": {
             "outlinewidth": 0,
             "ticks": ""
            },
            "colorscale": [
             [
              0,
              "#0d0887"
             ],
             [
              0.1111111111111111,
              "#46039f"
             ],
             [
              0.2222222222222222,
              "#7201a8"
             ],
             [
              0.3333333333333333,
              "#9c179e"
             ],
             [
              0.4444444444444444,
              "#bd3786"
             ],
             [
              0.5555555555555556,
              "#d8576b"
             ],
             [
              0.6666666666666666,
              "#ed7953"
             ],
             [
              0.7777777777777778,
              "#fb9f3a"
             ],
             [
              0.8888888888888888,
              "#fdca26"
             ],
             [
              1,
              "#f0f921"
             ]
            ],
            "type": "heatmap"
           }
          ],
          "heatmapgl": [
           {
            "colorbar": {
             "outlinewidth": 0,
             "ticks": ""
            },
            "colorscale": [
             [
              0,
              "#0d0887"
             ],
             [
              0.1111111111111111,
              "#46039f"
             ],
             [
              0.2222222222222222,
              "#7201a8"
             ],
             [
              0.3333333333333333,
              "#9c179e"
             ],
             [
              0.4444444444444444,
              "#bd3786"
             ],
             [
              0.5555555555555556,
              "#d8576b"
             ],
             [
              0.6666666666666666,
              "#ed7953"
             ],
             [
              0.7777777777777778,
              "#fb9f3a"
             ],
             [
              0.8888888888888888,
              "#fdca26"
             ],
             [
              1,
              "#f0f921"
             ]
            ],
            "type": "heatmapgl"
           }
          ],
          "histogram": [
           {
            "marker": {
             "pattern": {
              "fillmode": "overlay",
              "size": 10,
              "solidity": 0.2
             }
            },
            "type": "histogram"
           }
          ],
          "histogram2d": [
           {
            "colorbar": {
             "outlinewidth": 0,
             "ticks": ""
            },
            "colorscale": [
             [
              0,
              "#0d0887"
             ],
             [
              0.1111111111111111,
              "#46039f"
             ],
             [
              0.2222222222222222,
              "#7201a8"
             ],
             [
              0.3333333333333333,
              "#9c179e"
             ],
             [
              0.4444444444444444,
              "#bd3786"
             ],
             [
              0.5555555555555556,
              "#d8576b"
             ],
             [
              0.6666666666666666,
              "#ed7953"
             ],
             [
              0.7777777777777778,
              "#fb9f3a"
             ],
             [
              0.8888888888888888,
              "#fdca26"
             ],
             [
              1,
              "#f0f921"
             ]
            ],
            "type": "histogram2d"
           }
          ],
          "histogram2dcontour": [
           {
            "colorbar": {
             "outlinewidth": 0,
             "ticks": ""
            },
            "colorscale": [
             [
              0,
              "#0d0887"
             ],
             [
              0.1111111111111111,
              "#46039f"
             ],
             [
              0.2222222222222222,
              "#7201a8"
             ],
             [
              0.3333333333333333,
              "#9c179e"
             ],
             [
              0.4444444444444444,
              "#bd3786"
             ],
             [
              0.5555555555555556,
              "#d8576b"
             ],
             [
              0.6666666666666666,
              "#ed7953"
             ],
             [
              0.7777777777777778,
              "#fb9f3a"
             ],
             [
              0.8888888888888888,
              "#fdca26"
             ],
             [
              1,
              "#f0f921"
             ]
            ],
            "type": "histogram2dcontour"
           }
          ],
          "mesh3d": [
           {
            "colorbar": {
             "outlinewidth": 0,
             "ticks": ""
            },
            "type": "mesh3d"
           }
          ],
          "parcoords": [
           {
            "line": {
             "colorbar": {
              "outlinewidth": 0,
              "ticks": ""
             }
            },
            "type": "parcoords"
           }
          ],
          "pie": [
           {
            "automargin": true,
            "type": "pie"
           }
          ],
          "scatter": [
           {
            "fillpattern": {
             "fillmode": "overlay",
             "size": 10,
             "solidity": 0.2
            },
            "type": "scatter"
           }
          ],
          "scatter3d": [
           {
            "line": {
             "colorbar": {
              "outlinewidth": 0,
              "ticks": ""
             }
            },
            "marker": {
             "colorbar": {
              "outlinewidth": 0,
              "ticks": ""
             }
            },
            "type": "scatter3d"
           }
          ],
          "scattercarpet": [
           {
            "marker": {
             "colorbar": {
              "outlinewidth": 0,
              "ticks": ""
             }
            },
            "type": "scattercarpet"
           }
          ],
          "scattergeo": [
           {
            "marker": {
             "colorbar": {
              "outlinewidth": 0,
              "ticks": ""
             }
            },
            "type": "scattergeo"
           }
          ],
          "scattergl": [
           {
            "marker": {
             "colorbar": {
              "outlinewidth": 0,
              "ticks": ""
             }
            },
            "type": "scattergl"
           }
          ],
          "scattermapbox": [
           {
            "marker": {
             "colorbar": {
              "outlinewidth": 0,
              "ticks": ""
             }
            },
            "type": "scattermapbox"
           }
          ],
          "scatterpolar": [
           {
            "marker": {
             "colorbar": {
              "outlinewidth": 0,
              "ticks": ""
             }
            },
            "type": "scatterpolar"
           }
          ],
          "scatterpolargl": [
           {
            "marker": {
             "colorbar": {
              "outlinewidth": 0,
              "ticks": ""
             }
            },
            "type": "scatterpolargl"
           }
          ],
          "scatterternary": [
           {
            "marker": {
             "colorbar": {
              "outlinewidth": 0,
              "ticks": ""
             }
            },
            "type": "scatterternary"
           }
          ],
          "surface": [
           {
            "colorbar": {
             "outlinewidth": 0,
             "ticks": ""
            },
            "colorscale": [
             [
              0,
              "#0d0887"
             ],
             [
              0.1111111111111111,
              "#46039f"
             ],
             [
              0.2222222222222222,
              "#7201a8"
             ],
             [
              0.3333333333333333,
              "#9c179e"
             ],
             [
              0.4444444444444444,
              "#bd3786"
             ],
             [
              0.5555555555555556,
              "#d8576b"
             ],
             [
              0.6666666666666666,
              "#ed7953"
             ],
             [
              0.7777777777777778,
              "#fb9f3a"
             ],
             [
              0.8888888888888888,
              "#fdca26"
             ],
             [
              1,
              "#f0f921"
             ]
            ],
            "type": "surface"
           }
          ],
          "table": [
           {
            "cells": {
             "fill": {
              "color": "#EBF0F8"
             },
             "line": {
              "color": "white"
             }
            },
            "header": {
             "fill": {
              "color": "#C8D4E3"
             },
             "line": {
              "color": "white"
             }
            },
            "type": "table"
           }
          ]
         },
         "layout": {
          "annotationdefaults": {
           "arrowcolor": "#2a3f5f",
           "arrowhead": 0,
           "arrowwidth": 1
          },
          "autotypenumbers": "strict",
          "coloraxis": {
           "colorbar": {
            "outlinewidth": 0,
            "ticks": ""
           }
          },
          "colorscale": {
           "diverging": [
            [
             0,
             "#8e0152"
            ],
            [
             0.1,
             "#c51b7d"
            ],
            [
             0.2,
             "#de77ae"
            ],
            [
             0.3,
             "#f1b6da"
            ],
            [
             0.4,
             "#fde0ef"
            ],
            [
             0.5,
             "#f7f7f7"
            ],
            [
             0.6,
             "#e6f5d0"
            ],
            [
             0.7,
             "#b8e186"
            ],
            [
             0.8,
             "#7fbc41"
            ],
            [
             0.9,
             "#4d9221"
            ],
            [
             1,
             "#276419"
            ]
           ],
           "sequential": [
            [
             0,
             "#0d0887"
            ],
            [
             0.1111111111111111,
             "#46039f"
            ],
            [
             0.2222222222222222,
             "#7201a8"
            ],
            [
             0.3333333333333333,
             "#9c179e"
            ],
            [
             0.4444444444444444,
             "#bd3786"
            ],
            [
             0.5555555555555556,
             "#d8576b"
            ],
            [
             0.6666666666666666,
             "#ed7953"
            ],
            [
             0.7777777777777778,
             "#fb9f3a"
            ],
            [
             0.8888888888888888,
             "#fdca26"
            ],
            [
             1,
             "#f0f921"
            ]
           ],
           "sequentialminus": [
            [
             0,
             "#0d0887"
            ],
            [
             0.1111111111111111,
             "#46039f"
            ],
            [
             0.2222222222222222,
             "#7201a8"
            ],
            [
             0.3333333333333333,
             "#9c179e"
            ],
            [
             0.4444444444444444,
             "#bd3786"
            ],
            [
             0.5555555555555556,
             "#d8576b"
            ],
            [
             0.6666666666666666,
             "#ed7953"
            ],
            [
             0.7777777777777778,
             "#fb9f3a"
            ],
            [
             0.8888888888888888,
             "#fdca26"
            ],
            [
             1,
             "#f0f921"
            ]
           ]
          },
          "colorway": [
           "#636efa",
           "#EF553B",
           "#00cc96",
           "#ab63fa",
           "#FFA15A",
           "#19d3f3",
           "#FF6692",
           "#B6E880",
           "#FF97FF",
           "#FECB52"
          ],
          "font": {
           "color": "#2a3f5f"
          },
          "geo": {
           "bgcolor": "white",
           "lakecolor": "white",
           "landcolor": "#E5ECF6",
           "showlakes": true,
           "showland": true,
           "subunitcolor": "white"
          },
          "hoverlabel": {
           "align": "left"
          },
          "hovermode": "closest",
          "mapbox": {
           "style": "light"
          },
          "paper_bgcolor": "white",
          "plot_bgcolor": "#E5ECF6",
          "polar": {
           "angularaxis": {
            "gridcolor": "white",
            "linecolor": "white",
            "ticks": ""
           },
           "bgcolor": "#E5ECF6",
           "radialaxis": {
            "gridcolor": "white",
            "linecolor": "white",
            "ticks": ""
           }
          },
          "scene": {
           "xaxis": {
            "backgroundcolor": "#E5ECF6",
            "gridcolor": "white",
            "gridwidth": 2,
            "linecolor": "white",
            "showbackground": true,
            "ticks": "",
            "zerolinecolor": "white"
           },
           "yaxis": {
            "backgroundcolor": "#E5ECF6",
            "gridcolor": "white",
            "gridwidth": 2,
            "linecolor": "white",
            "showbackground": true,
            "ticks": "",
            "zerolinecolor": "white"
           },
           "zaxis": {
            "backgroundcolor": "#E5ECF6",
            "gridcolor": "white",
            "gridwidth": 2,
            "linecolor": "white",
            "showbackground": true,
            "ticks": "",
            "zerolinecolor": "white"
           }
          },
          "shapedefaults": {
           "line": {
            "color": "#2a3f5f"
           }
          },
          "ternary": {
           "aaxis": {
            "gridcolor": "white",
            "linecolor": "white",
            "ticks": ""
           },
           "baxis": {
            "gridcolor": "white",
            "linecolor": "white",
            "ticks": ""
           },
           "bgcolor": "#E5ECF6",
           "caxis": {
            "gridcolor": "white",
            "linecolor": "white",
            "ticks": ""
           }
          },
          "title": {
           "x": 0.05
          },
          "xaxis": {
           "automargin": true,
           "gridcolor": "white",
           "linecolor": "white",
           "ticks": "",
           "title": {
            "standoff": 15
           },
           "zerolinecolor": "white",
           "zerolinewidth": 2
          },
          "yaxis": {
           "automargin": true,
           "gridcolor": "white",
           "linecolor": "white",
           "ticks": "",
           "title": {
            "standoff": 15
           },
           "zerolinecolor": "white",
           "zerolinewidth": 2
          }
         }
        },
        "title": {
         "font": {
          "size": 22
         },
         "text": "Interactive Count of Rabies events by Region",
         "x": 0.05,
         "xanchor": "left",
         "y": 0.95,
         "yanchor": "top"
        },
        "updatemenus": [
         {
          "buttons": [
           {
            "args": [
             {
              "marker": {
               "color": [
                "rgb(102, 197, 204)",
                "rgb(246, 207, 113)",
                "rgb(248, 156, 116)",
                "rgb(220, 176, 242)",
                "rgb(135, 197, 95)",
                "rgb(158, 185, 243)"
               ]
              },
              "width": [
               0.5,
               0.5,
               0.5,
               0.5,
               0.5,
               0.5
              ],
              "x": [
               [
                "Galil Golan",
                "Amakim",
                "Galil Maaravi",
                "Hasharon",
                "Negev",
                "Shfela Vahar"
               ]
              ],
              "y": [
               [
                1422,
                804,
                172,
                54,
                48,
                41
               ]
              ]
             }
            ],
            "label": "All",
            "method": "update"
           },
           {
            "args": [
             {
              "marker": {
               "color": [
                "rgb(102, 197, 204)",
                "rgb(246, 207, 113)",
                "rgb(248, 156, 116)"
               ]
              },
              "width": [
               0.5,
               0.5,
               0.5
              ],
              "x": [
               [
                "Galil Golan",
                "Amakim",
                "Galil Maaravi"
               ]
              ],
              "y": [
               [
                14,
                13,
                4
               ]
              ]
             }
            ],
            "label": "2024",
            "method": "update"
           },
           {
            "args": [
             {
              "marker": {
               "color": [
                "rgb(246, 207, 113)",
                "rgb(102, 197, 204)",
                "rgb(248, 156, 116)",
                "rgb(135, 197, 95)"
               ]
              },
              "width": [
               0.5,
               0.5,
               0.5,
               0.5
              ],
              "x": [
               [
                "Amakim",
                "Galil Golan",
                "Galil Maaravi",
                "Negev"
               ]
              ],
              "y": [
               [
                25,
                15,
                4,
                1
               ]
              ]
             }
            ],
            "label": "2023",
            "method": "update"
           },
           {
            "args": [
             {
              "marker": {
               "color": [
                "rgb(102, 197, 204)",
                "rgb(246, 207, 113)",
                "rgb(248, 156, 116)"
               ]
              },
              "width": [
               0.5,
               0.5,
               0.5
              ],
              "x": [
               [
                "Galil Golan",
                "Amakim",
                "Galil Maaravi"
               ]
              ],
              "y": [
               [
                20,
                8,
                6
               ]
              ]
             }
            ],
            "label": "2022",
            "method": "update"
           },
           {
            "args": [
             {
              "marker": {
               "color": [
                "rgb(102, 197, 204)",
                "rgb(248, 156, 116)",
                "rgb(135, 197, 95)",
                "rgb(246, 207, 113)"
               ]
              },
              "width": [
               0.5,
               0.5,
               0.5,
               0.5
              ],
              "x": [
               [
                "Galil Golan",
                "Galil Maaravi",
                "Negev",
                "Amakim"
               ]
              ],
              "y": [
               [
                50,
                24,
                4,
                2
               ]
              ]
             }
            ],
            "label": "2021",
            "method": "update"
           },
           {
            "args": [
             {
              "marker": {
               "color": [
                "rgb(102, 197, 204)",
                "rgb(248, 156, 116)"
               ]
              },
              "width": [
               0.5,
               0.5
              ],
              "x": [
               [
                "Galil Golan",
                "Galil Maaravi"
               ]
              ],
              "y": [
               [
                76,
                16
               ]
              ]
             }
            ],
            "label": "2020",
            "method": "update"
           },
           {
            "args": [
             {
              "marker": {
               "color": [
                "rgb(102, 197, 204)",
                "rgb(246, 207, 113)",
                "rgb(220, 176, 242)"
               ]
              },
              "width": [
               0.5,
               0.5,
               0.5
              ],
              "x": [
               [
                "Galil Golan",
                "Amakim",
                "Hasharon"
               ]
              ],
              "y": [
               [
                24,
                9,
                9
               ]
              ]
             }
            ],
            "label": "2019",
            "method": "update"
           },
           {
            "args": [
             {
              "marker": {
               "color": [
                "rgb(246, 207, 113)",
                "rgb(102, 197, 204)",
                "rgb(220, 176, 242)",
                "rgb(248, 156, 116)"
               ]
              },
              "width": [
               0.5,
               0.5,
               0.5,
               0.5
              ],
              "x": [
               [
                "Amakim",
                "Galil Golan",
                "Hasharon",
                "Galil Maaravi"
               ]
              ],
              "y": [
               [
                105,
                54,
                21,
                3
               ]
              ]
             }
            ],
            "label": "2018",
            "method": "update"
           },
           {
            "args": [
             {
              "marker": {
               "color": [
                "rgb(246, 207, 113)",
                "rgb(102, 197, 204)",
                "rgb(248, 156, 116)",
                "rgb(220, 176, 242)"
               ]
              },
              "width": [
               0.5,
               0.5,
               0.5,
               0.5
              ],
              "x": [
               [
                "Amakim",
                "Galil Golan",
                "Galil Maaravi",
                "Hasharon"
               ]
              ],
              "y": [
               [
                182,
                58,
                16,
                9
               ]
              ]
             }
            ],
            "label": "2017",
            "method": "update"
           },
           {
            "args": [
             {
              "marker": {
               "color": [
                "rgb(102, 197, 204)",
                "rgb(248, 156, 116)",
                "rgb(135, 197, 95)",
                "rgb(246, 207, 113)"
               ]
              },
              "width": [
               0.5,
               0.5,
               0.5,
               0.5
              ],
              "x": [
               [
                "Galil Golan",
                "Galil Maaravi",
                "Negev",
                "Amakim"
               ]
              ],
              "y": [
               [
                60,
                36,
                16,
                4
               ]
              ]
             }
            ],
            "label": "2016",
            "method": "update"
           },
           {
            "args": [
             {
              "marker": {
               "color": [
                "rgb(102, 197, 204)",
                "rgb(248, 156, 116)",
                "rgb(135, 197, 95)"
               ]
              },
              "width": [
               0.5,
               0.5,
               0.5
              ],
              "x": [
               [
                "Galil Golan",
                "Galil Maaravi",
                "Negev"
               ]
              ],
              "y": [
               [
                76,
                24,
                4
               ]
              ]
             }
            ],
            "label": "2015",
            "method": "update"
           },
           {
            "args": [
             {
              "marker": {
               "color": [
                "rgb(102, 197, 204)",
                "rgb(135, 197, 95)"
               ]
              },
              "width": [
               0.5,
               0.5
              ],
              "x": [
               [
                "Galil Golan",
                "Negev"
               ]
              ],
              "y": [
               [
                54,
                9
               ]
              ]
             }
            ],
            "label": "2014",
            "method": "update"
           },
           {
            "args": [
             {
              "marker": {
               "color": [
                "rgb(102, 197, 204)",
                "rgb(246, 207, 113)",
                "rgb(220, 176, 242)",
                "rgb(158, 185, 243)"
               ]
              },
              "width": [
               0.5,
               0.5,
               0.5,
               0.5
              ],
              "x": [
               [
                "Galil Golan",
                "Amakim",
                "Hasharon",
                "Shfela Vahar"
               ]
              ],
              "y": [
               [
                105,
                25,
                5,
                5
               ]
              ]
             }
            ],
            "label": "2013",
            "method": "update"
           },
           {
            "args": [
             {
              "marker": {
               "color": [
                "rgb(102, 197, 204)",
                "rgb(246, 207, 113)"
               ]
              },
              "width": [
               0.5,
               0.5
              ],
              "x": [
               [
                "Galil Golan",
                "Amakim"
               ]
              ],
              "y": [
               [
                100,
                20
               ]
              ]
             }
            ],
            "label": "2012",
            "method": "update"
           },
           {
            "args": [
             {
              "marker": {
               "color": [
                "rgb(102, 197, 204)",
                "rgb(246, 207, 113)",
                "rgb(220, 176, 242)",
                "rgb(158, 185, 243)"
               ]
              },
              "width": [
               0.5,
               0.5,
               0.5,
               0.5
              ],
              "x": [
               [
                "Galil Golan",
                "Amakim",
                "Hasharon",
                "Shfela Vahar"
               ]
              ],
              "y": [
               [
                85,
                55,
                10,
                5
               ]
              ]
             }
            ],
            "label": "2011",
            "method": "update"
           },
           {
            "args": [
             {
              "marker": {
               "color": [
                "rgb(246, 207, 113)",
                "rgb(102, 197, 204)",
                "rgb(248, 156, 116)",
                "rgb(158, 185, 243)"
               ]
              },
              "width": [
               0.5,
               0.5,
               0.5,
               0.5
              ],
              "x": [
               [
                "Amakim",
                "Galil Golan",
                "Galil Maaravi",
                "Shfela Vahar"
               ]
              ],
              "y": [
               [
                153,
                142,
                18,
                5
               ]
              ]
             }
            ],
            "label": "2010",
            "method": "update"
           },
           {
            "args": [
             {
              "marker": {
               "color": [
                "rgb(102, 197, 204)",
                "rgb(246, 207, 113)",
                "rgb(158, 185, 243)",
                "rgb(248, 156, 116)",
                "rgb(135, 197, 95)"
               ]
              },
              "width": [
               0.5,
               0.5,
               0.5,
               0.5,
               0.5
              ],
              "x": [
               [
                "Galil Golan",
                "Amakim",
                "Shfela Vahar",
                "Galil Maaravi",
                "Negev"
               ]
              ],
              "y": [
               [
                307,
                203,
                19,
                7,
                7
               ]
              ]
             }
            ],
            "label": "2009",
            "method": "update"
           },
           {
            "args": [
             {
              "marker": {
               "color": [
                "rgb(102, 197, 204)",
                "rgb(135, 197, 95)",
                "rgb(158, 185, 243)"
               ]
              },
              "width": [
               0.5,
               0.5,
               0.5
              ],
              "x": [
               [
                "Galil Golan",
                "Negev",
                "Shfela Vahar"
               ]
              ],
              "y": [
               [
                35,
                7,
                7
               ]
              ]
             }
            ],
            "label": "2008",
            "method": "update"
           },
           {
            "args": [
             {
              "marker": {
               "color": [
                "rgb(102, 197, 204)",
                "rgb(248, 156, 116)"
               ]
              },
              "width": [
               0.5,
               0.5
              ],
              "x": [
               [
                "Galil Golan",
                "Galil Maaravi"
               ]
              ],
              "y": [
               [
                98,
                7
               ]
              ]
             }
            ],
            "label": "2007",
            "method": "update"
           },
           {
            "args": [
             {
              "marker": {
               "color": [
                "rgb(102, 197, 204)",
                "rgb(248, 156, 116)"
               ]
              },
              "width": [
               0.5,
               0.5
              ],
              "x": [
               [
                "Galil Golan",
                "Galil Maaravi"
               ]
              ],
              "y": [
               [
                49,
                7
               ]
              ]
             }
            ],
            "label": "2006",
            "method": "update"
           }
          ],
          "direction": "down",
          "name": "Year selector",
          "pad": {
           "r": 10,
           "t": 10
          },
          "showactive": true,
          "x": 0.1,
          "xanchor": "left",
          "y": 1.23,
          "yanchor": "top"
         }
        ],
        "xaxis": {
         "tickangle": -45,
         "title": {
          "text": "Region"
         }
        },
        "yaxis": {
         "title": {
          "text": "Count"
         }
        }
       }
      }
     },
     "metadata": {},
     "output_type": "display_data"
    }
   ],
   "source": [
    "# Calculate counts for each region\n",
    "region_counts = df_rabies_raw['RegionEng'].value_counts().reset_index()\n",
    "region_counts.columns = ['RegionEng', 'Count']\n",
    "\n",
    "# Define the region colors\n",
    "region_colors = px.colors.qualitative.Pastel\n",
    "color_map = {region: region_colors[i % len(region_colors)] for i, region in enumerate(region_counts['RegionEng'])}\n",
    "\n",
    "# Create a default view that shows all data\n",
    "default_view = region_counts.copy()\n",
    "\n",
    "# Create the initial bar chart with all data\n",
    "fig = go.Figure()\n",
    "\n",
    "def update_figure(year):\n",
    "    fig.data = []  # Clear existing traces\n",
    "    if year == 'All':\n",
    "        filtered_data = default_view\n",
    "    else:\n",
    "        filtered_data = df_rabies_raw[df_rabies_raw['Year'] == int(year)]['RegionEng'].value_counts().reset_index()\n",
    "        filtered_data.columns = ['RegionEng', 'Count']\n",
    "\n",
    "    fig.add_trace(go.Bar(\n",
    "        x=filtered_data['RegionEng'],\n",
    "        y=filtered_data['Count'],\n",
    "        marker_color=[color_map[region] for region in filtered_data['RegionEng']],\n",
    "        width=[0.5] * len(filtered_data)  # Adjust the width of the bars\n",
    "    ))\n",
    "\n",
    "    fig.update_layout(\n",
    "        title={\n",
    "            'text': 'Interactive Count of Rabies events by Region',\n",
    "            'x': 0.05,\n",
    "            'xanchor': 'left',\n",
    "            'y': 0.95,\n",
    "            'yanchor': 'top',\n",
    "        },\n",
    "        xaxis_title='Region',\n",
    "        yaxis_title='Count',\n",
    "        xaxis_tickangle=-45,\n",
    "        title_font=dict(size=22),\n",
    "        legend_title_text='Region',\n",
    "        margin=dict(t=100)  # Adjust the margin to fit the dropdown next to the title\n",
    "    )\n",
    "\n",
    "update_figure('All')  # Initial plot with all data\n",
    "\n",
    "# Create a dropdown menu for the year selector\n",
    "year_options = [{'label': 'All', 'value': 'All'}] + [{'label': str(year), 'value': year} for year in sorted(df_rabies_raw['Year'].unique(), reverse=True)]\n",
    "\n",
    "def update_trace(year):\n",
    "    if year == 'All':\n",
    "        filtered_data = default_view\n",
    "    else:\n",
    "        filtered_data = df_rabies_raw[df_rabies_raw['Year'] == int(year)]['RegionEng'].value_counts().reset_index()\n",
    "        filtered_data.columns = ['RegionEng', 'Count']\n",
    "    \n",
    "    return dict(x=[filtered_data['RegionEng']], y=[filtered_data['Count']], marker=dict(color=[color_map[region] for region in filtered_data['RegionEng']]), width=[0.5] * len(filtered_data))\n",
    "\n",
    "# Define the dropdown menu\n",
    "dropdown = go.layout.Updatemenu(\n",
    "    buttons=[dict(label=option['label'], method='update', args=[update_trace(option['value'])]) for option in year_options],\n",
    "    direction='down',\n",
    "    pad={'r': 10, 't': 10},\n",
    "    showactive=True,\n",
    "    x=0.1,  \n",
    "    xanchor='left',\n",
    "    y=1.23,  \n",
    "    yanchor='top',\n",
    "    name='Year selector'\n",
    ")\n",
    "\n",
    "# Update the layout to include the year selector just next to the title\n",
    "fig.update_layout(\n",
    "    updatemenus=[dropdown],\n",
    ")\n",
    "\n",
    "# Save the interactive plot to an HTML file\n",
    "html_content = fig.to_html(include_plotlyjs='cdn', full_html=False)\n",
    "minified_html = htmlmin.minify(html_content, remove_comments=True, reduce_empty_attributes=True)\n",
    "\n",
    "with open(\"../assets/plots/interactive_rabies_events_by_region.html\", \"w\") as f:\n",
    "    f.write(minified_html)\n",
    "\n",
    "# print(\"Interactive plot saved as HTML file.\")\n",
    "\n",
    "# Show the interactive plot\n",
    "fig.show()"
   ]
  },
  {
   "cell_type": "markdown",
   "id": "bf95a096-e625-462a-a41b-fc18c07996d7",
   "metadata": {},
   "source": [
    "From the Count Plot for Region it is seen that most cases are found at the Galil and Golan regions.\n",
    "\n",
    "The Galil and Golan regions, known for their diverse wildlife and rural landscapes, may exhibit higher cases of rabies for several reasons:\n",
    "\n",
    "Wildlife Reservoirs: These areas are habitats for wildlife species known to be common reservoirs for the rabies virus, such as foxes, jackals, and raccoons. The interaction between wild animals and domestic pets or livestock can lead to a higher incidence of rabies transmission.\n",
    "\n",
    "Rural and Agricultural Land: The Galil and Golan regions have substantial agricultural activity. Farms and domestic animals may have greater exposure to wildlife, increasing the risk of rabies transmission.\n",
    "\n",
    "Human-Wildlife Interaction: Increased human encroachment into wildlife habitats can lead to more frequent interactions between humans and potentially rabid animals, raising the risk of rabies cases.\n",
    "\n",
    "Vaccination and Control Measures: There may be variations in the effectiveness of animal vaccination programs and wildlife rabies control measures. Regions with less stringent control measures might experience more outbreaks.\n",
    "\n",
    "Climate and Environment: Environmental factors, such as climate, vegetation, and the availability of water sources, can influence the density and behavior of rabies vector species. Cooler climates in higher altitudes, like the Golan Heights, might affect the survival and transmission patterns of the rabies virus.\n",
    "\n",
    "Reporting and Surveillance: The observed higher number of cases could also be a result of more thorough reporting and surveillance in these regions, rather than an actual higher incidence of the disease."
   ]
  },
  {
   "cell_type": "markdown",
   "id": "eb34d412",
   "metadata": {},
   "source": [
    "#### Count of Rabies events per Year - Seaborn"
   ]
  },
  {
   "cell_type": "code",
   "execution_count": 26,
   "id": "c3d72bad-f308-400c-aef1-9c3500757703",
   "metadata": {},
   "outputs": [
    {
     "data": {
      "image/png": "[encoded data removed]",
      "text/plain": [
       "<Figure size 1400x700 with 1 Axes>"
      ]
     },
     "metadata": {},
     "output_type": "display_data"
    }
   ],
   "source": [
    "##Count of Rabies events per Year\n",
    "\n",
    "# Count the number of events per year\n",
    "events_per_year = df_rabies_raw.groupby('Year').size()\n",
    "\n",
    "# Create a Seaborn bar plot\n",
    "plt.figure(figsize=(14, 7))\n",
    "sns.barplot(x=events_per_year.index, y=events_per_year.values, palette='coolwarm', hue=events_per_year.index)\n",
    "\n",
    "# Enhance the plot with titles and labels\n",
    "plt.title('Count of Rabies events per Year', fontsize=20)\n",
    "plt.xlabel('Year', fontsize=14)\n",
    "plt.ylabel('Number of Events', fontsize=14)\n",
    "plt.xticks(rotation=45, fontsize=12)  # Rotate x-labels if they overlap\n",
    "plt.yticks(fontsize=12)\n",
    "\n",
    "# Add grid lines for better readability\n",
    "plt.grid(axis='y', linestyle='--', alpha=0.7)\n",
    "\n",
    "# Display the plot\n",
    "plt.show()\n"
   ]
  },
  {
   "cell_type": "markdown",
   "id": "d9ed5133",
   "metadata": {},
   "source": [
    "#### Count of Rabies events per Year - Plotly"
   ]
  },
  {
   "cell_type": "code",
   "execution_count": 28,
   "id": "199e5154",
   "metadata": {},
   "outputs": [
    {
     "data": {
      "application/vnd.plotly.v1+json": {
       "config": {
        "plotlyServerURL": "https://plot.ly"
       },
       "data": [
        {
         "marker": {
          "color": [
           "blue",
           "blue",
           "blue",
           "blue",
           "blue",
           "blue",
           "blue",
           "blue",
           "blue",
           "blue",
           "blue",
           "blue",
           "blue",
           "blue",
           "blue",
           "blue",
           "blue",
           "blue",
           "blue"
          ]
         },
         "type": "bar",
         "width": [
          0.5,
          0.5,
          0.5,
          0.5,
          0.5,
          0.5,
          0.5,
          0.5,
          0.5,
          0.5,
          0.5,
          0.5,
          0.5,
          0.5,
          0.5,
          0.5,
          0.5,
          0.5,
          0.5
         ],
         "x": [
          2006,
          2007,
          2008,
          2009,
          2010,
          2011,
          2012,
          2013,
          2014,
          2015,
          2016,
          2017,
          2018,
          2019,
          2020,
          2021,
          2022,
          2023,
          2024
         ],
         "y": [
          56,
          105,
          49,
          543,
          318,
          155,
          120,
          140,
          63,
          104,
          116,
          265,
          183,
          42,
          92,
          80,
          34,
          44,
          31
         ]
        }
       ],
       "layout": {
        "legend": {
         "title": {
          "text": "Species"
         }
        },
        "template": {
         "data": {
          "bar": [
           {
            "error_x": {
             "color": "#2a3f5f"
            },
            "error_y": {
             "color": "#2a3f5f"
            },
            "marker": {
             "line": {
              "color": "#E5ECF6",
              "width": 0.5
             },
             "pattern": {
              "fillmode": "overlay",
              "size": 10,
              "solidity": 0.2
             }
            },
            "type": "bar"
           }
          ],
          "barpolar": [
           {
            "marker": {
             "line": {
              "color": "#E5ECF6",
              "width": 0.5
             },
             "pattern": {
              "fillmode": "overlay",
              "size": 10,
              "solidity": 0.2
             }
            },
            "type": "barpolar"
           }
          ],
          "carpet": [
           {
            "aaxis": {
             "endlinecolor": "#2a3f5f",
             "gridcolor": "white",
             "linecolor": "white",
             "minorgridcolor": "white",
             "startlinecolor": "#2a3f5f"
            },
            "baxis": {
             "endlinecolor": "#2a3f5f",
             "gridcolor": "white",
             "linecolor": "white",
             "minorgridcolor": "white",
             "startlinecolor": "#2a3f5f"
            },
            "type": "carpet"
           }
          ],
          "choropleth": [
           {
            "colorbar": {
             "outlinewidth": 0,
             "ticks": ""
            },
            "type": "choropleth"
           }
          ],
          "contour": [
           {
            "colorbar": {
             "outlinewidth": 0,
             "ticks": ""
            },
            "colorscale": [
             [
              0,
              "#0d0887"
             ],
             [
              0.1111111111111111,
              "#46039f"
             ],
             [
              0.2222222222222222,
              "#7201a8"
             ],
             [
              0.3333333333333333,
              "#9c179e"
             ],
             [
              0.4444444444444444,
              "#bd3786"
             ],
             [
              0.5555555555555556,
              "#d8576b"
             ],
             [
              0.6666666666666666,
              "#ed7953"
             ],
             [
              0.7777777777777778,
              "#fb9f3a"
             ],
             [
              0.8888888888888888,
              "#fdca26"
             ],
             [
              1,
              "#f0f921"
             ]
            ],
            "type": "contour"
           }
          ],
          "contourcarpet": [
           {
            "colorbar": {
             "outlinewidth": 0,
             "ticks": ""
            },
            "type": "contourcarpet"
           }
          ],
          "heatmap": [
           {
            "colorbar": {
             "outlinewidth": 0,
             "ticks": ""
            },
            "colorscale": [
             [
              0,
              "#0d0887"
             ],
             [
              0.1111111111111111,
              "#46039f"
             ],
             [
              0.2222222222222222,
              "#7201a8"
             ],
             [
              0.3333333333333333,
              "#9c179e"
             ],
             [
              0.4444444444444444,
              "#bd3786"
             ],
             [
              0.5555555555555556,
              "#d8576b"
             ],
             [
              0.6666666666666666,
              "#ed7953"
             ],
             [
              0.7777777777777778,
              "#fb9f3a"
             ],
             [
              0.8888888888888888,
              "#fdca26"
             ],
             [
              1,
              "#f0f921"
             ]
            ],
            "type": "heatmap"
           }
          ],
          "heatmapgl": [
           {
            "colorbar": {
             "outlinewidth": 0,
             "ticks": ""
            },
            "colorscale": [
             [
              0,
              "#0d0887"
             ],
             [
              0.1111111111111111,
              "#46039f"
             ],
             [
              0.2222222222222222,
              "#7201a8"
             ],
             [
              0.3333333333333333,
              "#9c179e"
             ],
             [
              0.4444444444444444,
              "#bd3786"
             ],
             [
              0.5555555555555556,
              "#d8576b"
             ],
             [
              0.6666666666666666,
              "#ed7953"
             ],
             [
              0.7777777777777778,
              "#fb9f3a"
             ],
             [
              0.8888888888888888,
              "#fdca26"
             ],
             [
              1,
              "#f0f921"
             ]
            ],
            "type": "heatmapgl"
           }
          ],
          "histogram": [
           {
            "marker": {
             "pattern": {
              "fillmode": "overlay",
              "size": 10,
              "solidity": 0.2
             }
            },
            "type": "histogram"
           }
          ],
          "histogram2d": [
           {
            "colorbar": {
             "outlinewidth": 0,
             "ticks": ""
            },
            "colorscale": [
             [
              0,
              "#0d0887"
             ],
             [
              0.1111111111111111,
              "#46039f"
             ],
             [
              0.2222222222222222,
              "#7201a8"
             ],
             [
              0.3333333333333333,
              "#9c179e"
             ],
             [
              0.4444444444444444,
              "#bd3786"
             ],
             [
              0.5555555555555556,
              "#d8576b"
             ],
             [
              0.6666666666666666,
              "#ed7953"
             ],
             [
              0.7777777777777778,
              "#fb9f3a"
             ],
             [
              0.8888888888888888,
              "#fdca26"
             ],
             [
              1,
              "#f0f921"
             ]
            ],
            "type": "histogram2d"
           }
          ],
          "histogram2dcontour": [
           {
            "colorbar": {
             "outlinewidth": 0,
             "ticks": ""
            },
            "colorscale": [
             [
              0,
              "#0d0887"
             ],
             [
              0.1111111111111111,
              "#46039f"
             ],
             [
              0.2222222222222222,
              "#7201a8"
             ],
             [
              0.3333333333333333,
              "#9c179e"
             ],
             [
              0.4444444444444444,
              "#bd3786"
             ],
             [
              0.5555555555555556,
              "#d8576b"
             ],
             [
              0.6666666666666666,
              "#ed7953"
             ],
             [
              0.7777777777777778,
              "#fb9f3a"
             ],
             [
              0.8888888888888888,
              "#fdca26"
             ],
             [
              1,
              "#f0f921"
             ]
            ],
            "type": "histogram2dcontour"
           }
          ],
          "mesh3d": [
           {
            "colorbar": {
             "outlinewidth": 0,
             "ticks": ""
            },
            "type": "mesh3d"
           }
          ],
          "parcoords": [
           {
            "line": {
             "colorbar": {
              "outlinewidth": 0,
              "ticks": ""
             }
            },
            "type": "parcoords"
           }
          ],
          "pie": [
           {
            "automargin": true,
            "type": "pie"
           }
          ],
          "scatter": [
           {
            "fillpattern": {
             "fillmode": "overlay",
             "size": 10,
             "solidity": 0.2
            },
            "type": "scatter"
           }
          ],
          "scatter3d": [
           {
            "line": {
             "colorbar": {
              "outlinewidth": 0,
              "ticks": ""
             }
            },
            "marker": {
             "colorbar": {
              "outlinewidth": 0,
              "ticks": ""
             }
            },
            "type": "scatter3d"
           }
          ],
          "scattercarpet": [
           {
            "marker": {
             "colorbar": {
              "outlinewidth": 0,
              "ticks": ""
             }
            },
            "type": "scattercarpet"
           }
          ],
          "scattergeo": [
           {
            "marker": {
             "colorbar": {
              "outlinewidth": 0,
              "ticks": ""
             }
            },
            "type": "scattergeo"
           }
          ],
          "scattergl": [
           {
            "marker": {
             "colorbar": {
              "outlinewidth": 0,
              "ticks": ""
             }
            },
            "type": "scattergl"
           }
          ],
          "scattermapbox": [
           {
            "marker": {
             "colorbar": {
              "outlinewidth": 0,
              "ticks": ""
             }
            },
            "type": "scattermapbox"
           }
          ],
          "scatterpolar": [
           {
            "marker": {
             "colorbar": {
              "outlinewidth": 0,
              "ticks": ""
             }
            },
            "type": "scatterpolar"
           }
          ],
          "scatterpolargl": [
           {
            "marker": {
             "colorbar": {
              "outlinewidth": 0,
              "ticks": ""
             }
            },
            "type": "scatterpolargl"
           }
          ],
          "scatterternary": [
           {
            "marker": {
             "colorbar": {
              "outlinewidth": 0,
              "ticks": ""
             }
            },
            "type": "scatterternary"
           }
          ],
          "surface": [
           {
            "colorbar": {
             "outlinewidth": 0,
             "ticks": ""
            },
            "colorscale": [
             [
              0,
              "#0d0887"
             ],
             [
              0.1111111111111111,
              "#46039f"
             ],
             [
              0.2222222222222222,
              "#7201a8"
             ],
             [
              0.3333333333333333,
              "#9c179e"
             ],
             [
              0.4444444444444444,
              "#bd3786"
             ],
             [
              0.5555555555555556,
              "#d8576b"
             ],
             [
              0.6666666666666666,
              "#ed7953"
             ],
             [
              0.7777777777777778,
              "#fb9f3a"
             ],
             [
              0.8888888888888888,
              "#fdca26"
             ],
             [
              1,
              "#f0f921"
             ]
            ],
            "type": "surface"
           }
          ],
          "table": [
           {
            "cells": {
             "fill": {
              "color": "#EBF0F8"
             },
             "line": {
              "color": "white"
             }
            },
            "header": {
             "fill": {
              "color": "#C8D4E3"
             },
             "line": {
              "color": "white"
             }
            },
            "type": "table"
           }
          ]
         },
         "layout": {
          "annotationdefaults": {
           "arrowcolor": "#2a3f5f",
           "arrowhead": 0,
           "arrowwidth": 1
          },
          "autotypenumbers": "strict",
          "coloraxis": {
           "colorbar": {
            "outlinewidth": 0,
            "ticks": ""
           }
          },
          "colorscale": {
           "diverging": [
            [
             0,
             "#8e0152"
            ],
            [
             0.1,
             "#c51b7d"
            ],
            [
             0.2,
             "#de77ae"
            ],
            [
             0.3,
             "#f1b6da"
            ],
            [
             0.4,
             "#fde0ef"
            ],
            [
             0.5,
             "#f7f7f7"
            ],
            [
             0.6,
             "#e6f5d0"
            ],
            [
             0.7,
             "#b8e186"
            ],
            [
             0.8,
             "#7fbc41"
            ],
            [
             0.9,
             "#4d9221"
            ],
            [
             1,
             "#276419"
            ]
           ],
           "sequential": [
            [
             0,
             "#0d0887"
            ],
            [
             0.1111111111111111,
             "#46039f"
            ],
            [
             0.2222222222222222,
             "#7201a8"
            ],
            [
             0.3333333333333333,
             "#9c179e"
            ],
            [
             0.4444444444444444,
             "#bd3786"
            ],
            [
             0.5555555555555556,
             "#d8576b"
            ],
            [
             0.6666666666666666,
             "#ed7953"
            ],
            [
             0.7777777777777778,
             "#fb9f3a"
            ],
            [
             0.8888888888888888,
             "#fdca26"
            ],
            [
             1,
             "#f0f921"
            ]
           ],
           "sequentialminus": [
            [
             0,
             "#0d0887"
            ],
            [
             0.1111111111111111,
             "#46039f"
            ],
            [
             0.2222222222222222,
             "#7201a8"
            ],
            [
             0.3333333333333333,
             "#9c179e"
            ],
            [
             0.4444444444444444,
             "#bd3786"
            ],
            [
             0.5555555555555556,
             "#d8576b"
            ],
            [
             0.6666666666666666,
             "#ed7953"
            ],
            [
             0.7777777777777778,
             "#fb9f3a"
            ],
            [
             0.8888888888888888,
             "#fdca26"
            ],
            [
             1,
             "#f0f921"
            ]
           ]
          },
          "colorway": [
           "#636efa",
           "#EF553B",
           "#00cc96",
           "#ab63fa",
           "#FFA15A",
           "#19d3f3",
           "#FF6692",
           "#B6E880",
           "#FF97FF",
           "#FECB52"
          ],
          "font": {
           "color": "#2a3f5f"
          },
          "geo": {
           "bgcolor": "white",
           "lakecolor": "white",
           "landcolor": "#E5ECF6",
           "showlakes": true,
           "showland": true,
           "subunitcolor": "white"
          },
          "hoverlabel": {
           "align": "left"
          },
          "hovermode": "closest",
          "mapbox": {
           "style": "light"
          },
          "paper_bgcolor": "white",
          "plot_bgcolor": "#E5ECF6",
          "polar": {
           "angularaxis": {
            "gridcolor": "white",
            "linecolor": "white",
            "ticks": ""
           },
           "bgcolor": "#E5ECF6",
           "radialaxis": {
            "gridcolor": "white",
            "linecolor": "white",
            "ticks": ""
           }
          },
          "scene": {
           "xaxis": {
            "backgroundcolor": "#E5ECF6",
            "gridcolor": "white",
            "gridwidth": 2,
            "linecolor": "white",
            "showbackground": true,
            "ticks": "",
            "zerolinecolor": "white"
           },
           "yaxis": {
            "backgroundcolor": "#E5ECF6",
            "gridcolor": "white",
            "gridwidth": 2,
            "linecolor": "white",
            "showbackground": true,
            "ticks": "",
            "zerolinecolor": "white"
           },
           "zaxis": {
            "backgroundcolor": "#E5ECF6",
            "gridcolor": "white",
            "gridwidth": 2,
            "linecolor": "white",
            "showbackground": true,
            "ticks": "",
            "zerolinecolor": "white"
           }
          },
          "shapedefaults": {
           "line": {
            "color": "#2a3f5f"
           }
          },
          "ternary": {
           "aaxis": {
            "gridcolor": "white",
            "linecolor": "white",
            "ticks": ""
           },
           "baxis": {
            "gridcolor": "white",
            "linecolor": "white",
            "ticks": ""
           },
           "bgcolor": "#E5ECF6",
           "caxis": {
            "gridcolor": "white",
            "linecolor": "white",
            "ticks": ""
           }
          },
          "title": {
           "x": 0.05
          },
          "xaxis": {
           "automargin": true,
           "gridcolor": "white",
           "linecolor": "white",
           "ticks": "",
           "title": {
            "standoff": 15
           },
           "zerolinecolor": "white",
           "zerolinewidth": 2
          },
          "yaxis": {
           "automargin": true,
           "gridcolor": "white",
           "linecolor": "white",
           "ticks": "",
           "title": {
            "standoff": 15
           },
           "zerolinecolor": "white",
           "zerolinewidth": 2
          }
         }
        },
        "title": {
         "font": {
          "size": 22
         },
         "text": "Interactive Count of Rabies Events by Species and Year",
         "x": 0.4,
         "xanchor": "center",
         "y": 0.95,
         "yanchor": "top"
        },
        "updatemenus": [
         {
          "buttons": [
           {
            "args": [
             {
              "marker": {
               "color": [
                "blue",
                "blue",
                "blue",
                "blue",
                "blue",
                "blue",
                "blue",
                "blue",
                "blue",
                "blue",
                "blue",
                "blue",
                "blue",
                "blue",
                "blue",
                "blue",
                "blue",
                "blue",
                "blue"
               ]
              },
              "x": [
               [
                2006,
                2007,
                2008,
                2009,
                2010,
                2011,
                2012,
                2013,
                2014,
                2015,
                2016,
                2017,
                2018,
                2019,
                2020,
                2021,
                2022,
                2023,
                2024
               ]
              ],
              "y": [
               [
                56,
                105,
                49,
                543,
                318,
                155,
                120,
                140,
                63,
                104,
                116,
                265,
                183,
                42,
                92,
                80,
                34,
                44,
                31
               ]
              ]
             }
            ],
            "label": "All",
            "method": "update"
           },
           {
            "args": [
             {
              "marker": {
               "color": [
                "#636EFA",
                "#636EFA",
                "#636EFA",
                "#636EFA",
                "#636EFA",
                "#636EFA",
                "#636EFA",
                "#636EFA",
                "#636EFA",
                "#636EFA",
                "#636EFA",
                "#636EFA",
                "#636EFA",
                "#636EFA",
                "#636EFA",
                "#636EFA",
                "#636EFA",
                "#636EFA",
                "#636EFA"
               ]
              },
              "x": [
               [
                2006,
                2007,
                2008,
                2009,
                2010,
                2011,
                2012,
                2013,
                2014,
                2015,
                2016,
                2017,
                2018,
                2019,
                2020,
                2021,
                2022,
                2023,
                2024
               ]
              ],
              "y": [
               [
                35,
                56,
                28,
                292,
                136,
                50,
                60,
                85,
                14,
                44,
                48,
                35,
                18,
                26,
                30,
                42,
                8,
                7,
                8
               ]
              ]
             }
            ],
            "label": "Dog",
            "method": "update"
           },
           {
            "args": [
             {
              "marker": {
               "color": [
                "#EF553B",
                "#EF553B",
                "#EF553B",
                "#EF553B",
                "#EF553B",
                "#EF553B",
                "#EF553B",
                "#EF553B",
                "#EF553B",
                "#EF553B",
                "#EF553B",
                "#EF553B",
                "#EF553B",
                "#EF553B",
                "#EF553B",
                "#EF553B",
                "#EF553B",
                "#EF553B"
               ]
              },
              "x": [
               [
                2007,
                2008,
                2009,
                2010,
                2011,
                2012,
                2013,
                2014,
                2015,
                2016,
                2017,
                2018,
                2019,
                2020,
                2021,
                2022,
                2023,
                2024
               ]
              ],
              "y": [
               [
                7,
                7,
                110,
                71,
                20,
                10,
                5,
                10,
                12,
                16,
                165,
                132,
                16,
                46,
                20,
                22,
                29,
                12
               ]
              ]
             }
            ],
            "label": "Jackal",
            "method": "update"
           },
           {
            "args": [
             {
              "marker": {
               "color": [
                "#00CC96",
                "#00CC96",
                "#00CC96",
                "#00CC96",
                "#00CC96",
                "#00CC96",
                "#00CC96",
                "#00CC96",
                "#00CC96",
                "#00CC96",
                "#00CC96",
                "#00CC96",
                "#00CC96",
                "#00CC96",
                "#00CC96",
                "#00CC96",
                "#00CC96"
               ]
              },
              "x": [
               [
                2006,
                2007,
                2009,
                2010,
                2011,
                2012,
                2013,
                2014,
                2015,
                2016,
                2017,
                2018,
                2020,
                2021,
                2022,
                2023,
                2024
               ]
              ],
              "y": [
               [
                7,
                7,
                63,
                52,
                45,
                40,
                40,
                5,
                28,
                20,
                53,
                24,
                12,
                8,
                3,
                5,
                6
               ]
              ]
             }
            ],
            "label": "Cattle",
            "method": "update"
           },
           {
            "args": [
             {
              "marker": {
               "color": [
                "#AB63FA",
                "#AB63FA",
                "#AB63FA",
                "#AB63FA",
                "#AB63FA",
                "#AB63FA",
                "#AB63FA",
                "#AB63FA",
                "#AB63FA",
                "#AB63FA"
               ]
              },
              "x": [
               [
                2006,
                2007,
                2008,
                2009,
                2010,
                2012,
                2014,
                2015,
                2016,
                2024
               ]
              ],
              "y": [
               [
                7,
                28,
                14,
                26,
                6,
                5,
                9,
                4,
                28,
                1
               ]
              ]
             }
            ],
            "label": "Fox",
            "method": "update"
           },
           {
            "args": [
             {
              "marker": {
               "color": [
                "#FFA15A",
                "#FFA15A",
                "#FFA15A",
                "#FFA15A",
                "#FFA15A",
                "#FFA15A",
                "#FFA15A",
                "#FFA15A"
               ]
              },
              "x": [
               [
                2009,
                2010,
                2011,
                2012,
                2017,
                2018,
                2021,
                2024
               ]
              ],
              "y": [
               [
                14,
                24,
                10,
                5,
                4,
                3,
                4,
                3
               ]
              ]
             }
            ],
            "label": "Sheep",
            "method": "update"
           },
           {
            "args": [
             {
              "marker": {
               "color": [
                "#19D3F3",
                "#19D3F3",
                "#19D3F3",
                "#19D3F3",
                "#19D3F3",
                "#19D3F3",
                "#19D3F3",
                "#19D3F3",
                "#19D3F3"
               ]
              },
              "x": [
               [
                2009,
                2010,
                2011,
                2013,
                2014,
                2015,
                2020,
                2021,
                2023
               ]
              ],
              "y": [
               [
                7,
                12,
                5,
                5,
                20,
                8,
                4,
                2,
                2
               ]
              ]
             }
            ],
            "label": "Wolf",
            "method": "update"
           },
           {
            "args": [
             {
              "marker": {
               "color": [
                "#FF6692",
                "#FF6692",
                "#FF6692",
                "#FF6692",
                "#FF6692",
                "#FF6692"
               ]
              },
              "x": [
               [
                2009,
                2010,
                2011,
                2015,
                2017,
                2022
               ]
              ],
              "y": [
               [
                12,
                17,
                5,
                4,
                8,
                1
               ]
              ]
             }
            ],
            "label": "Cat",
            "method": "update"
           },
           {
            "args": [
             {
              "marker": {
               "color": [
                "#B6E880",
                "#B6E880",
                "#B6E880",
                "#B6E880",
                "#B6E880"
               ]
              },
              "x": [
               [
                2006,
                2011,
                2013,
                2016,
                2018
               ]
              ],
              "y": [
               [
                7,
                10,
                5,
                4,
                3
               ]
              ]
             }
            ],
            "label": "Horse",
            "method": "update"
           },
           {
            "args": [
             {
              "marker": {
               "color": [
                "#FF97FF",
                "#FF97FF",
                "#FF97FF",
                "#FF97FF",
                "#FF97FF",
                "#FF97FF",
                "#FF97FF"
               ]
              },
              "x": [
               [
                2011,
                2014,
                2015,
                2018,
                2021,
                2023,
                2024
               ]
              ],
              "y": [
               [
                10,
                5,
                4,
                3,
                2,
                1,
                1
               ]
              ]
             }
            ],
            "label": "Badger",
            "method": "update"
           },
           {
            "args": [
             {
              "marker": {
               "color": [
                "#FECB52"
               ]
              },
              "x": [
               [
                2009
               ]
              ],
              "y": [
               [
                12
               ]
              ]
             }
            ],
            "label": "Donkey",
            "method": "update"
           },
           {
            "args": [
             {
              "marker": {
               "color": [
                "#636EFA"
               ]
              },
              "x": [
               [
                2009
               ]
              ],
              "y": [
               [
                7
               ]
              ]
             }
            ],
            "label": "Martes",
            "method": "update"
           },
           {
            "args": [
             {
              "marker": {
               "color": [
                "#EF553B"
               ]
              },
              "x": [
               [
                2007
               ]
              ],
              "y": [
               [
                7
               ]
              ]
             }
            ],
            "label": "Mongoose",
            "method": "update"
           },
           {
            "args": [
             {
              "marker": {
               "color": [
                "#00CC96"
               ]
              },
              "x": [
               [
                2021
               ]
              ],
              "y": [
               [
                2
               ]
              ]
             }
            ],
            "label": "Cow",
            "method": "update"
           }
          ],
          "direction": "down",
          "pad": {
           "r": 10,
           "t": 10
          },
          "showactive": true,
          "x": 0.1,
          "xanchor": "center",
          "y": 1.25,
          "yanchor": "top"
         }
        ],
        "xaxis": {
         "tickangle": -45,
         "title": {
          "text": "Year"
         }
        },
        "yaxis": {
         "title": {
          "text": "Number of Events"
         }
        }
       }
      }
     },
     "metadata": {},
     "output_type": "display_data"
    }
   ],
   "source": [
    "# Count the number of events per year and species\n",
    "events_per_species = df_rabies_raw.groupby(['Year', 'SpeciesNameEng']).size().reset_index(name='Count')\n",
    "species_counts = df_rabies_raw['SpeciesNameEng'].value_counts().reset_index()\n",
    "species_counts.columns = ['SpeciesNameEng', 'Count']\n",
    "\n",
    "# Define the species colors\n",
    "species_colors = px.colors.qualitative.Plotly\n",
    "color_map = {species: species_colors[i % len(species_colors)] for i, species in enumerate(species_counts['SpeciesNameEng'])}\n",
    "\n",
    "# Create a default view that shows all data\n",
    "default_view = events_per_species.groupby('Year').sum().reset_index()\n",
    "\n",
    "# Create the initial bar chart with all data\n",
    "fig = go.Figure()\n",
    "\n",
    "# Add a trace for the initial view\n",
    "fig.add_trace(go.Bar(\n",
    "    x=default_view['Year'],\n",
    "    y=default_view['Count'],\n",
    "    marker_color='blue',  # Use a single color for the default view\n",
    "    width=[0.5] * len(default_view)  # Adjust the width of the bars\n",
    "))\n",
    "\n",
    "# Function to update the figure based on selected species\n",
    "def update_figure(species):\n",
    "    fig.data = []  # Clear existing traces\n",
    "    if species == 'All':\n",
    "        filtered_data = events_per_species.groupby('Year').sum().reset_index()\n",
    "        color = 'blue'\n",
    "    else:\n",
    "        filtered_data = events_per_species[events_per_species['SpeciesNameEng'] == species]\n",
    "        color = color_map[species]\n",
    "    \n",
    "    fig.add_trace(go.Bar(\n",
    "        x=filtered_data['Year'],\n",
    "        y=filtered_data['Count'],\n",
    "        marker_color=[color] * len(filtered_data),  # Use the color for the selected species\n",
    "        width=[0.5] * len(filtered_data)  # Adjust the width of the bars\n",
    "    ))\n",
    "    \n",
    "    fig.update_layout(\n",
    "        title='Interactive Count of Rabies Events by Species and Year',\n",
    "        xaxis_title='Year',\n",
    "        yaxis_title='Number of Events',\n",
    "        xaxis_tickangle=-45,\n",
    "        title_x=0.45,\n",
    "        title_font=dict(size=22),\n",
    "        legend_title_text='Species'\n",
    "    )\n",
    "\n",
    "# Update the figure with initial data\n",
    "update_figure('All')\n",
    "\n",
    "# Create a dropdown menu for species selection\n",
    "species_options = [{'label': 'All', 'value': 'All'}] + [{'label': species, 'value': species} for species in species_counts['SpeciesNameEng']]\n",
    "\n",
    "def update_trace(species):\n",
    "    if species == 'All':\n",
    "        filtered_data = events_per_species.groupby('Year').sum().reset_index()\n",
    "        color = 'blue'\n",
    "    else:\n",
    "        filtered_data = events_per_species[events_per_species['SpeciesNameEng'] == species]\n",
    "        color = color_map[species]\n",
    "    \n",
    "    return dict(x=[filtered_data['Year']], y=[filtered_data['Count']], marker=dict(color=[color] * len(filtered_data)))\n",
    "\n",
    "dropdown = go.layout.Updatemenu(\n",
    "    buttons=[dict(label=option['label'], method='update', args=[update_trace(option['value'])]) for option in species_options],\n",
    "    direction='down',\n",
    "    pad={'r': 10, 't': 10},\n",
    "    showactive=True,\n",
    "    x=0.1,\n",
    "    xanchor='center',\n",
    "    y=1.25,\n",
    "    yanchor='top'\n",
    ")\n",
    "\n",
    "# Update the layout to include the species selector on the same line as the title\n",
    "fig.update_layout(\n",
    "    updatemenus=[dropdown],\n",
    "    title={\n",
    "        'text': 'Interactive Count of Rabies Events by Species and Year',\n",
    "        'x': 0.4,\n",
    "        'xanchor': 'center',\n",
    "        'y': 0.95,\n",
    "        'yanchor': 'top',\n",
    "    },\n",
    ")\n",
    "\n",
    "# Save the interactive plot to an HTML file\n",
    "html_content = fig.to_html(include_plotlyjs='cdn', full_html=False)\n",
    "minified_html = htmlmin.minify(html_content, remove_comments=True, reduce_empty_attributes=True)\n",
    "\n",
    "with open(\"../assets/plots/interactive_rabies_events_species.html\", \"w\") as f:\n",
    "    f.write(minified_html)\n",
    "\n",
    "# print(\"Interactive plot saved as HTML file.\")\n",
    "\n",
    "# Show the interactive plot\n",
    "fig.show()"
   ]
  },
  {
   "cell_type": "markdown",
   "id": "7dfc22b2",
   "metadata": {},
   "source": [
    "#### Aggregated Count by Month Across All Years - Seaborn"
   ]
  },
  {
   "cell_type": "code",
   "execution_count": 42,
   "id": "ffd20523-affa-4c4e-bd4d-0cc3ac731723",
   "metadata": {},
   "outputs": [
    {
     "data": {
      "image/png": "[encoded data removed]",
      "text/plain": [
       "<Figure size 1400x700 with 1 Axes>"
      ]
     },
     "metadata": {},
     "output_type": "display_data"
    }
   ],
   "source": [
    "## Aggregated Count by Month Across All Years\n",
    "\n",
    "# Count the number of events per month\n",
    "events_per_month = df_rabies_raw.groupby('Month').size()\n",
    "\n",
    "# Plot the results with Seaborn\n",
    "plt.figure(figsize=(14, 7))\n",
    "barplot = sns.barplot(x=events_per_month.index, y=events_per_month.values, palette='viridis', hue=events_per_month.index, legend=False)\n",
    "\n",
    "# Enhance the plot with titles and labels\n",
    "plt.title('Aggregated Count of Events per Month Across All Years', fontsize=20)\n",
    "plt.xlabel('Month', fontsize=14)\n",
    "plt.ylabel('Number of Events', fontsize=14)\n",
    "plt.xticks(ticks=range(12), labels=['Jan', 'Feb', 'Mar', 'Apr', 'May', 'Jun', 'Jul', 'Aug', 'Sep', 'Oct', 'Nov', 'Dec'], fontsize=12)\n",
    "plt.yticks(fontsize=12)\n",
    "\n",
    "# Add the number above each bar\n",
    "for p in barplot.patches:\n",
    "    barplot.annotate(format(p.get_height(), '.0f'), \n",
    "                     (p.get_x() + p.get_width() / 2., p.get_height()), \n",
    "                     ha = 'center', va = 'center', \n",
    "                     xytext = (0, 9), \n",
    "                     textcoords = 'offset points')\n",
    "\n",
    "# Add grid lines for better readability\n",
    "plt.grid(axis='y', linestyle='--', alpha=0.7)\n",
    "\n",
    "# Display the plot\n",
    "plt.show()"
   ]
  },
  {
   "cell_type": "markdown",
   "id": "b80126e7",
   "metadata": {},
   "source": [
    "#### Aggregated Count by Month Across All Years - Plotly"
   ]
  },
  {
   "cell_type": "code",
   "execution_count": 29,
   "id": "7a34b61d",
   "metadata": {},
   "outputs": [
    {
     "data": {
      "application/vnd.plotly.v1+json": {
       "config": {
        "plotlyServerURL": "https://plot.ly"
       },
       "data": [
        {
         "marker": {
          "color": "blue"
         },
         "text": [
          232,
          230,
          163,
          181,
          165,
          135,
          111,
          161,
          226,
          297,
          344,
          296
         ],
         "textposition": "outside",
         "type": "bar",
         "x": [
          "Jan",
          "Feb",
          "Mar",
          "Apr",
          "May",
          "Jun",
          "Jul",
          "Aug",
          "Sep",
          "Oct",
          "Nov",
          "Dec"
         ],
         "y": [
          232,
          230,
          163,
          181,
          165,
          135,
          111,
          161,
          226,
          297,
          344,
          296
         ]
        }
       ],
       "layout": {
        "legend": {
         "title": {
          "text": "Species"
         }
        },
        "template": {
         "data": {
          "bar": [
           {
            "error_x": {
             "color": "#2a3f5f"
            },
            "error_y": {
             "color": "#2a3f5f"
            },
            "marker": {
             "line": {
              "color": "#E5ECF6",
              "width": 0.5
             },
             "pattern": {
              "fillmode": "overlay",
              "size": 10,
              "solidity": 0.2
             }
            },
            "type": "bar"
           }
          ],
          "barpolar": [
           {
            "marker": {
             "line": {
              "color": "#E5ECF6",
              "width": 0.5
             },
             "pattern": {
              "fillmode": "overlay",
              "size": 10,
              "solidity": 0.2
             }
            },
            "type": "barpolar"
           }
          ],
          "carpet": [
           {
            "aaxis": {
             "endlinecolor": "#2a3f5f",
             "gridcolor": "white",
             "linecolor": "white",
             "minorgridcolor": "white",
             "startlinecolor": "#2a3f5f"
            },
            "baxis": {
             "endlinecolor": "#2a3f5f",
             "gridcolor": "white",
             "linecolor": "white",
             "minorgridcolor": "white",
             "startlinecolor": "#2a3f5f"
            },
            "type": "carpet"
           }
          ],
          "choropleth": [
           {
            "colorbar": {
             "outlinewidth": 0,
             "ticks": ""
            },
            "type": "choropleth"
           }
          ],
          "contour": [
           {
            "colorbar": {
             "outlinewidth": 0,
             "ticks": ""
            },
            "colorscale": [
             [
              0,
              "#0d0887"
             ],
             [
              0.1111111111111111,
              "#46039f"
             ],
             [
              0.2222222222222222,
              "#7201a8"
             ],
             [
              0.3333333333333333,
              "#9c179e"
             ],
             [
              0.4444444444444444,
              "#bd3786"
             ],
             [
              0.5555555555555556,
              "#d8576b"
             ],
             [
              0.6666666666666666,
              "#ed7953"
             ],
             [
              0.7777777777777778,
              "#fb9f3a"
             ],
             [
              0.8888888888888888,
              "#fdca26"
             ],
             [
              1,
              "#f0f921"
             ]
            ],
            "type": "contour"
           }
          ],
          "contourcarpet": [
           {
            "colorbar": {
             "outlinewidth": 0,
             "ticks": ""
            },
            "type": "contourcarpet"
           }
          ],
          "heatmap": [
           {
            "colorbar": {
             "outlinewidth": 0,
             "ticks": ""
            },
            "colorscale": [
             [
              0,
              "#0d0887"
             ],
             [
              0.1111111111111111,
              "#46039f"
             ],
             [
              0.2222222222222222,
              "#7201a8"
             ],
             [
              0.3333333333333333,
              "#9c179e"
             ],
             [
              0.4444444444444444,
              "#bd3786"
             ],
             [
              0.5555555555555556,
              "#d8576b"
             ],
             [
              0.6666666666666666,
              "#ed7953"
             ],
             [
              0.7777777777777778,
              "#fb9f3a"
             ],
             [
              0.8888888888888888,
              "#fdca26"
             ],
             [
              1,
              "#f0f921"
             ]
            ],
            "type": "heatmap"
           }
          ],
          "heatmapgl": [
           {
            "colorbar": {
             "outlinewidth": 0,
             "ticks": ""
            },
            "colorscale": [
             [
              0,
              "#0d0887"
             ],
             [
              0.1111111111111111,
              "#46039f"
             ],
             [
              0.2222222222222222,
              "#7201a8"
             ],
             [
              0.3333333333333333,
              "#9c179e"
             ],
             [
              0.4444444444444444,
              "#bd3786"
             ],
             [
              0.5555555555555556,
              "#d8576b"
             ],
             [
              0.6666666666666666,
              "#ed7953"
             ],
             [
              0.7777777777777778,
              "#fb9f3a"
             ],
             [
              0.8888888888888888,
              "#fdca26"
             ],
             [
              1,
              "#f0f921"
             ]
            ],
            "type": "heatmapgl"
           }
          ],
          "histogram": [
           {
            "marker": {
             "pattern": {
              "fillmode": "overlay",
              "size": 10,
              "solidity": 0.2
             }
            },
            "type": "histogram"
           }
          ],
          "histogram2d": [
           {
            "colorbar": {
             "outlinewidth": 0,
             "ticks": ""
            },
            "colorscale": [
             [
              0,
              "#0d0887"
             ],
             [
              0.1111111111111111,
              "#46039f"
             ],
             [
              0.2222222222222222,
              "#7201a8"
             ],
             [
              0.3333333333333333,
              "#9c179e"
             ],
             [
              0.4444444444444444,
              "#bd3786"
             ],
             [
              0.5555555555555556,
              "#d8576b"
             ],
             [
              0.6666666666666666,
              "#ed7953"
             ],
             [
              0.7777777777777778,
              "#fb9f3a"
             ],
             [
              0.8888888888888888,
              "#fdca26"
             ],
             [
              1,
              "#f0f921"
             ]
            ],
            "type": "histogram2d"
           }
          ],
          "histogram2dcontour": [
           {
            "colorbar": {
             "outlinewidth": 0,
             "ticks": ""
            },
            "colorscale": [
             [
              0,
              "#0d0887"
             ],
             [
              0.1111111111111111,
              "#46039f"
             ],
             [
              0.2222222222222222,
              "#7201a8"
             ],
             [
              0.3333333333333333,
              "#9c179e"
             ],
             [
              0.4444444444444444,
              "#bd3786"
             ],
             [
              0.5555555555555556,
              "#d8576b"
             ],
             [
              0.6666666666666666,
              "#ed7953"
             ],
             [
              0.7777777777777778,
              "#fb9f3a"
             ],
             [
              0.8888888888888888,
              "#fdca26"
             ],
             [
              1,
              "#f0f921"
             ]
            ],
            "type": "histogram2dcontour"
           }
          ],
          "mesh3d": [
           {
            "colorbar": {
             "outlinewidth": 0,
             "ticks": ""
            },
            "type": "mesh3d"
           }
          ],
          "parcoords": [
           {
            "line": {
             "colorbar": {
              "outlinewidth": 0,
              "ticks": ""
             }
            },
            "type": "parcoords"
           }
          ],
          "pie": [
           {
            "automargin": true,
            "type": "pie"
           }
          ],
          "scatter": [
           {
            "fillpattern": {
             "fillmode": "overlay",
             "size": 10,
             "solidity": 0.2
            },
            "type": "scatter"
           }
          ],
          "scatter3d": [
           {
            "line": {
             "colorbar": {
              "outlinewidth": 0,
              "ticks": ""
             }
            },
            "marker": {
             "colorbar": {
              "outlinewidth": 0,
              "ticks": ""
             }
            },
            "type": "scatter3d"
           }
          ],
          "scattercarpet": [
           {
            "marker": {
             "colorbar": {
              "outlinewidth": 0,
              "ticks": ""
             }
            },
            "type": "scattercarpet"
           }
          ],
          "scattergeo": [
           {
            "marker": {
             "colorbar": {
              "outlinewidth": 0,
              "ticks": ""
             }
            },
            "type": "scattergeo"
           }
          ],
          "scattergl": [
           {
            "marker": {
             "colorbar": {
              "outlinewidth": 0,
              "ticks": ""
             }
            },
            "type": "scattergl"
           }
          ],
          "scattermapbox": [
           {
            "marker": {
             "colorbar": {
              "outlinewidth": 0,
              "ticks": ""
             }
            },
            "type": "scattermapbox"
           }
          ],
          "scatterpolar": [
           {
            "marker": {
             "colorbar": {
              "outlinewidth": 0,
              "ticks": ""
             }
            },
            "type": "scatterpolar"
           }
          ],
          "scatterpolargl": [
           {
            "marker": {
             "colorbar": {
              "outlinewidth": 0,
              "ticks": ""
             }
            },
            "type": "scatterpolargl"
           }
          ],
          "scatterternary": [
           {
            "marker": {
             "colorbar": {
              "outlinewidth": 0,
              "ticks": ""
             }
            },
            "type": "scatterternary"
           }
          ],
          "surface": [
           {
            "colorbar": {
             "outlinewidth": 0,
             "ticks": ""
            },
            "colorscale": [
             [
              0,
              "#0d0887"
             ],
             [
              0.1111111111111111,
              "#46039f"
             ],
             [
              0.2222222222222222,
              "#7201a8"
             ],
             [
              0.3333333333333333,
              "#9c179e"
             ],
             [
              0.4444444444444444,
              "#bd3786"
             ],
             [
              0.5555555555555556,
              "#d8576b"
             ],
             [
              0.6666666666666666,
              "#ed7953"
             ],
             [
              0.7777777777777778,
              "#fb9f3a"
             ],
             [
              0.8888888888888888,
              "#fdca26"
             ],
             [
              1,
              "#f0f921"
             ]
            ],
            "type": "surface"
           }
          ],
          "table": [
           {
            "cells": {
             "fill": {
              "color": "#EBF0F8"
             },
             "line": {
              "color": "white"
             }
            },
            "header": {
             "fill": {
              "color": "#C8D4E3"
             },
             "line": {
              "color": "white"
             }
            },
            "type": "table"
           }
          ]
         },
         "layout": {
          "annotationdefaults": {
           "arrowcolor": "#2a3f5f",
           "arrowhead": 0,
           "arrowwidth": 1
          },
          "autotypenumbers": "strict",
          "coloraxis": {
           "colorbar": {
            "outlinewidth": 0,
            "ticks": ""
           }
          },
          "colorscale": {
           "diverging": [
            [
             0,
             "#8e0152"
            ],
            [
             0.1,
             "#c51b7d"
            ],
            [
             0.2,
             "#de77ae"
            ],
            [
             0.3,
             "#f1b6da"
            ],
            [
             0.4,
             "#fde0ef"
            ],
            [
             0.5,
             "#f7f7f7"
            ],
            [
             0.6,
             "#e6f5d0"
            ],
            [
             0.7,
             "#b8e186"
            ],
            [
             0.8,
             "#7fbc41"
            ],
            [
             0.9,
             "#4d9221"
            ],
            [
             1,
             "#276419"
            ]
           ],
           "sequential": [
            [
             0,
             "#0d0887"
            ],
            [
             0.1111111111111111,
             "#46039f"
            ],
            [
             0.2222222222222222,
             "#7201a8"
            ],
            [
             0.3333333333333333,
             "#9c179e"
            ],
            [
             0.4444444444444444,
             "#bd3786"
            ],
            [
             0.5555555555555556,
             "#d8576b"
            ],
            [
             0.6666666666666666,
             "#ed7953"
            ],
            [
             0.7777777777777778,
             "#fb9f3a"
            ],
            [
             0.8888888888888888,
             "#fdca26"
            ],
            [
             1,
             "#f0f921"
            ]
           ],
           "sequentialminus": [
            [
             0,
             "#0d0887"
            ],
            [
             0.1111111111111111,
             "#46039f"
            ],
            [
             0.2222222222222222,
             "#7201a8"
            ],
            [
             0.3333333333333333,
             "#9c179e"
            ],
            [
             0.4444444444444444,
             "#bd3786"
            ],
            [
             0.5555555555555556,
             "#d8576b"
            ],
            [
             0.6666666666666666,
             "#ed7953"
            ],
            [
             0.7777777777777778,
             "#fb9f3a"
            ],
            [
             0.8888888888888888,
             "#fdca26"
            ],
            [
             1,
             "#f0f921"
            ]
           ]
          },
          "colorway": [
           "#636efa",
           "#EF553B",
           "#00cc96",
           "#ab63fa",
           "#FFA15A",
           "#19d3f3",
           "#FF6692",
           "#B6E880",
           "#FF97FF",
           "#FECB52"
          ],
          "font": {
           "color": "#2a3f5f"
          },
          "geo": {
           "bgcolor": "white",
           "lakecolor": "white",
           "landcolor": "#E5ECF6",
           "showlakes": true,
           "showland": true,
           "subunitcolor": "white"
          },
          "hoverlabel": {
           "align": "left"
          },
          "hovermode": "closest",
          "mapbox": {
           "style": "light"
          },
          "paper_bgcolor": "white",
          "plot_bgcolor": "#E5ECF6",
          "polar": {
           "angularaxis": {
            "gridcolor": "white",
            "linecolor": "white",
            "ticks": ""
           },
           "bgcolor": "#E5ECF6",
           "radialaxis": {
            "gridcolor": "white",
            "linecolor": "white",
            "ticks": ""
           }
          },
          "scene": {
           "xaxis": {
            "backgroundcolor": "#E5ECF6",
            "gridcolor": "white",
            "gridwidth": 2,
            "linecolor": "white",
            "showbackground": true,
            "ticks": "",
            "zerolinecolor": "white"
           },
           "yaxis": {
            "backgroundcolor": "#E5ECF6",
            "gridcolor": "white",
            "gridwidth": 2,
            "linecolor": "white",
            "showbackground": true,
            "ticks": "",
            "zerolinecolor": "white"
           },
           "zaxis": {
            "backgroundcolor": "#E5ECF6",
            "gridcolor": "white",
            "gridwidth": 2,
            "linecolor": "white",
            "showbackground": true,
            "ticks": "",
            "zerolinecolor": "white"
           }
          },
          "shapedefaults": {
           "line": {
            "color": "#2a3f5f"
           }
          },
          "ternary": {
           "aaxis": {
            "gridcolor": "white",
            "linecolor": "white",
            "ticks": ""
           },
           "baxis": {
            "gridcolor": "white",
            "linecolor": "white",
            "ticks": ""
           },
           "bgcolor": "#E5ECF6",
           "caxis": {
            "gridcolor": "white",
            "linecolor": "white",
            "ticks": ""
           }
          },
          "title": {
           "x": 0.05
          },
          "xaxis": {
           "automargin": true,
           "gridcolor": "white",
           "linecolor": "white",
           "ticks": "",
           "title": {
            "standoff": 15
           },
           "zerolinecolor": "white",
           "zerolinewidth": 2
          },
          "yaxis": {
           "automargin": true,
           "gridcolor": "white",
           "linecolor": "white",
           "ticks": "",
           "title": {
            "standoff": 15
           },
           "zerolinecolor": "white",
           "zerolinewidth": 2
          }
         }
        },
        "title": {
         "font": {
          "size": 22
         },
         "text": "Interactive Aggregated Count of Events per Month Across All Years",
         "x": 0.45,
         "xanchor": "center",
         "y": 0.95,
         "yanchor": "top"
        },
        "updatemenus": [
         {
          "buttons": [
           {
            "args": [
             {
              "marker": {
               "color": [
                "blue",
                "blue",
                "blue",
                "blue",
                "blue",
                "blue",
                "blue",
                "blue",
                "blue",
                "blue",
                "blue",
                "blue"
               ]
              },
              "text": [
               [
                232,
                230,
                163,
                181,
                165,
                135,
                111,
                161,
                226,
                297,
                344,
                296
               ]
              ],
              "textposition": "outside",
              "x": [
               [
                "Jan",
                "Feb",
                "Mar",
                "Apr",
                "May",
                "Jun",
                "Jul",
                "Aug",
                "Sep",
                "Oct",
                "Nov",
                "Dec"
               ]
              ],
              "y": [
               [
                232,
                230,
                163,
                181,
                165,
                135,
                111,
                161,
                226,
                297,
                344,
                296
               ]
              ]
             }
            ],
            "label": "All",
            "method": "update"
           },
           {
            "args": [
             {
              "marker": {
               "color": [
                "#636EFA",
                "#636EFA",
                "#636EFA",
                "#636EFA",
                "#636EFA",
                "#636EFA",
                "#636EFA",
                "#636EFA",
                "#636EFA",
                "#636EFA",
                "#636EFA",
                "#636EFA"
               ]
              },
              "text": [
               [
                68,
                100,
                83,
                78,
                111,
                65,
                34,
                86,
                117,
                89,
                85,
                106
               ]
              ],
              "textposition": "outside",
              "x": [
               [
                "Jan",
                "Feb",
                "Mar",
                "Apr",
                "May",
                "Jun",
                "Jul",
                "Aug",
                "Sep",
                "Oct",
                "Nov",
                "Dec"
               ]
              ],
              "y": [
               [
                68,
                100,
                83,
                78,
                111,
                65,
                34,
                86,
                117,
                89,
                85,
                106
               ]
              ]
             }
            ],
            "label": "Dog",
            "method": "update"
           },
           {
            "args": [
             {
              "marker": {
               "color": [
                "#EF553B",
                "#EF553B",
                "#EF553B",
                "#EF553B",
                "#EF553B",
                "#EF553B",
                "#EF553B",
                "#EF553B",
                "#EF553B",
                "#EF553B",
                "#EF553B",
                "#EF553B"
               ]
              },
              "text": [
               [
                44,
                25,
                20,
                30,
                27,
                40,
                15,
                19,
                22,
                50,
                89,
                37
               ]
              ],
              "textposition": "outside",
              "x": [
               [
                "Jan",
                "Feb",
                "Mar",
                "Apr",
                "May",
                "Jun",
                "Jul",
                "Aug",
                "Sep",
                "Oct",
                "Nov",
                "Dec"
               ]
              ],
              "y": [
               [
                44,
                25,
                20,
                30,
                27,
                40,
                15,
                19,
                22,
                50,
                89,
                37
               ]
              ]
             }
            ],
            "label": "Cattle",
            "method": "update"
           },
           {
            "args": [
             {
              "marker": {
               "color": [
                "#00CC96",
                "#00CC96",
                "#00CC96",
                "#00CC96",
                "#00CC96",
                "#00CC96",
                "#00CC96"
               ]
              },
              "text": [
               [
                5,
                18,
                22,
                6,
                6,
                6,
                4
               ]
              ],
              "textposition": "outside",
              "x": [
               [
                "Jan",
                "Feb",
                "Apr",
                "Jul",
                "Aug",
                "Sep",
                "Nov"
               ]
              ],
              "y": [
               [
                5,
                18,
                22,
                6,
                6,
                6,
                4
               ]
              ]
             }
            ],
            "label": "Sheep",
            "method": "update"
           },
           {
            "args": [
             {
              "marker": {
               "color": [
                "#AB63FA",
                "#AB63FA",
                "#AB63FA",
                "#AB63FA",
                "#AB63FA",
                "#AB63FA",
                "#AB63FA",
                "#AB63FA",
                "#AB63FA",
                "#AB63FA",
                "#AB63FA",
                "#AB63FA"
               ]
              },
              "text": [
               [
                103,
                70,
                32,
                24,
                13,
                25,
                24,
                35,
                46,
                95,
                129,
                114
               ]
              ],
              "textposition": "outside",
              "x": [
               [
                "Jan",
                "Feb",
                "Mar",
                "Apr",
                "May",
                "Jun",
                "Jul",
                "Aug",
                "Sep",
                "Oct",
                "Nov",
                "Dec"
               ]
              ],
              "y": [
               [
                103,
                70,
                32,
                24,
                13,
                25,
                24,
                35,
                46,
                95,
                129,
                114
               ]
              ]
             }
            ],
            "label": "Jackal",
            "method": "update"
           },
           {
            "args": [
             {
              "marker": {
               "color": [
                "#FFA15A",
                "#FFA15A",
                "#FFA15A",
                "#FFA15A",
                "#FFA15A",
                "#FFA15A"
               ]
              },
              "text": [
               [
                5,
                5,
                4,
                2,
                1,
                9
               ]
              ],
              "textposition": "outside",
              "x": [
               [
                "Jan",
                "Feb",
                "Apr",
                "May",
                "Jul",
                "Sep"
               ]
              ],
              "y": [
               [
                5,
                5,
                4,
                2,
                1,
                9
               ]
              ]
             }
            ],
            "label": "Badger",
            "method": "update"
           },
           {
            "args": [
             {
              "marker": {
               "color": [
                "#19D3F3",
                "#19D3F3",
                "#19D3F3",
                "#19D3F3",
                "#19D3F3",
                "#19D3F3",
                "#19D3F3"
               ]
              },
              "text": [
               [
                6,
                11,
                18,
                26,
                40,
                8,
                19
               ]
              ],
              "textposition": "outside",
              "x": [
               [
                "Mar",
                "Apr",
                "Jul",
                "Sep",
                "Oct",
                "Nov",
                "Dec"
               ]
              ],
              "y": [
               [
                6,
                11,
                18,
                26,
                40,
                8,
                19
               ]
              ]
             }
            ],
            "label": "Fox",
            "method": "update"
           },
           {
            "args": [
             {
              "marker": {
               "color": [
                "#FF6692",
                "#FF6692",
                "#FF6692",
                "#FF6692",
                "#FF6692",
                "#FF6692",
                "#FF6692",
                "#FF6692",
                "#FF6692"
               ]
              },
              "text": [
               [
                7,
                4,
                11,
                4,
                5,
                8,
                5,
                9,
                12
               ]
              ],
              "textposition": "outside",
              "x": [
               [
                "Jan",
                "Feb",
                "Mar",
                "May",
                "Jun",
                "Aug",
                "Oct",
                "Nov",
                "Dec"
               ]
              ],
              "y": [
               [
                7,
                4,
                11,
                4,
                5,
                8,
                5,
                9,
                12
               ]
              ]
             }
            ],
            "label": "Wolf",
            "method": "update"
           },
           {
            "args": [
             {
              "marker": {
               "color": [
                "#B6E880",
                "#B6E880",
                "#B6E880",
                "#B6E880",
                "#B6E880",
                "#B6E880",
                "#B6E880"
               ]
              },
              "text": [
               [
                4,
                1,
                5,
                6,
                6,
                20,
                5
               ]
              ],
              "textposition": "outside",
              "x": [
               [
                "Feb",
                "Mar",
                "May",
                "Jul",
                "Oct",
                "Nov",
                "Dec"
               ]
              ],
              "y": [
               [
                4,
                1,
                5,
                6,
                6,
                20,
                5
               ]
              ]
             }
            ],
            "label": "Cat",
            "method": "update"
           },
           {
            "args": [
             {
              "marker": {
               "color": [
                "#FF97FF"
               ]
              },
              "text": [
               [
                2
               ]
              ],
              "textposition": "outside",
              "x": [
               [
                "Dec"
               ]
              ],
              "y": [
               [
                2
               ]
              ]
             }
            ],
            "label": "Cow",
            "method": "update"
           },
           {
            "args": [
             {
              "marker": {
               "color": [
                "#FECB52",
                "#FECB52",
                "#FECB52",
                "#FECB52",
                "#FECB52"
               ]
              },
              "text": [
               [
                4,
                10,
                5,
                3,
                7
               ]
              ],
              "textposition": "outside",
              "x": [
               [
                "Feb",
                "Mar",
                "Apr",
                "May",
                "Jul"
               ]
              ],
              "y": [
               [
                4,
                10,
                5,
                3,
                7
               ]
              ]
             }
            ],
            "label": "Horse",
            "method": "update"
           },
           {
            "args": [
             {
              "marker": {
               "color": [
                "#636EFA"
               ]
              },
              "text": [
               [
                12
               ]
              ],
              "textposition": "outside",
              "x": [
               [
                "Oct"
               ]
              ],
              "y": [
               [
                12
               ]
              ]
             }
            ],
            "label": "Donkey",
            "method": "update"
           },
           {
            "args": [
             {
              "marker": {
               "color": [
                "#EF553B"
               ]
              },
              "text": [
               [
                7
               ]
              ],
              "textposition": "outside",
              "x": [
               [
                "Aug"
               ]
              ],
              "y": [
               [
                7
               ]
              ]
             }
            ],
            "label": "Martes",
            "method": "update"
           },
           {
            "args": [
             {
              "marker": {
               "color": [
                "#00CC96"
               ]
              },
              "text": [
               [
                7
               ]
              ],
              "textposition": "outside",
              "x": [
               [
                "Apr"
               ]
              ],
              "y": [
               [
                7
               ]
              ]
             }
            ],
            "label": "Mongoose",
            "method": "update"
           }
          ],
          "direction": "down",
          "pad": {
           "r": 10,
           "t": 10
          },
          "showactive": true,
          "x": 0.5,
          "xanchor": "center",
          "y": 1.2,
          "yanchor": "top"
         }
        ],
        "xaxis": {
         "tickangle": -45,
         "title": {
          "text": "Month"
         }
        },
        "yaxis": {
         "title": {
          "text": "Number of Events"
         }
        }
       }
      }
     },
     "metadata": {},
     "output_type": "display_data"
    }
   ],
   "source": [
    "## Aggregated Count by Month Across All Years\n",
    "\n",
    "# Count the number of events per month for all species\n",
    "events_per_month = df_rabies_raw.groupby('Month').size().reset_index(name='Count')\n",
    "\n",
    "# Define the species colors\n",
    "species_colors = px.colors.qualitative.Plotly\n",
    "species_list = df_rabies_raw['SpeciesNameEng'].dropna().unique()\n",
    "color_map = {species: species_colors[i % len(species_colors)] for i, species in enumerate(species_list)}\n",
    "\n",
    "# Create the initial bar chart with all data\n",
    "fig = go.Figure()\n",
    "\n",
    "def update_figure(species):\n",
    "    fig.data = []  # Clear existing traces\n",
    "    if species == 'All':\n",
    "        filtered_data = events_per_month\n",
    "    else:\n",
    "        filtered_data = df_rabies_raw[df_rabies_raw['SpeciesNameEng'] == species].groupby('Month').size().reset_index(name='Count')\n",
    "    \n",
    "    fig.add_trace(go.Bar(\n",
    "        x=[month_names[m-1] for m in filtered_data['Month']],\n",
    "        y=filtered_data['Count'],\n",
    "        marker_color=color_map.get(species, 'blue'),  # Use the color for the selected species\n",
    "        text=filtered_data['Count'],\n",
    "        textposition='outside'\n",
    "    ))\n",
    "\n",
    "    fig.update_layout(\n",
    "        title='Interactive Aggregated Count of Events per Month Across All Years',\n",
    "        xaxis_title='Month',\n",
    "        yaxis_title='Number of Events',\n",
    "        xaxis_tickangle=-45,\n",
    "        title_x=0.5,\n",
    "        title_font=dict(size=22),\n",
    "        legend_title_text='Species'\n",
    "    )\n",
    "\n",
    "update_figure('All')  # Initial plot with all data\n",
    "\n",
    "# Create a dropdown menu for species selection\n",
    "species_options = [{'label': 'All', 'value': 'All'}] + [{'label': species, 'value': species} for species in species_list]\n",
    "\n",
    "def update_trace(species):\n",
    "    if species == 'All':\n",
    "        filtered_data = events_per_month\n",
    "    else:\n",
    "        filtered_data = df_rabies_raw[df_rabies_raw['SpeciesNameEng'] == species].groupby('Month').size().reset_index(name='Count')\n",
    "    \n",
    "    return dict(x=[[month_names[m-1] for m in filtered_data['Month']]], \n",
    "                y=[filtered_data['Count']], \n",
    "                marker=dict(color=[color_map.get(species, 'blue')] * len(filtered_data)),\n",
    "                text=[filtered_data['Count']],\n",
    "                textposition='outside')\n",
    "\n",
    "dropdown = go.layout.Updatemenu(\n",
    "    buttons=[dict(label=option['label'], method='update', args=[update_trace(option['value'])]) for option in species_options],\n",
    "    direction='down',\n",
    "    pad={'r': 10, 't': 10},\n",
    "    showactive=True,\n",
    "    x=0.5,\n",
    "    xanchor='center',\n",
    "    y=1.2,\n",
    "    yanchor='top'\n",
    ")\n",
    "\n",
    "# Update the layout to include the species selector\n",
    "fig.update_layout(\n",
    "    updatemenus=[dropdown],\n",
    "    title={\n",
    "        'text': 'Interactive Aggregated Count of Events per Month Across All Years',\n",
    "        'x': 0.45,\n",
    "        'xanchor': 'center',\n",
    "        'y': 0.95,\n",
    "        'yanchor': 'top',\n",
    "    },\n",
    ")\n",
    "\n",
    "# Save the interactive plot to an HTML file\n",
    "html_content = fig.to_html(include_plotlyjs='cdn', full_html=False)\n",
    "minified_html = htmlmin.minify(html_content, remove_comments=True, reduce_empty_attributes=True)\n",
    "\n",
    "with open(\"../assets/plots/interactive_rabies_events_by_month.html\", \"w\") as f:\n",
    "    f.write(minified_html)\n",
    "\n",
    "# print(\"Interactive plot saved as HTML file.\")\n",
    "\n",
    "# Show the interactive plot\n",
    "fig.show()\n"
   ]
  },
  {
   "cell_type": "markdown",
   "id": "e735f038-c44c-4d56-a2a8-065c144ace69",
   "metadata": {},
   "source": [
    "According to the count by Month Across All Years it is seen that the months of January, February, October, November and December have a high (above 50) cases of rabies cases.\n",
    "\n",
    "Some possible explanations:\n",
    "\n",
    "Breeding Seasons: The breeding seasons of wild animals can influence the incidence of rabies. For example, if jackals or other wild reservoirs have breeding seasons that peak before these months, the increased contact between animals during this time could lead to more cases of rabies. The young of these animals, born during these peak times, may become susceptible to rabies as they explore and potentially encounter rabid animals.\n",
    "\n",
    "Animal Behavior: Changes in animal behavior due to colder weather could lead to increased transmission. Animals may seek shelter and food closer to human habitats as the temperature drops, leading to more interactions between wildlife, domestic animals, and humans.\n",
    "\n",
    "Human Activity: Human activities such as hunting or harvesting crops can also increase during certain times of the year, leading to more frequent encounters between humans, domestic animals, and wildlife carriers of rabies.\n",
    "\n",
    "Virus Survival: The rabies virus may survive longer in the environment under colder conditions, which could contribute to its transmission. Colder temperatures can slow down the decomposition of carcasses, allowing the virus to remain viable for longer periods and potentially infect scavenging animals.\n",
    "\n",
    "Migration Patterns: The migration patterns of birds and other animals can affect the spread of rabies. Migratory species could potentially introduce the virus to new areas or come into contact with local wildlife, leading to outbreaks."
   ]
  },
  {
   "cell_type": "markdown",
   "id": "0b22dcfe",
   "metadata": {},
   "source": [
    "#### Heatmap Monthly Counts for Each Year\n"
   ]
  },
  {
   "cell_type": "code",
   "execution_count": 20,
   "id": "f0fc340a-bcd8-4554-92a5-0b136d2852b0",
   "metadata": {},
   "outputs": [
    {
     "data": {
      "image/png": "[encoded data removed]",
      "text/plain": [
       "<Figure size 1400x700 with 2 Axes>"
      ]
     },
     "metadata": {},
     "output_type": "display_data"
    }
   ],
   "source": [
    "## Heatmap Monthly Counts for Each Year\n",
    "\n",
    "# Extract month from Date\n",
    "df_rabies_raw['Month'] = df_rabies_raw['Date'].dt.month\n",
    "\n",
    "# Count the number of events per month and year\n",
    "monthly_counts = df_rabies_raw.groupby(['Year', 'Month']).size().reset_index(name='Counts')\n",
    "\n",
    "# Pivot the data for plotting\n",
    "monthly_counts_pivot = monthly_counts.pivot(index='Month', columns='Year', values='Counts')\n",
    "\n",
    "# Now plot the results\n",
    "plt.figure(figsize=(14, 7))\n",
    "heatmap = sns.heatmap(monthly_counts_pivot, annot=True, fmt=\"0.0f\", cmap=\"viridis\", cbar_kws={'label': 'Number of Events'})\n",
    "\n",
    "# Enhance the plot with titles and labels\n",
    "plt.title('Monthly Count of Rabies events Each Year', fontsize=20)\n",
    "plt.xlabel('Year', fontsize=14)\n",
    "plt.ylabel('Month', fontsize=14)\n",
    "\n",
    "# Set the y-axis labels to show month names\n",
    "plt.yticks(ticks=range(12), labels=['Jan', 'Feb', 'Mar', 'Apr', 'May', 'Jun', 'Jul', 'Aug', 'Sep', 'Oct', 'Nov', 'Dec'], rotation=0, fontsize=12)\n",
    "plt.xticks(fontsize=12)\n",
    "\n",
    "# Add a color bar for better readability\n",
    "cbar = heatmap.collections[0].colorbar\n",
    "cbar.ax.tick_params(labelsize=12)\n",
    "\n",
    "# Display the plot\n",
    "plt.show()\n"
   ]
  },
  {
   "cell_type": "markdown",
   "id": "390bf6d7-b2f9-4a4d-b23d-7edbabd3e3ca",
   "metadata": {},
   "source": [
    "From the heatmap of Monthly Count of Events for Each Year it can be seen that months October, November and December during 2009 and 2017 has a higher rate of cases. Additionaly January and February of 2018 also has higher rate of cases this is probably because of the cases at end of 2017.  "
   ]
  },
  {
   "cell_type": "markdown",
   "id": "228228ea",
   "metadata": {},
   "source": [
    "#### Heatmap Monthly Counts for Each Year - Plotly"
   ]
  },
  {
   "cell_type": "code",
   "execution_count": 30,
   "id": "4168412f",
   "metadata": {},
   "outputs": [
    {
     "data": {
      "application/vnd.plotly.v1+json": {
       "config": {
        "plotlyServerURL": "https://plot.ly"
       },
       "data": [
        {
         "coloraxis": "coloraxis",
         "hovertemplate": "Year: %{x}<br>Month: %{y}<br>Counts: %{z}<extra></extra>",
         "name": "0",
         "type": "heatmap",
         "x": [
          2006,
          2007,
          2008,
          2009,
          2010,
          2011,
          2012,
          2013,
          2014,
          2015,
          2016,
          2017,
          2018,
          2019,
          2020,
          2021,
          2022,
          2023,
          2024
         ],
         "xaxis": "x",
         "y": [
          "Jan",
          "Feb",
          "Mar",
          "Apr",
          "May",
          "Jun",
          "Jul",
          "Aug",
          "Sep",
          "Oct",
          "Nov",
          "Dec"
         ],
         "yaxis": "y",
         "z": [
          [
           0,
           0,
           0,
           14,
           24,
           25,
           10,
           5,
           5,
           4,
           12,
           12,
           72,
           12,
           4,
           10,
           10,
           8,
           5
          ],
          [
           7,
           0,
           0,
           28,
           36,
           30,
           10,
           10,
           0,
           12,
           16,
           12,
           33,
           3,
           10,
           12,
           3,
           4,
           4
          ],
          [
           0,
           0,
           0,
           14,
           42,
           10,
           5,
           20,
           5,
           0,
           8,
           8,
           24,
           3,
           4,
           4,
           2,
           4,
           10
          ],
          [
           14,
           21,
           0,
           14,
           12,
           30,
           5,
           15,
           0,
           0,
           12,
           8,
           9,
           3,
           6,
           16,
           2,
           4,
           10
          ],
          [
           7,
           7,
           7,
           0,
           18,
           20,
           15,
           30,
           0,
           16,
           0,
           8,
           18,
           0,
           8,
           6,
           0,
           3,
           2
          ],
          [
           0,
           0,
           7,
           28,
           6,
           5,
           45,
           10,
           0,
           8,
           4,
           4,
           6,
           0,
           2,
           6,
           0,
           4,
           0
          ],
          [
           7,
           0,
           7,
           21,
           30,
           0,
           10,
           0,
           0,
           8,
           4,
           4,
           6,
           3,
           4,
           4,
           0,
           3,
           0
          ],
          [
           0,
           7,
           0,
           70,
           30,
           5,
           0,
           5,
           0,
           4,
           12,
           8,
           3,
           4,
           2,
           2,
           5,
           4,
           0
          ],
          [
           14,
           7,
           7,
           66,
           30,
           10,
           5,
           20,
           15,
           4,
           24,
           12,
           3,
           0,
           4,
           0,
           4,
           1,
           0
          ],
          [
           7,
           42,
           14,
           90,
           12,
           5,
           5,
           15,
           0,
           16,
           0,
           56,
           3,
           6,
           18,
           6,
           1,
           1,
           0
          ],
          [
           0,
           7,
           7,
           138,
           24,
           10,
           0,
           10,
           15,
           16,
           8,
           70,
           3,
           4,
           20,
           4,
           5,
           3,
           0
          ],
          [
           0,
           14,
           0,
           60,
           54,
           5,
           10,
           0,
           23,
           16,
           16,
           63,
           3,
           4,
           10,
           10,
           2,
           6,
           0
          ]
         ]
        }
       ],
       "layout": {
        "coloraxis": {
         "colorbar": {
          "ticks": "outside",
          "ticktext": [
           "0",
           "138"
          ],
          "tickvals": [
           0,
           138
          ],
          "title": {
           "text": "Number of Events"
          }
         },
         "colorscale": [
          [
           0,
           "#440154"
          ],
          [
           0.1111111111111111,
           "#482878"
          ],
          [
           0.2222222222222222,
           "#3e4989"
          ],
          [
           0.3333333333333333,
           "#31688e"
          ],
          [
           0.4444444444444444,
           "#26828e"
          ],
          [
           0.5555555555555556,
           "#1f9e89"
          ],
          [
           0.6666666666666666,
           "#35b779"
          ],
          [
           0.7777777777777778,
           "#6ece58"
          ],
          [
           0.8888888888888888,
           "#b5de2b"
          ],
          [
           1,
           "#fde725"
          ]
         ]
        },
        "margin": {
         "t": 60
        },
        "plot_bgcolor": "white",
        "template": {
         "data": {
          "bar": [
           {
            "error_x": {
             "color": "#2a3f5f"
            },
            "error_y": {
             "color": "#2a3f5f"
            },
            "marker": {
             "line": {
              "color": "#E5ECF6",
              "width": 0.5
             },
             "pattern": {
              "fillmode": "overlay",
              "size": 10,
              "solidity": 0.2
             }
            },
            "type": "bar"
           }
          ],
          "barpolar": [
           {
            "marker": {
             "line": {
              "color": "#E5ECF6",
              "width": 0.5
             },
             "pattern": {
              "fillmode": "overlay",
              "size": 10,
              "solidity": 0.2
             }
            },
            "type": "barpolar"
           }
          ],
          "carpet": [
           {
            "aaxis": {
             "endlinecolor": "#2a3f5f",
             "gridcolor": "white",
             "linecolor": "white",
             "minorgridcolor": "white",
             "startlinecolor": "#2a3f5f"
            },
            "baxis": {
             "endlinecolor": "#2a3f5f",
             "gridcolor": "white",
             "linecolor": "white",
             "minorgridcolor": "white",
             "startlinecolor": "#2a3f5f"
            },
            "type": "carpet"
           }
          ],
          "choropleth": [
           {
            "colorbar": {
             "outlinewidth": 0,
             "ticks": ""
            },
            "type": "choropleth"
           }
          ],
          "contour": [
           {
            "colorbar": {
             "outlinewidth": 0,
             "ticks": ""
            },
            "colorscale": [
             [
              0,
              "#0d0887"
             ],
             [
              0.1111111111111111,
              "#46039f"
             ],
             [
              0.2222222222222222,
              "#7201a8"
             ],
             [
              0.3333333333333333,
              "#9c179e"
             ],
             [
              0.4444444444444444,
              "#bd3786"
             ],
             [
              0.5555555555555556,
              "#d8576b"
             ],
             [
              0.6666666666666666,
              "#ed7953"
             ],
             [
              0.7777777777777778,
              "#fb9f3a"
             ],
             [
              0.8888888888888888,
              "#fdca26"
             ],
             [
              1,
              "#f0f921"
             ]
            ],
            "type": "contour"
           }
          ],
          "contourcarpet": [
           {
            "colorbar": {
             "outlinewidth": 0,
             "ticks": ""
            },
            "type": "contourcarpet"
           }
          ],
          "heatmap": [
           {
            "colorbar": {
             "outlinewidth": 0,
             "ticks": ""
            },
            "colorscale": [
             [
              0,
              "#0d0887"
             ],
             [
              0.1111111111111111,
              "#46039f"
             ],
             [
              0.2222222222222222,
              "#7201a8"
             ],
             [
              0.3333333333333333,
              "#9c179e"
             ],
             [
              0.4444444444444444,
              "#bd3786"
             ],
             [
              0.5555555555555556,
              "#d8576b"
             ],
             [
              0.6666666666666666,
              "#ed7953"
             ],
             [
              0.7777777777777778,
              "#fb9f3a"
             ],
             [
              0.8888888888888888,
              "#fdca26"
             ],
             [
              1,
              "#f0f921"
             ]
            ],
            "type": "heatmap"
           }
          ],
          "heatmapgl": [
           {
            "colorbar": {
             "outlinewidth": 0,
             "ticks": ""
            },
            "colorscale": [
             [
              0,
              "#0d0887"
             ],
             [
              0.1111111111111111,
              "#46039f"
             ],
             [
              0.2222222222222222,
              "#7201a8"
             ],
             [
              0.3333333333333333,
              "#9c179e"
             ],
             [
              0.4444444444444444,
              "#bd3786"
             ],
             [
              0.5555555555555556,
              "#d8576b"
             ],
             [
              0.6666666666666666,
              "#ed7953"
             ],
             [
              0.7777777777777778,
              "#fb9f3a"
             ],
             [
              0.8888888888888888,
              "#fdca26"
             ],
             [
              1,
              "#f0f921"
             ]
            ],
            "type": "heatmapgl"
           }
          ],
          "histogram": [
           {
            "marker": {
             "pattern": {
              "fillmode": "overlay",
              "size": 10,
              "solidity": 0.2
             }
            },
            "type": "histogram"
           }
          ],
          "histogram2d": [
           {
            "colorbar": {
             "outlinewidth": 0,
             "ticks": ""
            },
            "colorscale": [
             [
              0,
              "#0d0887"
             ],
             [
              0.1111111111111111,
              "#46039f"
             ],
             [
              0.2222222222222222,
              "#7201a8"
             ],
             [
              0.3333333333333333,
              "#9c179e"
             ],
             [
              0.4444444444444444,
              "#bd3786"
             ],
             [
              0.5555555555555556,
              "#d8576b"
             ],
             [
              0.6666666666666666,
              "#ed7953"
             ],
             [
              0.7777777777777778,
              "#fb9f3a"
             ],
             [
              0.8888888888888888,
              "#fdca26"
             ],
             [
              1,
              "#f0f921"
             ]
            ],
            "type": "histogram2d"
           }
          ],
          "histogram2dcontour": [
           {
            "colorbar": {
             "outlinewidth": 0,
             "ticks": ""
            },
            "colorscale": [
             [
              0,
              "#0d0887"
             ],
             [
              0.1111111111111111,
              "#46039f"
             ],
             [
              0.2222222222222222,
              "#7201a8"
             ],
             [
              0.3333333333333333,
              "#9c179e"
             ],
             [
              0.4444444444444444,
              "#bd3786"
             ],
             [
              0.5555555555555556,
              "#d8576b"
             ],
             [
              0.6666666666666666,
              "#ed7953"
             ],
             [
              0.7777777777777778,
              "#fb9f3a"
             ],
             [
              0.8888888888888888,
              "#fdca26"
             ],
             [
              1,
              "#f0f921"
             ]
            ],
            "type": "histogram2dcontour"
           }
          ],
          "mesh3d": [
           {
            "colorbar": {
             "outlinewidth": 0,
             "ticks": ""
            },
            "type": "mesh3d"
           }
          ],
          "parcoords": [
           {
            "line": {
             "colorbar": {
              "outlinewidth": 0,
              "ticks": ""
             }
            },
            "type": "parcoords"
           }
          ],
          "pie": [
           {
            "automargin": true,
            "type": "pie"
           }
          ],
          "scatter": [
           {
            "fillpattern": {
             "fillmode": "overlay",
             "size": 10,
             "solidity": 0.2
            },
            "type": "scatter"
           }
          ],
          "scatter3d": [
           {
            "line": {
             "colorbar": {
              "outlinewidth": 0,
              "ticks": ""
             }
            },
            "marker": {
             "colorbar": {
              "outlinewidth": 0,
              "ticks": ""
             }
            },
            "type": "scatter3d"
           }
          ],
          "scattercarpet": [
           {
            "marker": {
             "colorbar": {
              "outlinewidth": 0,
              "ticks": ""
             }
            },
            "type": "scattercarpet"
           }
          ],
          "scattergeo": [
           {
            "marker": {
             "colorbar": {
              "outlinewidth": 0,
              "ticks": ""
             }
            },
            "type": "scattergeo"
           }
          ],
          "scattergl": [
           {
            "marker": {
             "colorbar": {
              "outlinewidth": 0,
              "ticks": ""
             }
            },
            "type": "scattergl"
           }
          ],
          "scattermapbox": [
           {
            "marker": {
             "colorbar": {
              "outlinewidth": 0,
              "ticks": ""
             }
            },
            "type": "scattermapbox"
           }
          ],
          "scatterpolar": [
           {
            "marker": {
             "colorbar": {
              "outlinewidth": 0,
              "ticks": ""
             }
            },
            "type": "scatterpolar"
           }
          ],
          "scatterpolargl": [
           {
            "marker": {
             "colorbar": {
              "outlinewidth": 0,
              "ticks": ""
             }
            },
            "type": "scatterpolargl"
           }
          ],
          "scatterternary": [
           {
            "marker": {
             "colorbar": {
              "outlinewidth": 0,
              "ticks": ""
             }
            },
            "type": "scatterternary"
           }
          ],
          "surface": [
           {
            "colorbar": {
             "outlinewidth": 0,
             "ticks": ""
            },
            "colorscale": [
             [
              0,
              "#0d0887"
             ],
             [
              0.1111111111111111,
              "#46039f"
             ],
             [
              0.2222222222222222,
              "#7201a8"
             ],
             [
              0.3333333333333333,
              "#9c179e"
             ],
             [
              0.4444444444444444,
              "#bd3786"
             ],
             [
              0.5555555555555556,
              "#d8576b"
             ],
             [
              0.6666666666666666,
              "#ed7953"
             ],
             [
              0.7777777777777778,
              "#fb9f3a"
             ],
             [
              0.8888888888888888,
              "#fdca26"
             ],
             [
              1,
              "#f0f921"
             ]
            ],
            "type": "surface"
           }
          ],
          "table": [
           {
            "cells": {
             "fill": {
              "color": "#EBF0F8"
             },
             "line": {
              "color": "white"
             }
            },
            "header": {
             "fill": {
              "color": "#C8D4E3"
             },
             "line": {
              "color": "white"
             }
            },
            "type": "table"
           }
          ]
         },
         "layout": {
          "annotationdefaults": {
           "arrowcolor": "#2a3f5f",
           "arrowhead": 0,
           "arrowwidth": 1
          },
          "autotypenumbers": "strict",
          "coloraxis": {
           "colorbar": {
            "outlinewidth": 0,
            "ticks": ""
           }
          },
          "colorscale": {
           "diverging": [
            [
             0,
             "#8e0152"
            ],
            [
             0.1,
             "#c51b7d"
            ],
            [
             0.2,
             "#de77ae"
            ],
            [
             0.3,
             "#f1b6da"
            ],
            [
             0.4,
             "#fde0ef"
            ],
            [
             0.5,
             "#f7f7f7"
            ],
            [
             0.6,
             "#e6f5d0"
            ],
            [
             0.7,
             "#b8e186"
            ],
            [
             0.8,
             "#7fbc41"
            ],
            [
             0.9,
             "#4d9221"
            ],
            [
             1,
             "#276419"
            ]
           ],
           "sequential": [
            [
             0,
             "#0d0887"
            ],
            [
             0.1111111111111111,
             "#46039f"
            ],
            [
             0.2222222222222222,
             "#7201a8"
            ],
            [
             0.3333333333333333,
             "#9c179e"
            ],
            [
             0.4444444444444444,
             "#bd3786"
            ],
            [
             0.5555555555555556,
             "#d8576b"
            ],
            [
             0.6666666666666666,
             "#ed7953"
            ],
            [
             0.7777777777777778,
             "#fb9f3a"
            ],
            [
             0.8888888888888888,
             "#fdca26"
            ],
            [
             1,
             "#f0f921"
            ]
           ],
           "sequentialminus": [
            [
             0,
             "#0d0887"
            ],
            [
             0.1111111111111111,
             "#46039f"
            ],
            [
             0.2222222222222222,
             "#7201a8"
            ],
            [
             0.3333333333333333,
             "#9c179e"
            ],
            [
             0.4444444444444444,
             "#bd3786"
            ],
            [
             0.5555555555555556,
             "#d8576b"
            ],
            [
             0.6666666666666666,
             "#ed7953"
            ],
            [
             0.7777777777777778,
             "#fb9f3a"
            ],
            [
             0.8888888888888888,
             "#fdca26"
            ],
            [
             1,
             "#f0f921"
            ]
           ]
          },
          "colorway": [
           "#636efa",
           "#EF553B",
           "#00cc96",
           "#ab63fa",
           "#FFA15A",
           "#19d3f3",
           "#FF6692",
           "#B6E880",
           "#FF97FF",
           "#FECB52"
          ],
          "font": {
           "color": "#2a3f5f"
          },
          "geo": {
           "bgcolor": "white",
           "lakecolor": "white",
           "landcolor": "#E5ECF6",
           "showlakes": true,
           "showland": true,
           "subunitcolor": "white"
          },
          "hoverlabel": {
           "align": "left"
          },
          "hovermode": "closest",
          "mapbox": {
           "style": "light"
          },
          "paper_bgcolor": "white",
          "plot_bgcolor": "#E5ECF6",
          "polar": {
           "angularaxis": {
            "gridcolor": "white",
            "linecolor": "white",
            "ticks": ""
           },
           "bgcolor": "#E5ECF6",
           "radialaxis": {
            "gridcolor": "white",
            "linecolor": "white",
            "ticks": ""
           }
          },
          "scene": {
           "xaxis": {
            "backgroundcolor": "#E5ECF6",
            "gridcolor": "white",
            "gridwidth": 2,
            "linecolor": "white",
            "showbackground": true,
            "ticks": "",
            "zerolinecolor": "white"
           },
           "yaxis": {
            "backgroundcolor": "#E5ECF6",
            "gridcolor": "white",
            "gridwidth": 2,
            "linecolor": "white",
            "showbackground": true,
            "ticks": "",
            "zerolinecolor": "white"
           },
           "zaxis": {
            "backgroundcolor": "#E5ECF6",
            "gridcolor": "white",
            "gridwidth": 2,
            "linecolor": "white",
            "showbackground": true,
            "ticks": "",
            "zerolinecolor": "white"
           }
          },
          "shapedefaults": {
           "line": {
            "color": "#2a3f5f"
           }
          },
          "ternary": {
           "aaxis": {
            "gridcolor": "white",
            "linecolor": "white",
            "ticks": ""
           },
           "baxis": {
            "gridcolor": "white",
            "linecolor": "white",
            "ticks": ""
           },
           "bgcolor": "#E5ECF6",
           "caxis": {
            "gridcolor": "white",
            "linecolor": "white",
            "ticks": ""
           }
          },
          "title": {
           "x": 0.05
          },
          "xaxis": {
           "automargin": true,
           "gridcolor": "white",
           "linecolor": "white",
           "ticks": "",
           "title": {
            "standoff": 15
           },
           "zerolinecolor": "white",
           "zerolinewidth": 2
          },
          "yaxis": {
           "automargin": true,
           "gridcolor": "white",
           "linecolor": "white",
           "ticks": "",
           "title": {
            "standoff": 15
           },
           "zerolinecolor": "white",
           "zerolinewidth": 2
          }
         }
        },
        "title": {
         "text": "Monthly Count of Events for Each Year",
         "x": 0.2,
         "xanchor": "center",
         "yanchor": "top"
        },
        "xaxis": {
         "anchor": "y",
         "constrain": "domain",
         "domain": [
          0,
          1
         ],
         "gridcolor": "lightgrey",
         "scaleanchor": "y",
         "showgrid": true,
         "tickangle": -45,
         "tickmode": "array",
         "ticktext": [
          "2006",
          "2007",
          "2008",
          "2009",
          "2010",
          "2011",
          "2012",
          "2013",
          "2014",
          "2015",
          "2016",
          "2017",
          "2018",
          "2019",
          "2020",
          "2021",
          "2022",
          "2023",
          "2024"
         ],
         "tickvals": [
          0,
          1,
          2,
          3,
          4,
          5,
          6,
          7,
          8,
          9,
          10,
          11,
          12,
          13,
          14,
          15,
          16,
          17,
          18
         ],
         "title": {
          "text": "Year"
         }
        },
        "yaxis": {
         "anchor": "x",
         "autorange": "reversed",
         "constrain": "domain",
         "domain": [
          0,
          1
         ],
         "gridcolor": "lightgrey",
         "showgrid": true,
         "tickmode": "array",
         "ticktext": [
          "Jan",
          "Feb",
          "Mar",
          "Apr",
          "May",
          "Jun",
          "Jul",
          "Aug",
          "Sep",
          "Oct",
          "Nov",
          "Dec"
         ],
         "tickvals": [
          0,
          1,
          2,
          3,
          4,
          5,
          6,
          7,
          8,
          9,
          10,
          11
         ],
         "title": {
          "text": "Month"
         }
        }
       }
      }
     },
     "metadata": {},
     "output_type": "display_data"
    }
   ],
   "source": [
    "#### Heatmap Monthly Counts for Each Year - Plotly\n",
    "\n",
    "\n",
    "# Count the number of events per month and year\n",
    "monthly_counts = df_rabies_raw.groupby(['Year', 'Month']).size().reset_index(name='Counts')\n",
    "\n",
    "# Create a Pivot Table\n",
    "monthly_counts_pivot = monthly_counts.pivot(index='Month', columns='Year', values='Counts').fillna(0)\n",
    "\n",
    "# Convert the pivot table back to long format for Plotly\n",
    "monthly_counts_long = monthly_counts_pivot.reset_index().melt(id_vars='Month', var_name='Year', value_name='Counts')\n",
    "\n",
    "# Define month names for better readability\n",
    "monthly_counts_long['Month'] = monthly_counts_long['Month'].apply(lambda x: month_names[x-1])\n",
    "\n",
    "# Create the heatmap with a lighter color palette\n",
    "fig = px.imshow(monthly_counts_pivot.values, \n",
    "                labels=dict(x=\"Year\", y=\"Month\", color=\"Counts\"), \n",
    "                x=monthly_counts_pivot.columns, \n",
    "                y=month_names, \n",
    "                color_continuous_scale='viridis')\n",
    "\n",
    "# Update the layout for better readability and interactivity\n",
    "fig.update_layout(\n",
    "    title={\n",
    "        'text': 'Monthly Count of Events for Each Year',\n",
    "        'x': 0.2,\n",
    "        'xanchor': 'center',\n",
    "        'yanchor': 'top'\n",
    "    },\n",
    "    xaxis_title='Year',\n",
    "    yaxis_title='Month',\n",
    "    coloraxis_colorbar=dict(\n",
    "        title=\"Number of Events\",\n",
    "        tickvals=[0, monthly_counts_pivot.values.max()],\n",
    "        ticktext=['0', str(int(monthly_counts_pivot.values.max()))],\n",
    "        ticks=\"outside\"\n",
    "    ),\n",
    "    plot_bgcolor='white',  # Set background color to white\n",
    "    xaxis=dict(showgrid=True, gridcolor='lightgrey'),  # Add grid lines for x-axis\n",
    "    yaxis=dict(showgrid=True, gridcolor='lightgrey')   # Add grid lines for y-axis\n",
    ")\n",
    "\n",
    "# Update the layout for better aesthetics\n",
    "fig.update_xaxes(tickangle=-45)\n",
    "fig.update_layout(\n",
    "    xaxis=dict(\n",
    "        tickmode='array',\n",
    "        tickvals=list(range(len(monthly_counts_pivot.columns))),\n",
    "        ticktext=[str(year) for year in monthly_counts_pivot.columns]\n",
    "    ),\n",
    "    yaxis=dict(\n",
    "        tickmode='array',\n",
    "        tickvals=list(range(12)),\n",
    "        ticktext=month_names\n",
    "    )\n",
    ")\n",
    "\n",
    "# Save the interactive plot to an HTML file\n",
    "html_content = fig.to_html(include_plotlyjs='cdn', full_html=False)\n",
    "minified_html = htmlmin.minify(html_content, remove_comments=True, reduce_empty_attributes=True)\n",
    "\n",
    "with open(\"../assets/plots/interactive_rabies_events_by_month_and_year.html\", \"w\") as f:\n",
    "    f.write(minified_html)\n",
    "\n",
    "# print(\"Interactive plot saved as HTML file.\")\n",
    "\n",
    "# Show the interactive plot\n",
    "fig.show()"
   ]
  },
  {
   "cell_type": "markdown",
   "id": "f27dc8db-aed4-48b5-8043-8db34f750cd6",
   "metadata": {},
   "source": [
    "## Visualizations for 2023"
   ]
  },
  {
   "cell_type": "markdown",
   "id": "861f2dab",
   "metadata": {},
   "source": [
    "### Count of Rabies Cases by Species in 2023"
   ]
  },
  {
   "cell_type": "code",
   "execution_count": 63,
   "id": "12cb1098-b216-4f67-a851-28cebd04d5ed",
   "metadata": {},
   "outputs": [
    {
     "data": {
      "image/png": "[encoded data removed]",
      "text/plain": [
       "<Figure size 1000x600 with 1 Axes>"
      ]
     },
     "metadata": {},
     "output_type": "display_data"
    }
   ],
   "source": [
    "# Filter the DataFrame for the year 2023\n",
    "df_2023 = df_rabies_raw[df_rabies_raw['Date'].dt.year == 2023]\n",
    "\n",
    "# Count plot for Species in 2023\n",
    "plt.figure(figsize=(10, 6))\n",
    "sns.countplot(data=df_2023, x='Species Name', order=df_2023['SpeciesNameEng'].value_counts().index, palette='viridis', hue='SpeciesNameEng')\n",
    "plt.title('Count of Rabies Cases by Species in 2023')\n",
    "plt.xticks(rotation=45)\n",
    "plt.show()"
   ]
  },
  {
   "cell_type": "markdown",
   "id": "2c9be2a3",
   "metadata": {},
   "source": [
    "### Count plot for Regions in 2023"
   ]
  },
  {
   "cell_type": "code",
   "execution_count": 64,
   "id": "07af304b-d7f2-47d3-ac19-d122b2f5cd2f",
   "metadata": {},
   "outputs": [
    {
     "data": {
      "image/png": "[encoded data removed]",
      "text/plain": [
       "<Figure size 1000x600 with 1 Axes>"
      ]
     },
     "metadata": {},
     "output_type": "display_data"
    }
   ],
   "source": [
    "# Count plot for Regions in 2023\n",
    "plt.figure(figsize=(10, 6))\n",
    "sns.countplot(data=df_2023, x='RegionEng', order=df_2023['RegionEng'].value_counts().index, palette='viridis', hue='RegionEng')\n",
    "plt.title('Count of Rabies Cases by Region in 2023')\n",
    "plt.xticks(rotation=45)\n",
    "plt.show()"
   ]
  },
  {
   "cell_type": "markdown",
   "id": "681f52ec",
   "metadata": {},
   "source": [
    "### Count of Rabies Events by Month in 2023"
   ]
  },
  {
   "cell_type": "code",
   "execution_count": 83,
   "id": "a5775620-8865-4d34-8bb6-bce8d321bb49",
   "metadata": {},
   "outputs": [
    {
     "name": "stderr",
     "output_type": "stream",
     "text": [
      "C:\\Users\\DOR\\AppData\\Local\\Temp\\ipykernel_5196\\2257303053.py:2: SettingWithCopyWarning:\n",
      "\n",
      "\n",
      "A value is trying to be set on a copy of a slice from a DataFrame.\n",
      "Try using .loc[row_indexer,col_indexer] = value instead\n",
      "\n",
      "See the caveats in the documentation: https://pandas.pydata.org/pandas-docs/stable/user_guide/indexing.html#returning-a-view-versus-a-copy\n",
      "\n"
     ]
    },
    {
     "data": {
      "image/png": "[encoded data removed]",
      "text/plain": [
       "<Figure size 1000x600 with 1 Axes>"
      ]
     },
     "metadata": {},
     "output_type": "display_data"
    }
   ],
   "source": [
    "# Count plot for Events by Month in 2023\n",
    "df_2023['Month'] = df_2023['Date'].dt.month  # Extract the month if not already done\n",
    "plt.figure(figsize=(10, 6))\n",
    "sns.countplot(data=df_2023, x='Month', order=range(1, 13), palette='viridis', hue='Month', legend=False)\n",
    "plt.title('Count of Rabies Events by Month in 2023')\n",
    "plt.xlabel('Month')\n",
    "plt.ylabel('Number of Events')\n",
    "plt.xticks(range(0, 12),month_names)\n",
    "plt.show()"
   ]
  },
  {
   "cell_type": "markdown",
   "id": "7dbd15c4",
   "metadata": {},
   "source": [
    "### Comparison of Rabies Events by Month in 2023 to Annual Average"
   ]
  },
  {
   "cell_type": "code",
   "execution_count": 31,
   "id": "5ed035ab-ccd1-432e-b4fe-484c2df33376",
   "metadata": {},
   "outputs": [
    {
     "data": {
      "image/png": "[encoded data removed]",
      "text/plain": [
       "<Figure size 1400x700 with 1 Axes>"
      ]
     },
     "metadata": {},
     "output_type": "display_data"
    }
   ],
   "source": [
    "# Calculate the monthly counts for each year\n",
    "monthly_counts = df_rabies_raw.groupby(['Year', 'Month']).size().reset_index(name='Counts')\n",
    "\n",
    "# Calculate the average monthly counts across all years except 2023\n",
    "average_monthly_counts = monthly_counts[monthly_counts['Year'] != 2023].groupby('Month')['Counts'].mean().reset_index(name='Counts')\n",
    "average_monthly_counts['Year'] = 'Average'  # Add a column to indicate these are averages\n",
    "\n",
    "# Filter the DataFrame for the year 2023\n",
    "df_2023_counts = monthly_counts[monthly_counts['Year'] == 2023][['Month', 'Counts']]\n",
    "df_2023_counts['Year'] = '2023'  # Add a column to indicate these are 2023 counts\n",
    "\n",
    "# Combine the 2023 data with the average monthly counts\n",
    "combined_df = pd.concat([df_2023_counts, average_monthly_counts])\n",
    "\n",
    "# Convert 'Month' to a categorical type for proper ordering in the plot\n",
    "combined_df['Month'] = pd.Categorical(combined_df['Month'], categories=range(1, 13), ordered=True)\n",
    "\n",
    "# Now plot the results\n",
    "plt.figure(figsize=(14, 7))\n",
    "\n",
    "# Plot the counts with 'hue' to differentiate between 2023 and average counts\n",
    "sns.barplot(data=combined_df, x='Month', y='Counts', hue='Year', palette=['green', 'red'])\n",
    "\n",
    "plt.title('Comparison of Rabies Events by Month in 2023 to Annual Average')\n",
    "plt.xlabel('Month')\n",
    "plt.ylabel('Number of Events')\n",
    "plt.legend(title='Year')\n",
    "plt.xticks(range(0, 12), month_names)\n",
    "plt.show()\n"
   ]
  },
  {
   "cell_type": "markdown",
   "id": "fae00b6d",
   "metadata": {},
   "source": [
    "### Distribution of Rabies Events by Species over Time\n"
   ]
  },
  {
   "cell_type": "code",
   "execution_count": 32,
   "id": "2589ff49-bc63-4263-867f-2ddc668fca94",
   "metadata": {},
   "outputs": [
    {
     "data": {
      "application/vnd.plotly.v1+json": {
       "config": {
        "plotlyServerURL": "https://plot.ly"
       },
       "data": [
        {
         "alignmentgroup": "True",
         "hovertemplate": "Species=Cattle<br>Year=%{x}<br>Number of Events=%{y}<extra></extra>",
         "legendgroup": "Cattle",
         "marker": {
          "color": "rgb(229, 134, 6)",
          "pattern": {
           "shape": ""
          }
         },
         "name": "Cattle",
         "offsetgroup": "Cattle",
         "orientation": "v",
         "showlegend": true,
         "textposition": "auto",
         "type": "bar",
         "x": [
          2006,
          2007,
          2009,
          2010,
          2011,
          2012,
          2013,
          2014,
          2015,
          2016,
          2017,
          2018,
          2020,
          2021,
          2022,
          2023,
          2024
         ],
         "xaxis": "x",
         "y": [
          7,
          7,
          63,
          52,
          45,
          40,
          40,
          5,
          28,
          20,
          53,
          24,
          12,
          8,
          3,
          5,
          6
         ],
         "yaxis": "y"
        },
        {
         "alignmentgroup": "True",
         "hovertemplate": "Species=Dog<br>Year=%{x}<br>Number of Events=%{y}<extra></extra>",
         "legendgroup": "Dog",
         "marker": {
          "color": "rgb(93, 105, 177)",
          "pattern": {
           "shape": ""
          }
         },
         "name": "Dog",
         "offsetgroup": "Dog",
         "orientation": "v",
         "showlegend": true,
         "textposition": "auto",
         "type": "bar",
         "x": [
          2006,
          2007,
          2008,
          2009,
          2010,
          2011,
          2012,
          2013,
          2014,
          2015,
          2016,
          2017,
          2018,
          2019,
          2020,
          2021,
          2022,
          2023,
          2024
         ],
         "xaxis": "x",
         "y": [
          35,
          56,
          28,
          292,
          136,
          50,
          60,
          85,
          14,
          44,
          48,
          35,
          18,
          26,
          30,
          42,
          8,
          7,
          8
         ],
         "yaxis": "y"
        },
        {
         "alignmentgroup": "True",
         "hovertemplate": "Species=Fox<br>Year=%{x}<br>Number of Events=%{y}<extra></extra>",
         "legendgroup": "Fox",
         "marker": {
          "color": "rgb(82, 188, 163)",
          "pattern": {
           "shape": ""
          }
         },
         "name": "Fox",
         "offsetgroup": "Fox",
         "orientation": "v",
         "showlegend": true,
         "textposition": "auto",
         "type": "bar",
         "x": [
          2006,
          2007,
          2008,
          2009,
          2010,
          2012,
          2014,
          2015,
          2016,
          2024
         ],
         "xaxis": "x",
         "y": [
          7,
          28,
          14,
          26,
          6,
          5,
          9,
          4,
          28,
          1
         ],
         "yaxis": "y"
        },
        {
         "alignmentgroup": "True",
         "hovertemplate": "Species=Horse<br>Year=%{x}<br>Number of Events=%{y}<extra></extra>",
         "legendgroup": "Horse",
         "marker": {
          "color": "rgb(153, 201, 69)",
          "pattern": {
           "shape": ""
          }
         },
         "name": "Horse",
         "offsetgroup": "Horse",
         "orientation": "v",
         "showlegend": true,
         "textposition": "auto",
         "type": "bar",
         "x": [
          2006,
          2011,
          2013,
          2016,
          2018
         ],
         "xaxis": "x",
         "y": [
          7,
          10,
          5,
          4,
          3
         ],
         "yaxis": "y"
        },
        {
         "alignmentgroup": "True",
         "hovertemplate": "Species=Jackal<br>Year=%{x}<br>Number of Events=%{y}<extra></extra>",
         "legendgroup": "Jackal",
         "marker": {
          "color": "rgb(204, 97, 176)",
          "pattern": {
           "shape": ""
          }
         },
         "name": "Jackal",
         "offsetgroup": "Jackal",
         "orientation": "v",
         "showlegend": true,
         "textposition": "auto",
         "type": "bar",
         "x": [
          2007,
          2008,
          2009,
          2010,
          2011,
          2012,
          2013,
          2014,
          2015,
          2016,
          2017,
          2018,
          2019,
          2020,
          2021,
          2022,
          2023,
          2024
         ],
         "xaxis": "x",
         "y": [
          7,
          7,
          110,
          71,
          20,
          10,
          5,
          10,
          12,
          16,
          165,
          132,
          16,
          46,
          20,
          22,
          29,
          12
         ],
         "yaxis": "y"
        },
        {
         "alignmentgroup": "True",
         "hovertemplate": "Species=Mongoose<br>Year=%{x}<br>Number of Events=%{y}<extra></extra>",
         "legendgroup": "Mongoose",
         "marker": {
          "color": "rgb(36, 121, 108)",
          "pattern": {
           "shape": ""
          }
         },
         "name": "Mongoose",
         "offsetgroup": "Mongoose",
         "orientation": "v",
         "showlegend": true,
         "textposition": "auto",
         "type": "bar",
         "x": [
          2007
         ],
         "xaxis": "x",
         "y": [
          7
         ],
         "yaxis": "y"
        },
        {
         "alignmentgroup": "True",
         "hovertemplate": "Species=Cat<br>Year=%{x}<br>Number of Events=%{y}<extra></extra>",
         "legendgroup": "Cat",
         "marker": {
          "color": "rgb(218, 165, 27)",
          "pattern": {
           "shape": ""
          }
         },
         "name": "Cat",
         "offsetgroup": "Cat",
         "orientation": "v",
         "showlegend": true,
         "textposition": "auto",
         "type": "bar",
         "x": [
          2009,
          2010,
          2011,
          2015,
          2017,
          2022
         ],
         "xaxis": "x",
         "y": [
          12,
          17,
          5,
          4,
          8,
          1
         ],
         "yaxis": "y"
        },
        {
         "alignmentgroup": "True",
         "hovertemplate": "Species=Donkey<br>Year=%{x}<br>Number of Events=%{y}<extra></extra>",
         "legendgroup": "Donkey",
         "marker": {
          "color": "rgb(47, 138, 196)",
          "pattern": {
           "shape": ""
          }
         },
         "name": "Donkey",
         "offsetgroup": "Donkey",
         "orientation": "v",
         "showlegend": true,
         "textposition": "auto",
         "type": "bar",
         "x": [
          2009
         ],
         "xaxis": "x",
         "y": [
          12
         ],
         "yaxis": "y"
        },
        {
         "alignmentgroup": "True",
         "hovertemplate": "Species=Martes<br>Year=%{x}<br>Number of Events=%{y}<extra></extra>",
         "legendgroup": "Martes",
         "marker": {
          "color": "rgb(118, 78, 159)",
          "pattern": {
           "shape": ""
          }
         },
         "name": "Martes",
         "offsetgroup": "Martes",
         "orientation": "v",
         "showlegend": true,
         "textposition": "auto",
         "type": "bar",
         "x": [
          2009
         ],
         "xaxis": "x",
         "y": [
          7
         ],
         "yaxis": "y"
        },
        {
         "alignmentgroup": "True",
         "hovertemplate": "Species=Sheep<br>Year=%{x}<br>Number of Events=%{y}<extra></extra>",
         "legendgroup": "Sheep",
         "marker": {
          "color": "rgb(237, 100, 90)",
          "pattern": {
           "shape": ""
          }
         },
         "name": "Sheep",
         "offsetgroup": "Sheep",
         "orientation": "v",
         "showlegend": true,
         "textposition": "auto",
         "type": "bar",
         "x": [
          2009,
          2010,
          2011,
          2012,
          2017,
          2018,
          2021,
          2024
         ],
         "xaxis": "x",
         "y": [
          14,
          24,
          10,
          5,
          4,
          3,
          4,
          3
         ],
         "yaxis": "y"
        },
        {
         "alignmentgroup": "True",
         "hovertemplate": "Species=Wolf<br>Year=%{x}<br>Number of Events=%{y}<extra></extra>",
         "legendgroup": "Wolf",
         "marker": {
          "color": "rgb(165, 170, 153)",
          "pattern": {
           "shape": ""
          }
         },
         "name": "Wolf",
         "offsetgroup": "Wolf",
         "orientation": "v",
         "showlegend": true,
         "textposition": "auto",
         "type": "bar",
         "x": [
          2009,
          2010,
          2011,
          2013,
          2014,
          2015,
          2020,
          2021,
          2023
         ],
         "xaxis": "x",
         "y": [
          7,
          12,
          5,
          5,
          20,
          8,
          4,
          2,
          2
         ],
         "yaxis": "y"
        },
        {
         "alignmentgroup": "True",
         "hovertemplate": "Species=Badger<br>Year=%{x}<br>Number of Events=%{y}<extra></extra>",
         "legendgroup": "Badger",
         "marker": {
          "color": "rgb(229, 134, 6)",
          "pattern": {
           "shape": ""
          }
         },
         "name": "Badger",
         "offsetgroup": "Badger",
         "orientation": "v",
         "showlegend": true,
         "textposition": "auto",
         "type": "bar",
         "x": [
          2011,
          2014,
          2015,
          2018,
          2021,
          2023,
          2024
         ],
         "xaxis": "x",
         "y": [
          10,
          5,
          4,
          3,
          2,
          1,
          1
         ],
         "yaxis": "y"
        },
        {
         "alignmentgroup": "True",
         "hovertemplate": "Species=Cow<br>Year=%{x}<br>Number of Events=%{y}<extra></extra>",
         "legendgroup": "Cow",
         "marker": {
          "color": "rgb(93, 105, 177)",
          "pattern": {
           "shape": ""
          }
         },
         "name": "Cow",
         "offsetgroup": "Cow",
         "orientation": "v",
         "showlegend": true,
         "textposition": "auto",
         "type": "bar",
         "x": [
          2021
         ],
         "xaxis": "x",
         "y": [
          2
         ],
         "yaxis": "y"
        }
       ],
       "layout": {
        "barmode": "stack",
        "legend": {
         "title": {
          "text": "Species"
         },
         "tracegroupgap": 0
        },
        "plot_bgcolor": "white",
        "template": {
         "data": {
          "bar": [
           {
            "error_x": {
             "color": "#2a3f5f"
            },
            "error_y": {
             "color": "#2a3f5f"
            },
            "marker": {
             "line": {
              "color": "#E5ECF6",
              "width": 0.5
             },
             "pattern": {
              "fillmode": "overlay",
              "size": 10,
              "solidity": 0.2
             }
            },
            "type": "bar"
           }
          ],
          "barpolar": [
           {
            "marker": {
             "line": {
              "color": "#E5ECF6",
              "width": 0.5
             },
             "pattern": {
              "fillmode": "overlay",
              "size": 10,
              "solidity": 0.2
             }
            },
            "type": "barpolar"
           }
          ],
          "carpet": [
           {
            "aaxis": {
             "endlinecolor": "#2a3f5f",
             "gridcolor": "white",
             "linecolor": "white",
             "minorgridcolor": "white",
             "startlinecolor": "#2a3f5f"
            },
            "baxis": {
             "endlinecolor": "#2a3f5f",
             "gridcolor": "white",
             "linecolor": "white",
             "minorgridcolor": "white",
             "startlinecolor": "#2a3f5f"
            },
            "type": "carpet"
           }
          ],
          "choropleth": [
           {
            "colorbar": {
             "outlinewidth": 0,
             "ticks": ""
            },
            "type": "choropleth"
           }
          ],
          "contour": [
           {
            "colorbar": {
             "outlinewidth": 0,
             "ticks": ""
            },
            "colorscale": [
             [
              0,
              "#0d0887"
             ],
             [
              0.1111111111111111,
              "#46039f"
             ],
             [
              0.2222222222222222,
              "#7201a8"
             ],
             [
              0.3333333333333333,
              "#9c179e"
             ],
             [
              0.4444444444444444,
              "#bd3786"
             ],
             [
              0.5555555555555556,
              "#d8576b"
             ],
             [
              0.6666666666666666,
              "#ed7953"
             ],
             [
              0.7777777777777778,
              "#fb9f3a"
             ],
             [
              0.8888888888888888,
              "#fdca26"
             ],
             [
              1,
              "#f0f921"
             ]
            ],
            "type": "contour"
           }
          ],
          "contourcarpet": [
           {
            "colorbar": {
             "outlinewidth": 0,
             "ticks": ""
            },
            "type": "contourcarpet"
           }
          ],
          "heatmap": [
           {
            "colorbar": {
             "outlinewidth": 0,
             "ticks": ""
            },
            "colorscale": [
             [
              0,
              "#0d0887"
             ],
             [
              0.1111111111111111,
              "#46039f"
             ],
             [
              0.2222222222222222,
              "#7201a8"
             ],
             [
              0.3333333333333333,
              "#9c179e"
             ],
             [
              0.4444444444444444,
              "#bd3786"
             ],
             [
              0.5555555555555556,
              "#d8576b"
             ],
             [
              0.6666666666666666,
              "#ed7953"
             ],
             [
              0.7777777777777778,
              "#fb9f3a"
             ],
             [
              0.8888888888888888,
              "#fdca26"
             ],
             [
              1,
              "#f0f921"
             ]
            ],
            "type": "heatmap"
           }
          ],
          "heatmapgl": [
           {
            "colorbar": {
             "outlinewidth": 0,
             "ticks": ""
            },
            "colorscale": [
             [
              0,
              "#0d0887"
             ],
             [
              0.1111111111111111,
              "#46039f"
             ],
             [
              0.2222222222222222,
              "#7201a8"
             ],
             [
              0.3333333333333333,
              "#9c179e"
             ],
             [
              0.4444444444444444,
              "#bd3786"
             ],
             [
              0.5555555555555556,
              "#d8576b"
             ],
             [
              0.6666666666666666,
              "#ed7953"
             ],
             [
              0.7777777777777778,
              "#fb9f3a"
             ],
             [
              0.8888888888888888,
              "#fdca26"
             ],
             [
              1,
              "#f0f921"
             ]
            ],
            "type": "heatmapgl"
           }
          ],
          "histogram": [
           {
            "marker": {
             "pattern": {
              "fillmode": "overlay",
              "size": 10,
              "solidity": 0.2
             }
            },
            "type": "histogram"
           }
          ],
          "histogram2d": [
           {
            "colorbar": {
             "outlinewidth": 0,
             "ticks": ""
            },
            "colorscale": [
             [
              0,
              "#0d0887"
             ],
             [
              0.1111111111111111,
              "#46039f"
             ],
             [
              0.2222222222222222,
              "#7201a8"
             ],
             [
              0.3333333333333333,
              "#9c179e"
             ],
             [
              0.4444444444444444,
              "#bd3786"
             ],
             [
              0.5555555555555556,
              "#d8576b"
             ],
             [
              0.6666666666666666,
              "#ed7953"
             ],
             [
              0.7777777777777778,
              "#fb9f3a"
             ],
             [
              0.8888888888888888,
              "#fdca26"
             ],
             [
              1,
              "#f0f921"
             ]
            ],
            "type": "histogram2d"
           }
          ],
          "histogram2dcontour": [
           {
            "colorbar": {
             "outlinewidth": 0,
             "ticks": ""
            },
            "colorscale": [
             [
              0,
              "#0d0887"
             ],
             [
              0.1111111111111111,
              "#46039f"
             ],
             [
              0.2222222222222222,
              "#7201a8"
             ],
             [
              0.3333333333333333,
              "#9c179e"
             ],
             [
              0.4444444444444444,
              "#bd3786"
             ],
             [
              0.5555555555555556,
              "#d8576b"
             ],
             [
              0.6666666666666666,
              "#ed7953"
             ],
             [
              0.7777777777777778,
              "#fb9f3a"
             ],
             [
              0.8888888888888888,
              "#fdca26"
             ],
             [
              1,
              "#f0f921"
             ]
            ],
            "type": "histogram2dcontour"
           }
          ],
          "mesh3d": [
           {
            "colorbar": {
             "outlinewidth": 0,
             "ticks": ""
            },
            "type": "mesh3d"
           }
          ],
          "parcoords": [
           {
            "line": {
             "colorbar": {
              "outlinewidth": 0,
              "ticks": ""
             }
            },
            "type": "parcoords"
           }
          ],
          "pie": [
           {
            "automargin": true,
            "type": "pie"
           }
          ],
          "scatter": [
           {
            "fillpattern": {
             "fillmode": "overlay",
             "size": 10,
             "solidity": 0.2
            },
            "type": "scatter"
           }
          ],
          "scatter3d": [
           {
            "line": {
             "colorbar": {
              "outlinewidth": 0,
              "ticks": ""
             }
            },
            "marker": {
             "colorbar": {
              "outlinewidth": 0,
              "ticks": ""
             }
            },
            "type": "scatter3d"
           }
          ],
          "scattercarpet": [
           {
            "marker": {
             "colorbar": {
              "outlinewidth": 0,
              "ticks": ""
             }
            },
            "type": "scattercarpet"
           }
          ],
          "scattergeo": [
           {
            "marker": {
             "colorbar": {
              "outlinewidth": 0,
              "ticks": ""
             }
            },
            "type": "scattergeo"
           }
          ],
          "scattergl": [
           {
            "marker": {
             "colorbar": {
              "outlinewidth": 0,
              "ticks": ""
             }
            },
            "type": "scattergl"
           }
          ],
          "scattermapbox": [
           {
            "marker": {
             "colorbar": {
              "outlinewidth": 0,
              "ticks": ""
             }
            },
            "type": "scattermapbox"
           }
          ],
          "scatterpolar": [
           {
            "marker": {
             "colorbar": {
              "outlinewidth": 0,
              "ticks": ""
             }
            },
            "type": "scatterpolar"
           }
          ],
          "scatterpolargl": [
           {
            "marker": {
             "colorbar": {
              "outlinewidth": 0,
              "ticks": ""
             }
            },
            "type": "scatterpolargl"
           }
          ],
          "scatterternary": [
           {
            "marker": {
             "colorbar": {
              "outlinewidth": 0,
              "ticks": ""
             }
            },
            "type": "scatterternary"
           }
          ],
          "surface": [
           {
            "colorbar": {
             "outlinewidth": 0,
             "ticks": ""
            },
            "colorscale": [
             [
              0,
              "#0d0887"
             ],
             [
              0.1111111111111111,
              "#46039f"
             ],
             [
              0.2222222222222222,
              "#7201a8"
             ],
             [
              0.3333333333333333,
              "#9c179e"
             ],
             [
              0.4444444444444444,
              "#bd3786"
             ],
             [
              0.5555555555555556,
              "#d8576b"
             ],
             [
              0.6666666666666666,
              "#ed7953"
             ],
             [
              0.7777777777777778,
              "#fb9f3a"
             ],
             [
              0.8888888888888888,
              "#fdca26"
             ],
             [
              1,
              "#f0f921"
             ]
            ],
            "type": "surface"
           }
          ],
          "table": [
           {
            "cells": {
             "fill": {
              "color": "#EBF0F8"
             },
             "line": {
              "color": "white"
             }
            },
            "header": {
             "fill": {
              "color": "#C8D4E3"
             },
             "line": {
              "color": "white"
             }
            },
            "type": "table"
           }
          ]
         },
         "layout": {
          "annotationdefaults": {
           "arrowcolor": "#2a3f5f",
           "arrowhead": 0,
           "arrowwidth": 1
          },
          "autotypenumbers": "strict",
          "coloraxis": {
           "colorbar": {
            "outlinewidth": 0,
            "ticks": ""
           }
          },
          "colorscale": {
           "diverging": [
            [
             0,
             "#8e0152"
            ],
            [
             0.1,
             "#c51b7d"
            ],
            [
             0.2,
             "#de77ae"
            ],
            [
             0.3,
             "#f1b6da"
            ],
            [
             0.4,
             "#fde0ef"
            ],
            [
             0.5,
             "#f7f7f7"
            ],
            [
             0.6,
             "#e6f5d0"
            ],
            [
             0.7,
             "#b8e186"
            ],
            [
             0.8,
             "#7fbc41"
            ],
            [
             0.9,
             "#4d9221"
            ],
            [
             1,
             "#276419"
            ]
           ],
           "sequential": [
            [
             0,
             "#0d0887"
            ],
            [
             0.1111111111111111,
             "#46039f"
            ],
            [
             0.2222222222222222,
             "#7201a8"
            ],
            [
             0.3333333333333333,
             "#9c179e"
            ],
            [
             0.4444444444444444,
             "#bd3786"
            ],
            [
             0.5555555555555556,
             "#d8576b"
            ],
            [
             0.6666666666666666,
             "#ed7953"
            ],
            [
             0.7777777777777778,
             "#fb9f3a"
            ],
            [
             0.8888888888888888,
             "#fdca26"
            ],
            [
             1,
             "#f0f921"
            ]
           ],
           "sequentialminus": [
            [
             0,
             "#0d0887"
            ],
            [
             0.1111111111111111,
             "#46039f"
            ],
            [
             0.2222222222222222,
             "#7201a8"
            ],
            [
             0.3333333333333333,
             "#9c179e"
            ],
            [
             0.4444444444444444,
             "#bd3786"
            ],
            [
             0.5555555555555556,
             "#d8576b"
            ],
            [
             0.6666666666666666,
             "#ed7953"
            ],
            [
             0.7777777777777778,
             "#fb9f3a"
            ],
            [
             0.8888888888888888,
             "#fdca26"
            ],
            [
             1,
             "#f0f921"
            ]
           ]
          },
          "colorway": [
           "#636efa",
           "#EF553B",
           "#00cc96",
           "#ab63fa",
           "#FFA15A",
           "#19d3f3",
           "#FF6692",
           "#B6E880",
           "#FF97FF",
           "#FECB52"
          ],
          "font": {
           "color": "#2a3f5f"
          },
          "geo": {
           "bgcolor": "white",
           "lakecolor": "white",
           "landcolor": "#E5ECF6",
           "showlakes": true,
           "showland": true,
           "subunitcolor": "white"
          },
          "hoverlabel": {
           "align": "left"
          },
          "hovermode": "closest",
          "mapbox": {
           "style": "light"
          },
          "paper_bgcolor": "white",
          "plot_bgcolor": "#E5ECF6",
          "polar": {
           "angularaxis": {
            "gridcolor": "white",
            "linecolor": "white",
            "ticks": ""
           },
           "bgcolor": "#E5ECF6",
           "radialaxis": {
            "gridcolor": "white",
            "linecolor": "white",
            "ticks": ""
           }
          },
          "scene": {
           "xaxis": {
            "backgroundcolor": "#E5ECF6",
            "gridcolor": "white",
            "gridwidth": 2,
            "linecolor": "white",
            "showbackground": true,
            "ticks": "",
            "zerolinecolor": "white"
           },
           "yaxis": {
            "backgroundcolor": "#E5ECF6",
            "gridcolor": "white",
            "gridwidth": 2,
            "linecolor": "white",
            "showbackground": true,
            "ticks": "",
            "zerolinecolor": "white"
           },
           "zaxis": {
            "backgroundcolor": "#E5ECF6",
            "gridcolor": "white",
            "gridwidth": 2,
            "linecolor": "white",
            "showbackground": true,
            "ticks": "",
            "zerolinecolor": "white"
           }
          },
          "shapedefaults": {
           "line": {
            "color": "#2a3f5f"
           }
          },
          "ternary": {
           "aaxis": {
            "gridcolor": "white",
            "linecolor": "white",
            "ticks": ""
           },
           "baxis": {
            "gridcolor": "white",
            "linecolor": "white",
            "ticks": ""
           },
           "bgcolor": "#E5ECF6",
           "caxis": {
            "gridcolor": "white",
            "linecolor": "white",
            "ticks": ""
           }
          },
          "title": {
           "x": 0.05
          },
          "xaxis": {
           "automargin": true,
           "gridcolor": "white",
           "linecolor": "white",
           "ticks": "",
           "title": {
            "standoff": 15
           },
           "zerolinecolor": "white",
           "zerolinewidth": 2
          },
          "yaxis": {
           "automargin": true,
           "gridcolor": "white",
           "linecolor": "white",
           "ticks": "",
           "title": {
            "standoff": 15
           },
           "zerolinecolor": "white",
           "zerolinewidth": 2
          }
         }
        },
        "title": {
         "font": {
          "size": 22
         },
         "text": "Distribution of Rabies Events by Species over Time",
         "x": 0.5
        },
        "xaxis": {
         "anchor": "y",
         "domain": [
          0,
          1
         ],
         "gridcolor": "lightgrey",
         "showgrid": true,
         "title": {
          "text": "Year"
         }
        },
        "yaxis": {
         "anchor": "x",
         "domain": [
          0,
          1
         ],
         "gridcolor": "lightgrey",
         "showgrid": true,
         "title": {
          "text": "Number of Events"
         }
        }
       }
      }
     },
     "metadata": {},
     "output_type": "display_data"
    }
   ],
   "source": [
    "# Count the number of events per year and species\n",
    "events_per_year_species = df_rabies_raw.groupby(['Year', 'SpeciesNameEng']).size().reset_index(name='Counts')\n",
    "\n",
    "# Create the stacked bar chart\n",
    "fig = px.bar(events_per_year_species, \n",
    "             x='Year', \n",
    "             y='Counts', \n",
    "             color='SpeciesNameEng', \n",
    "             title='Distribution of Rabies Events by Species over Time',\n",
    "             labels={'SpeciesNameEng': 'Species', 'Counts': 'Number of Events'},\n",
    "             color_discrete_sequence=px.colors.qualitative.Vivid)\n",
    "\n",
    "# Update layout\n",
    "fig.update_layout(\n",
    "    barmode='stack',\n",
    "    xaxis_title='Year',\n",
    "    yaxis_title='Number of Events',\n",
    "    title_x=0.5,\n",
    "    title_font=dict(size=22),\n",
    "    legend_title_text='Species',\n",
    "    plot_bgcolor='white',\n",
    "    xaxis=dict(showgrid=True, gridcolor='lightgrey'),\n",
    "    yaxis=dict(showgrid=True, gridcolor='lightgrey')\n",
    ")\n",
    "\n",
    "# Save the interactive plot to an HTML file\n",
    "html_content = fig.to_html(include_plotlyjs='cdn', full_html=False)\n",
    "minified_html = htmlmin.minify(html_content, remove_comments=True, reduce_empty_attributes=True)\n",
    "\n",
    "with open(\"../assets/plots/interactive_distribution_rabies_events_by_species_over_time.html\", \"w\") as f:\n",
    "    f.write(minified_html)\n",
    "\n",
    "# print(\"Interactive plot saved as HTML file.\")\n",
    "\n",
    "# Show the interactive plot\n",
    "fig.show()"
   ]
  },
  {
   "cell_type": "markdown",
   "id": "43172a3c",
   "metadata": {},
   "source": [
    "### Seasonal Trends of Rabies Events"
   ]
  },
  {
   "cell_type": "code",
   "execution_count": 33,
   "id": "2bec8748-3fbc-43e2-9ca4-5659f0f55496",
   "metadata": {},
   "outputs": [
    {
     "data": {
      "application/vnd.plotly.v1+json": {
       "config": {
        "plotlyServerURL": "https://plot.ly"
       },
       "data": [
        {
         "hovertemplate": "Month=%{x}<br>Number of Events=%{y}<extra></extra>",
         "legendgroup": "",
         "line": {
          "color": "#636EFA",
          "dash": "solid"
         },
         "marker": {
          "symbol": "circle"
         },
         "mode": "lines+markers",
         "name": "",
         "orientation": "v",
         "showlegend": false,
         "type": "scatter",
         "x": [
          "Jan",
          "Feb",
          "Mar",
          "Apr",
          "May",
          "Jun",
          "Jul",
          "Aug",
          "Sep",
          "Oct",
          "Nov",
          "Dec"
         ],
         "xaxis": "x",
         "y": [
          232,
          230,
          163,
          181,
          165,
          135,
          111,
          161,
          226,
          297,
          344,
          296
         ],
         "yaxis": "y"
        }
       ],
       "layout": {
        "legend": {
         "tracegroupgap": 0
        },
        "template": {
         "data": {
          "bar": [
           {
            "error_x": {
             "color": "#2a3f5f"
            },
            "error_y": {
             "color": "#2a3f5f"
            },
            "marker": {
             "line": {
              "color": "#E5ECF6",
              "width": 0.5
             },
             "pattern": {
              "fillmode": "overlay",
              "size": 10,
              "solidity": 0.2
             }
            },
            "type": "bar"
           }
          ],
          "barpolar": [
           {
            "marker": {
             "line": {
              "color": "#E5ECF6",
              "width": 0.5
             },
             "pattern": {
              "fillmode": "overlay",
              "size": 10,
              "solidity": 0.2
             }
            },
            "type": "barpolar"
           }
          ],
          "carpet": [
           {
            "aaxis": {
             "endlinecolor": "#2a3f5f",
             "gridcolor": "white",
             "linecolor": "white",
             "minorgridcolor": "white",
             "startlinecolor": "#2a3f5f"
            },
            "baxis": {
             "endlinecolor": "#2a3f5f",
             "gridcolor": "white",
             "linecolor": "white",
             "minorgridcolor": "white",
             "startlinecolor": "#2a3f5f"
            },
            "type": "carpet"
           }
          ],
          "choropleth": [
           {
            "colorbar": {
             "outlinewidth": 0,
             "ticks": ""
            },
            "type": "choropleth"
           }
          ],
          "contour": [
           {
            "colorbar": {
             "outlinewidth": 0,
             "ticks": ""
            },
            "colorscale": [
             [
              0,
              "#0d0887"
             ],
             [
              0.1111111111111111,
              "#46039f"
             ],
             [
              0.2222222222222222,
              "#7201a8"
             ],
             [
              0.3333333333333333,
              "#9c179e"
             ],
             [
              0.4444444444444444,
              "#bd3786"
             ],
             [
              0.5555555555555556,
              "#d8576b"
             ],
             [
              0.6666666666666666,
              "#ed7953"
             ],
             [
              0.7777777777777778,
              "#fb9f3a"
             ],
             [
              0.8888888888888888,
              "#fdca26"
             ],
             [
              1,
              "#f0f921"
             ]
            ],
            "type": "contour"
           }
          ],
          "contourcarpet": [
           {
            "colorbar": {
             "outlinewidth": 0,
             "ticks": ""
            },
            "type": "contourcarpet"
           }
          ],
          "heatmap": [
           {
            "colorbar": {
             "outlinewidth": 0,
             "ticks": ""
            },
            "colorscale": [
             [
              0,
              "#0d0887"
             ],
             [
              0.1111111111111111,
              "#46039f"
             ],
             [
              0.2222222222222222,
              "#7201a8"
             ],
             [
              0.3333333333333333,
              "#9c179e"
             ],
             [
              0.4444444444444444,
              "#bd3786"
             ],
             [
              0.5555555555555556,
              "#d8576b"
             ],
             [
              0.6666666666666666,
              "#ed7953"
             ],
             [
              0.7777777777777778,
              "#fb9f3a"
             ],
             [
              0.8888888888888888,
              "#fdca26"
             ],
             [
              1,
              "#f0f921"
             ]
            ],
            "type": "heatmap"
           }
          ],
          "heatmapgl": [
           {
            "colorbar": {
             "outlinewidth": 0,
             "ticks": ""
            },
            "colorscale": [
             [
              0,
              "#0d0887"
             ],
             [
              0.1111111111111111,
              "#46039f"
             ],
             [
              0.2222222222222222,
              "#7201a8"
             ],
             [
              0.3333333333333333,
              "#9c179e"
             ],
             [
              0.4444444444444444,
              "#bd3786"
             ],
             [
              0.5555555555555556,
              "#d8576b"
             ],
             [
              0.6666666666666666,
              "#ed7953"
             ],
             [
              0.7777777777777778,
              "#fb9f3a"
             ],
             [
              0.8888888888888888,
              "#fdca26"
             ],
             [
              1,
              "#f0f921"
             ]
            ],
            "type": "heatmapgl"
           }
          ],
          "histogram": [
           {
            "marker": {
             "pattern": {
              "fillmode": "overlay",
              "size": 10,
              "solidity": 0.2
             }
            },
            "type": "histogram"
           }
          ],
          "histogram2d": [
           {
            "colorbar": {
             "outlinewidth": 0,
             "ticks": ""
            },
            "colorscale": [
             [
              0,
              "#0d0887"
             ],
             [
              0.1111111111111111,
              "#46039f"
             ],
             [
              0.2222222222222222,
              "#7201a8"
             ],
             [
              0.3333333333333333,
              "#9c179e"
             ],
             [
              0.4444444444444444,
              "#bd3786"
             ],
             [
              0.5555555555555556,
              "#d8576b"
             ],
             [
              0.6666666666666666,
              "#ed7953"
             ],
             [
              0.7777777777777778,
              "#fb9f3a"
             ],
             [
              0.8888888888888888,
              "#fdca26"
             ],
             [
              1,
              "#f0f921"
             ]
            ],
            "type": "histogram2d"
           }
          ],
          "histogram2dcontour": [
           {
            "colorbar": {
             "outlinewidth": 0,
             "ticks": ""
            },
            "colorscale": [
             [
              0,
              "#0d0887"
             ],
             [
              0.1111111111111111,
              "#46039f"
             ],
             [
              0.2222222222222222,
              "#7201a8"
             ],
             [
              0.3333333333333333,
              "#9c179e"
             ],
             [
              0.4444444444444444,
              "#bd3786"
             ],
             [
              0.5555555555555556,
              "#d8576b"
             ],
             [
              0.6666666666666666,
              "#ed7953"
             ],
             [
              0.7777777777777778,
              "#fb9f3a"
             ],
             [
              0.8888888888888888,
              "#fdca26"
             ],
             [
              1,
              "#f0f921"
             ]
            ],
            "type": "histogram2dcontour"
           }
          ],
          "mesh3d": [
           {
            "colorbar": {
             "outlinewidth": 0,
             "ticks": ""
            },
            "type": "mesh3d"
           }
          ],
          "parcoords": [
           {
            "line": {
             "colorbar": {
              "outlinewidth": 0,
              "ticks": ""
             }
            },
            "type": "parcoords"
           }
          ],
          "pie": [
           {
            "automargin": true,
            "type": "pie"
           }
          ],
          "scatter": [
           {
            "fillpattern": {
             "fillmode": "overlay",
             "size": 10,
             "solidity": 0.2
            },
            "type": "scatter"
           }
          ],
          "scatter3d": [
           {
            "line": {
             "colorbar": {
              "outlinewidth": 0,
              "ticks": ""
             }
            },
            "marker": {
             "colorbar": {
              "outlinewidth": 0,
              "ticks": ""
             }
            },
            "type": "scatter3d"
           }
          ],
          "scattercarpet": [
           {
            "marker": {
             "colorbar": {
              "outlinewidth": 0,
              "ticks": ""
             }
            },
            "type": "scattercarpet"
           }
          ],
          "scattergeo": [
           {
            "marker": {
             "colorbar": {
              "outlinewidth": 0,
              "ticks": ""
             }
            },
            "type": "scattergeo"
           }
          ],
          "scattergl": [
           {
            "marker": {
             "colorbar": {
              "outlinewidth": 0,
              "ticks": ""
             }
            },
            "type": "scattergl"
           }
          ],
          "scattermapbox": [
           {
            "marker": {
             "colorbar": {
              "outlinewidth": 0,
              "ticks": ""
             }
            },
            "type": "scattermapbox"
           }
          ],
          "scatterpolar": [
           {
            "marker": {
             "colorbar": {
              "outlinewidth": 0,
              "ticks": ""
             }
            },
            "type": "scatterpolar"
           }
          ],
          "scatterpolargl": [
           {
            "marker": {
             "colorbar": {
              "outlinewidth": 0,
              "ticks": ""
             }
            },
            "type": "scatterpolargl"
           }
          ],
          "scatterternary": [
           {
            "marker": {
             "colorbar": {
              "outlinewidth": 0,
              "ticks": ""
             }
            },
            "type": "scatterternary"
           }
          ],
          "surface": [
           {
            "colorbar": {
             "outlinewidth": 0,
             "ticks": ""
            },
            "colorscale": [
             [
              0,
              "#0d0887"
             ],
             [
              0.1111111111111111,
              "#46039f"
             ],
             [
              0.2222222222222222,
              "#7201a8"
             ],
             [
              0.3333333333333333,
              "#9c179e"
             ],
             [
              0.4444444444444444,
              "#bd3786"
             ],
             [
              0.5555555555555556,
              "#d8576b"
             ],
             [
              0.6666666666666666,
              "#ed7953"
             ],
             [
              0.7777777777777778,
              "#fb9f3a"
             ],
             [
              0.8888888888888888,
              "#fdca26"
             ],
             [
              1,
              "#f0f921"
             ]
            ],
            "type": "surface"
           }
          ],
          "table": [
           {
            "cells": {
             "fill": {
              "color": "#EBF0F8"
             },
             "line": {
              "color": "white"
             }
            },
            "header": {
             "fill": {
              "color": "#C8D4E3"
             },
             "line": {
              "color": "white"
             }
            },
            "type": "table"
           }
          ]
         },
         "layout": {
          "annotationdefaults": {
           "arrowcolor": "#2a3f5f",
           "arrowhead": 0,
           "arrowwidth": 1
          },
          "autotypenumbers": "strict",
          "coloraxis": {
           "colorbar": {
            "outlinewidth": 0,
            "ticks": ""
           }
          },
          "colorscale": {
           "diverging": [
            [
             0,
             "#8e0152"
            ],
            [
             0.1,
             "#c51b7d"
            ],
            [
             0.2,
             "#de77ae"
            ],
            [
             0.3,
             "#f1b6da"
            ],
            [
             0.4,
             "#fde0ef"
            ],
            [
             0.5,
             "#f7f7f7"
            ],
            [
             0.6,
             "#e6f5d0"
            ],
            [
             0.7,
             "#b8e186"
            ],
            [
             0.8,
             "#7fbc41"
            ],
            [
             0.9,
             "#4d9221"
            ],
            [
             1,
             "#276419"
            ]
           ],
           "sequential": [
            [
             0,
             "#0d0887"
            ],
            [
             0.1111111111111111,
             "#46039f"
            ],
            [
             0.2222222222222222,
             "#7201a8"
            ],
            [
             0.3333333333333333,
             "#9c179e"
            ],
            [
             0.4444444444444444,
             "#bd3786"
            ],
            [
             0.5555555555555556,
             "#d8576b"
            ],
            [
             0.6666666666666666,
             "#ed7953"
            ],
            [
             0.7777777777777778,
             "#fb9f3a"
            ],
            [
             0.8888888888888888,
             "#fdca26"
            ],
            [
             1,
             "#f0f921"
            ]
           ],
           "sequentialminus": [
            [
             0,
             "#0d0887"
            ],
            [
             0.1111111111111111,
             "#46039f"
            ],
            [
             0.2222222222222222,
             "#7201a8"
            ],
            [
             0.3333333333333333,
             "#9c179e"
            ],
            [
             0.4444444444444444,
             "#bd3786"
            ],
            [
             0.5555555555555556,
             "#d8576b"
            ],
            [
             0.6666666666666666,
             "#ed7953"
            ],
            [
             0.7777777777777778,
             "#fb9f3a"
            ],
            [
             0.8888888888888888,
             "#fdca26"
            ],
            [
             1,
             "#f0f921"
            ]
           ]
          },
          "colorway": [
           "#636efa",
           "#EF553B",
           "#00cc96",
           "#ab63fa",
           "#FFA15A",
           "#19d3f3",
           "#FF6692",
           "#B6E880",
           "#FF97FF",
           "#FECB52"
          ],
          "font": {
           "color": "#2a3f5f"
          },
          "geo": {
           "bgcolor": "white",
           "lakecolor": "white",
           "landcolor": "#E5ECF6",
           "showlakes": true,
           "showland": true,
           "subunitcolor": "white"
          },
          "hoverlabel": {
           "align": "left"
          },
          "hovermode": "closest",
          "mapbox": {
           "style": "light"
          },
          "paper_bgcolor": "white",
          "plot_bgcolor": "#E5ECF6",
          "polar": {
           "angularaxis": {
            "gridcolor": "white",
            "linecolor": "white",
            "ticks": ""
           },
           "bgcolor": "#E5ECF6",
           "radialaxis": {
            "gridcolor": "white",
            "linecolor": "white",
            "ticks": ""
           }
          },
          "scene": {
           "xaxis": {
            "backgroundcolor": "#E5ECF6",
            "gridcolor": "white",
            "gridwidth": 2,
            "linecolor": "white",
            "showbackground": true,
            "ticks": "",
            "zerolinecolor": "white"
           },
           "yaxis": {
            "backgroundcolor": "#E5ECF6",
            "gridcolor": "white",
            "gridwidth": 2,
            "linecolor": "white",
            "showbackground": true,
            "ticks": "",
            "zerolinecolor": "white"
           },
           "zaxis": {
            "backgroundcolor": "#E5ECF6",
            "gridcolor": "white",
            "gridwidth": 2,
            "linecolor": "white",
            "showbackground": true,
            "ticks": "",
            "zerolinecolor": "white"
           }
          },
          "shapedefaults": {
           "line": {
            "color": "#2a3f5f"
           }
          },
          "ternary": {
           "aaxis": {
            "gridcolor": "white",
            "linecolor": "white",
            "ticks": ""
           },
           "baxis": {
            "gridcolor": "white",
            "linecolor": "white",
            "ticks": ""
           },
           "bgcolor": "#E5ECF6",
           "caxis": {
            "gridcolor": "white",
            "linecolor": "white",
            "ticks": ""
           }
          },
          "title": {
           "x": 0.05
          },
          "xaxis": {
           "automargin": true,
           "gridcolor": "white",
           "linecolor": "white",
           "ticks": "",
           "title": {
            "standoff": 15
           },
           "zerolinecolor": "white",
           "zerolinewidth": 2
          },
          "yaxis": {
           "automargin": true,
           "gridcolor": "white",
           "linecolor": "white",
           "ticks": "",
           "title": {
            "standoff": 15
           },
           "zerolinecolor": "white",
           "zerolinewidth": 2
          }
         }
        },
        "title": {
         "font": {
          "size": 22
         },
         "text": "Seasonal Trends of Rabies Events",
         "x": 0.5
        },
        "xaxis": {
         "anchor": "y",
         "domain": [
          0,
          1
         ],
         "gridcolor": "lightgrey",
         "showgrid": true,
         "tickmode": "array",
         "ticktext": [
          "Jan",
          "Feb",
          "Mar",
          "Apr",
          "May",
          "Jun",
          "Jul",
          "Aug",
          "Sep",
          "Oct",
          "Nov",
          "Dec"
         ],
         "tickvals": [
          0,
          1,
          2,
          3,
          4,
          5,
          6,
          7,
          8,
          9,
          10,
          11
         ],
         "title": {
          "text": "Month"
         }
        },
        "yaxis": {
         "anchor": "x",
         "domain": [
          0,
          1
         ],
         "gridcolor": "lightgrey",
         "showgrid": true,
         "title": {
          "text": "Number of Events"
         }
        }
       }
      }
     },
     "metadata": {},
     "output_type": "display_data"
    }
   ],
   "source": [
    "# Count the number of events per month aggregated over all years\n",
    "seasonal_trends = df_rabies_raw.groupby('Month').size().reset_index(name='Counts')\n",
    "\n",
    "# Convert month numbers to month names\n",
    "seasonal_trends['Month'] = seasonal_trends['Month'].apply(lambda x: month_names[x-1])\n",
    "\n",
    "# Create the line plot\n",
    "fig = px.line(seasonal_trends, \n",
    "              x='Month', \n",
    "              y='Counts', \n",
    "              title='Seasonal Trends of Rabies Events',\n",
    "              labels={'Counts': 'Number of Events'},\n",
    "              markers=True,\n",
    "              color_discrete_sequence=['#636EFA'])\n",
    "\n",
    "# Update layout\n",
    "fig.update_layout(\n",
    "    xaxis_title='Month',\n",
    "    yaxis_title='Number of Events',\n",
    "    title_x=0.5,\n",
    "    title_font=dict(size=22),\n",
    "    xaxis=dict(showgrid=True, gridcolor='lightgrey', tickmode='array', tickvals=list(range(12)), ticktext=month_names),\n",
    "    yaxis=dict(showgrid=True, gridcolor='lightgrey')\n",
    ")\n",
    "\n",
    "# Save the interactive plot to an HTML file\n",
    "html_content = fig.to_html(include_plotlyjs='cdn', full_html=False)\n",
    "minified_html = htmlmin.minify(html_content, remove_comments=True, reduce_empty_attributes=True)\n",
    "\n",
    "with open(\"../assets/plots/interactive_seasonal_trends_rabies_events.html\", \"w\") as f:\n",
    "    f.write(minified_html)\n",
    "\n",
    "# print(\"Interactive plot saved as HTML file.\")\n",
    "\n",
    "# Show the interactive plot\n",
    "fig.show()"
   ]
  },
  {
   "cell_type": "markdown",
   "id": "038929f5",
   "metadata": {},
   "source": [
    "## Key insights and Conclusions:\n",
    "\n",
    "    Dogs and jackals are the most frequently reported species with Rabies, likely due to their proximity to human habitats and behaviors that increase their risk of exposure to the virus.\n",
    "\n",
    "    The Galil and Golan regions reported the highest number of Rabies cases, possibly due to their rural landscapes and wildlife reservoirs.\n",
    "\n",
    "    Seasonal trends were observed, with higher numbers of cases reported in the colder months, which may be related to animal breeding seasons, changes in behavior, and environmental factors that affect virus survival.\n",
    "    \n",
    "    Visualizations for the year 2023 were also created to compare the current year's data against the historical average, providing a current perspective on the Rabies situation.\n",
    "\n",
    "The findings from this project could be instrumental for public health officials and policymakers in enhancing Rabies surveillance, control measures, and public awareness campaigns, particularly in high-risk areas and periods identified through the analysis."
   ]
  },
  {
   "cell_type": "markdown",
   "id": "7787490b",
   "metadata": {},
   "source": [
    "Thank you for having an EDA exploring experience."
   ]
  }
 ],
 "metadata": {
  "kernelspec": {
   "display_name": "Python 3 (ipykernel)",
   "language": "python",
   "name": "python3"
  },
  "language_info": {
   "codemirror_mode": {
    "name": "ipython",
    "version": 3
   },
   "file_extension": ".py",
   "mimetype": "text/x-python",
   "name": "python",
   "nbconvert_exporter": "python",
   "pygments_lexer": "ipython3",
   "version": "3.12.2"
  }
 },
 "nbformat": 4,
 "nbformat_minor": 5
}